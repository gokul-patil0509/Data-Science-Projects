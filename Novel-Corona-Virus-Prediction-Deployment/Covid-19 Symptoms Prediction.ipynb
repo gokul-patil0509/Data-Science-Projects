{
 "cells": [
  {
   "cell_type": "markdown",
   "metadata": {},
   "source": [
    "# Novel Corona Virus Prediction based on Symptoms"
   ]
  },
  {
   "cell_type": "code",
   "execution_count": 1,
   "metadata": {},
   "outputs": [],
   "source": [
    "# Importing essential libraries\n",
    "import pandas as pd\n",
    "import numpy as np\n",
    "import pickle\n",
    "\n",
    "\n",
    "### Loading the dataset\n",
    "df = pd.read_csv('COVID-19 Symptoms.csv')"
   ]
  },
  {
   "cell_type": "markdown",
   "metadata": {},
   "source": [
    "# Exploring the dataset"
   ]
  },
  {
   "cell_type": "code",
   "execution_count": 2,
   "metadata": {},
   "outputs": [
    {
     "data": {
      "text/html": [
       "<div>\n",
       "<style scoped>\n",
       "    .dataframe tbody tr th:only-of-type {\n",
       "        vertical-align: middle;\n",
       "    }\n",
       "\n",
       "    .dataframe tbody tr th {\n",
       "        vertical-align: top;\n",
       "    }\n",
       "\n",
       "    .dataframe thead th {\n",
       "        text-align: right;\n",
       "    }\n",
       "</style>\n",
       "<table border=\"1\" class=\"dataframe\">\n",
       "  <thead>\n",
       "    <tr style=\"text-align: right;\">\n",
       "      <th></th>\n",
       "      <th>Sno</th>\n",
       "      <th>age</th>\n",
       "      <th>gender</th>\n",
       "      <th>body temperature</th>\n",
       "      <th>Dry_Cough</th>\n",
       "      <th>sour_throat</th>\n",
       "      <th>weakness</th>\n",
       "      <th>breathing_problem</th>\n",
       "      <th>drowsiness</th>\n",
       "      <th>pain in chest</th>\n",
       "      <th>...</th>\n",
       "      <th>diabetes</th>\n",
       "      <th>heart_disease</th>\n",
       "      <th>lung_disease</th>\n",
       "      <th>stroke or reduced immunity</th>\n",
       "      <th>symptoms progressed</th>\n",
       "      <th>high blood pressue</th>\n",
       "      <th>kidney_disease</th>\n",
       "      <th>change in appetide</th>\n",
       "      <th>Loss of sense of smell</th>\n",
       "      <th>Corona result</th>\n",
       "    </tr>\n",
       "  </thead>\n",
       "  <tbody>\n",
       "    <tr>\n",
       "      <th>0</th>\n",
       "      <td>1</td>\n",
       "      <td>20</td>\n",
       "      <td>Male</td>\n",
       "      <td>98.6</td>\n",
       "      <td>No</td>\n",
       "      <td>No</td>\n",
       "      <td>No</td>\n",
       "      <td>No</td>\n",
       "      <td>No</td>\n",
       "      <td>No</td>\n",
       "      <td>...</td>\n",
       "      <td>No</td>\n",
       "      <td>No</td>\n",
       "      <td>No</td>\n",
       "      <td>No</td>\n",
       "      <td>No</td>\n",
       "      <td>No</td>\n",
       "      <td>No</td>\n",
       "      <td>No</td>\n",
       "      <td>No</td>\n",
       "      <td>0</td>\n",
       "    </tr>\n",
       "    <tr>\n",
       "      <th>1</th>\n",
       "      <td>2</td>\n",
       "      <td>19</td>\n",
       "      <td>Male</td>\n",
       "      <td>99.0</td>\n",
       "      <td>Yes</td>\n",
       "      <td>No</td>\n",
       "      <td>No</td>\n",
       "      <td>No</td>\n",
       "      <td>No</td>\n",
       "      <td>No</td>\n",
       "      <td>...</td>\n",
       "      <td>No</td>\n",
       "      <td>No</td>\n",
       "      <td>No</td>\n",
       "      <td>No</td>\n",
       "      <td>No</td>\n",
       "      <td>No</td>\n",
       "      <td>No</td>\n",
       "      <td>No</td>\n",
       "      <td>No</td>\n",
       "      <td>0</td>\n",
       "    </tr>\n",
       "    <tr>\n",
       "      <th>2</th>\n",
       "      <td>3</td>\n",
       "      <td>55</td>\n",
       "      <td>Female</td>\n",
       "      <td>102.0</td>\n",
       "      <td>Yes</td>\n",
       "      <td>Yes</td>\n",
       "      <td>Yes</td>\n",
       "      <td>Yes</td>\n",
       "      <td>Yes</td>\n",
       "      <td>Yes</td>\n",
       "      <td>...</td>\n",
       "      <td>No</td>\n",
       "      <td>No</td>\n",
       "      <td>No</td>\n",
       "      <td>No</td>\n",
       "      <td>No</td>\n",
       "      <td>No</td>\n",
       "      <td>No</td>\n",
       "      <td>Yes</td>\n",
       "      <td>No</td>\n",
       "      <td>1</td>\n",
       "    </tr>\n",
       "    <tr>\n",
       "      <th>3</th>\n",
       "      <td>4</td>\n",
       "      <td>40</td>\n",
       "      <td>Female</td>\n",
       "      <td>100.0</td>\n",
       "      <td>No</td>\n",
       "      <td>No</td>\n",
       "      <td>No</td>\n",
       "      <td>No</td>\n",
       "      <td>Yes</td>\n",
       "      <td>Yes</td>\n",
       "      <td>...</td>\n",
       "      <td>Yes</td>\n",
       "      <td>No</td>\n",
       "      <td>No</td>\n",
       "      <td>No</td>\n",
       "      <td>Yes</td>\n",
       "      <td>Yes</td>\n",
       "      <td>No</td>\n",
       "      <td>Yes</td>\n",
       "      <td>No</td>\n",
       "      <td>2</td>\n",
       "    </tr>\n",
       "    <tr>\n",
       "      <th>4</th>\n",
       "      <td>5</td>\n",
       "      <td>33</td>\n",
       "      <td>Male</td>\n",
       "      <td>99.2</td>\n",
       "      <td>No</td>\n",
       "      <td>Yes</td>\n",
       "      <td>No</td>\n",
       "      <td>Yes</td>\n",
       "      <td>No</td>\n",
       "      <td>No</td>\n",
       "      <td>...</td>\n",
       "      <td>No</td>\n",
       "      <td>No</td>\n",
       "      <td>Yes</td>\n",
       "      <td>Yes</td>\n",
       "      <td>Yes</td>\n",
       "      <td>No</td>\n",
       "      <td>No</td>\n",
       "      <td>No</td>\n",
       "      <td>Yes</td>\n",
       "      <td>2</td>\n",
       "    </tr>\n",
       "  </tbody>\n",
       "</table>\n",
       "<p>5 rows × 21 columns</p>\n",
       "</div>"
      ],
      "text/plain": [
       "   Sno  age  gender  body temperature Dry_Cough sour_throat weakness  \\\n",
       "0    1   20    Male              98.6        No          No       No   \n",
       "1    2   19    Male              99.0       Yes          No       No   \n",
       "2    3   55  Female             102.0       Yes         Yes      Yes   \n",
       "3    4   40  Female             100.0        No          No       No   \n",
       "4    5   33    Male              99.2        No         Yes       No   \n",
       "\n",
       "  breathing_problem drowsiness pain in chest  ... diabetes heart_disease  \\\n",
       "0                No         No            No  ...       No            No   \n",
       "1                No         No            No  ...       No            No   \n",
       "2               Yes        Yes           Yes  ...       No            No   \n",
       "3                No        Yes           Yes  ...      Yes            No   \n",
       "4               Yes         No            No  ...       No            No   \n",
       "\n",
       "  lung_disease stroke or reduced immunity symptoms progressed  \\\n",
       "0           No                         No                  No   \n",
       "1           No                         No                  No   \n",
       "2           No                         No                  No   \n",
       "3           No                         No                 Yes   \n",
       "4          Yes                        Yes                 Yes   \n",
       "\n",
       "  high blood pressue kidney_disease change in appetide Loss of sense of smell  \\\n",
       "0                 No             No                 No                     No   \n",
       "1                 No             No                 No                     No   \n",
       "2                 No             No                Yes                     No   \n",
       "3                Yes             No                Yes                     No   \n",
       "4                 No             No                 No                    Yes   \n",
       "\n",
       "  Corona result  \n",
       "0             0  \n",
       "1             0  \n",
       "2             1  \n",
       "3             2  \n",
       "4             2  \n",
       "\n",
       "[5 rows x 21 columns]"
      ]
     },
     "execution_count": 2,
     "metadata": {},
     "output_type": "execute_result"
    }
   ],
   "source": [
    "# Returns the first x number of rows when head(num). Without a number it returns 5\n",
    "df.head()"
   ]
  },
  {
   "cell_type": "code",
   "execution_count": 3,
   "metadata": {},
   "outputs": [
    {
     "data": {
      "text/plain": [
       "(127, 21)"
      ]
     },
     "execution_count": 3,
     "metadata": {},
     "output_type": "execute_result"
    }
   ],
   "source": [
    "# Returns number of rows and columns of the dataset\n",
    "df.shape"
   ]
  },
  {
   "cell_type": "code",
   "execution_count": 4,
   "metadata": {},
   "outputs": [
    {
     "data": {
      "text/plain": [
       "Sno                                int64\n",
       "age                                int64\n",
       "gender                            object\n",
       "body temperature                 float64\n",
       "Dry_Cough                         object\n",
       "sour_throat                       object\n",
       "weakness                          object\n",
       "breathing_problem                 object\n",
       "drowsiness                        object\n",
       "pain in chest                     object\n",
       "in contact to infected people     object\n",
       "diabetes                          object\n",
       "heart_disease                     object\n",
       "lung_disease                      object\n",
       "stroke or reduced immunity        object\n",
       "symptoms progressed               object\n",
       "high blood pressue                object\n",
       "kidney_disease                    object\n",
       "change in appetide                object\n",
       "Loss of sense of smell            object\n",
       "Corona result                      int64\n",
       "dtype: object"
      ]
     },
     "execution_count": 4,
     "metadata": {},
     "output_type": "execute_result"
    }
   ],
   "source": [
    "# Returns different datatypes for each columns (float, int, string, bool, etc.)\n",
    "df.dtypes"
   ]
  },
  {
   "cell_type": "code",
   "execution_count": 5,
   "metadata": {},
   "outputs": [
    {
     "name": "stdout",
     "output_type": "stream",
     "text": [
      "<class 'pandas.core.frame.DataFrame'>\n",
      "RangeIndex: 127 entries, 0 to 126\n",
      "Data columns (total 21 columns):\n",
      " #   Column                         Non-Null Count  Dtype  \n",
      "---  ------                         --------------  -----  \n",
      " 0   Sno                            127 non-null    int64  \n",
      " 1   age                            127 non-null    int64  \n",
      " 2   gender                         127 non-null    object \n",
      " 3   body temperature               127 non-null    float64\n",
      " 4   Dry_Cough                      127 non-null    object \n",
      " 5   sour_throat                    127 non-null    object \n",
      " 6   weakness                       127 non-null    object \n",
      " 7   breathing_problem              127 non-null    object \n",
      " 8   drowsiness                     127 non-null    object \n",
      " 9   pain in chest                  127 non-null    object \n",
      " 10  in contact to infected people  127 non-null    object \n",
      " 11  diabetes                       127 non-null    object \n",
      " 12  heart_disease                  127 non-null    object \n",
      " 13  lung_disease                   127 non-null    object \n",
      " 14  stroke or reduced immunity     127 non-null    object \n",
      " 15  symptoms progressed            127 non-null    object \n",
      " 16  high blood pressue             127 non-null    object \n",
      " 17  kidney_disease                 127 non-null    object \n",
      " 18  change in appetide             127 non-null    object \n",
      " 19  Loss of sense of smell         127 non-null    object \n",
      " 20  Corona result                  127 non-null    int64  \n",
      "dtypes: float64(1), int64(3), object(17)\n",
      "memory usage: 21.0+ KB\n"
     ]
    }
   ],
   "source": [
    "# Returns basic information on all columns\n",
    "df.info()"
   ]
  },
  {
   "cell_type": "code",
   "execution_count": 6,
   "metadata": {},
   "outputs": [
    {
     "data": {
      "text/plain": [
       "Sno                              0\n",
       "age                              0\n",
       "gender                           0\n",
       "body temperature                 0\n",
       "Dry_Cough                        0\n",
       "sour_throat                      0\n",
       "weakness                         0\n",
       "breathing_problem                0\n",
       "drowsiness                       0\n",
       "pain in chest                    0\n",
       "in contact to infected people    0\n",
       "diabetes                         0\n",
       "heart_disease                    0\n",
       "lung_disease                     0\n",
       "stroke or reduced immunity       0\n",
       "symptoms progressed              0\n",
       "high blood pressue               0\n",
       "kidney_disease                   0\n",
       "change in appetide               0\n",
       "Loss of sense of smell           0\n",
       "Corona result                    0\n",
       "dtype: int64"
      ]
     },
     "execution_count": 6,
     "metadata": {},
     "output_type": "execute_result"
    }
   ],
   "source": [
    "# Returns a column having null values\n",
    "df.isnull().sum()"
   ]
  },
  {
   "cell_type": "code",
   "execution_count": 7,
   "metadata": {},
   "outputs": [
    {
     "data": {
      "text/plain": [
       "Index(['Sno', 'age', 'gender', 'body temperature', 'Dry_Cough', 'sour_throat',\n",
       "       'weakness', 'breathing_problem', 'drowsiness', 'pain in chest',\n",
       "       'in contact to infected people', 'diabetes', 'heart_disease',\n",
       "       'lung_disease', 'stroke or reduced immunity', 'symptoms progressed',\n",
       "       'high blood pressue', 'kidney_disease', 'change in appetide',\n",
       "       'Loss of sense of smell', 'Corona result'],\n",
       "      dtype='object')"
      ]
     },
     "execution_count": 7,
     "metadata": {},
     "output_type": "execute_result"
    }
   ],
   "source": [
    "# Returns an object with all of the column headers \n",
    "df.columns"
   ]
  },
  {
   "cell_type": "code",
   "execution_count": 8,
   "metadata": {},
   "outputs": [
    {
     "name": "stdout",
     "output_type": "stream",
     "text": [
      "['Male' 'Female']\n",
      "['No' 'Yes']\n",
      "['No' 'Yes']\n",
      "['No' 'Yes']\n",
      "['No' 'Yes']\n",
      "['No' 'Yes']\n",
      "['No' 'Yes']\n",
      "['No' 'Yes']\n",
      "['No' 'Yes']\n",
      "['No' 'Yes']\n",
      "['No' 'Yes']\n",
      "['No' 'Yes']\n",
      "['No' 'Yes']\n",
      "[0 1 2]\n"
     ]
    }
   ],
   "source": [
    "print(df['gender'].unique())\n",
    "print(df['Dry_Cough'].unique())\n",
    "print(df['sour_throat'].unique())\n",
    "print(df['weakness'].unique())\n",
    "print(df['breathing_problem'].unique())\n",
    "print(df['pain in chest'].unique())\n",
    "print(df['in contact to infected people'].unique())\n",
    "print(df['diabetes'].unique())\n",
    "print(df['heart_disease'].unique())\n",
    "print(df['lung_disease'].unique())\n",
    "print(df['high blood pressue'].unique())\n",
    "print(df['kidney_disease'].unique())\n",
    "print(df['Loss of sense of smell'].unique())\n",
    "print(df['Corona result'].unique())"
   ]
  },
  {
   "cell_type": "code",
   "execution_count": 9,
   "metadata": {},
   "outputs": [],
   "source": [
    "# Rearranging coloumns\n",
    "df = df[['Corona result', 'age', 'gender', 'body temperature', 'Dry_Cough', 'sour_throat', 'weakness', 'breathing_problem', 'pain in chest',\n",
    "         'in contact to infected people', 'diabetes', 'heart_disease', 'lung_disease', 'high blood pressue', 'kidney_disease']]"
   ]
  },
  {
   "cell_type": "code",
   "execution_count": 10,
   "metadata": {},
   "outputs": [
    {
     "data": {
      "text/html": [
       "<div>\n",
       "<style scoped>\n",
       "    .dataframe tbody tr th:only-of-type {\n",
       "        vertical-align: middle;\n",
       "    }\n",
       "\n",
       "    .dataframe tbody tr th {\n",
       "        vertical-align: top;\n",
       "    }\n",
       "\n",
       "    .dataframe thead th {\n",
       "        text-align: right;\n",
       "    }\n",
       "</style>\n",
       "<table border=\"1\" class=\"dataframe\">\n",
       "  <thead>\n",
       "    <tr style=\"text-align: right;\">\n",
       "      <th></th>\n",
       "      <th>Corona result</th>\n",
       "      <th>age</th>\n",
       "      <th>gender</th>\n",
       "      <th>body temperature</th>\n",
       "      <th>Dry_Cough</th>\n",
       "      <th>sour_throat</th>\n",
       "      <th>weakness</th>\n",
       "      <th>breathing_problem</th>\n",
       "      <th>pain in chest</th>\n",
       "      <th>in contact to infected people</th>\n",
       "      <th>diabetes</th>\n",
       "      <th>heart_disease</th>\n",
       "      <th>lung_disease</th>\n",
       "      <th>high blood pressue</th>\n",
       "      <th>kidney_disease</th>\n",
       "    </tr>\n",
       "  </thead>\n",
       "  <tbody>\n",
       "    <tr>\n",
       "      <th>0</th>\n",
       "      <td>0</td>\n",
       "      <td>20</td>\n",
       "      <td>Male</td>\n",
       "      <td>98.6</td>\n",
       "      <td>No</td>\n",
       "      <td>No</td>\n",
       "      <td>No</td>\n",
       "      <td>No</td>\n",
       "      <td>No</td>\n",
       "      <td>No</td>\n",
       "      <td>No</td>\n",
       "      <td>No</td>\n",
       "      <td>No</td>\n",
       "      <td>No</td>\n",
       "      <td>No</td>\n",
       "    </tr>\n",
       "    <tr>\n",
       "      <th>1</th>\n",
       "      <td>0</td>\n",
       "      <td>19</td>\n",
       "      <td>Male</td>\n",
       "      <td>99.0</td>\n",
       "      <td>Yes</td>\n",
       "      <td>No</td>\n",
       "      <td>No</td>\n",
       "      <td>No</td>\n",
       "      <td>No</td>\n",
       "      <td>No</td>\n",
       "      <td>No</td>\n",
       "      <td>No</td>\n",
       "      <td>No</td>\n",
       "      <td>No</td>\n",
       "      <td>No</td>\n",
       "    </tr>\n",
       "    <tr>\n",
       "      <th>2</th>\n",
       "      <td>1</td>\n",
       "      <td>55</td>\n",
       "      <td>Female</td>\n",
       "      <td>102.0</td>\n",
       "      <td>Yes</td>\n",
       "      <td>Yes</td>\n",
       "      <td>Yes</td>\n",
       "      <td>Yes</td>\n",
       "      <td>Yes</td>\n",
       "      <td>No</td>\n",
       "      <td>No</td>\n",
       "      <td>No</td>\n",
       "      <td>No</td>\n",
       "      <td>No</td>\n",
       "      <td>No</td>\n",
       "    </tr>\n",
       "    <tr>\n",
       "      <th>3</th>\n",
       "      <td>2</td>\n",
       "      <td>40</td>\n",
       "      <td>Female</td>\n",
       "      <td>100.0</td>\n",
       "      <td>No</td>\n",
       "      <td>No</td>\n",
       "      <td>No</td>\n",
       "      <td>No</td>\n",
       "      <td>Yes</td>\n",
       "      <td>Yes</td>\n",
       "      <td>Yes</td>\n",
       "      <td>No</td>\n",
       "      <td>No</td>\n",
       "      <td>Yes</td>\n",
       "      <td>No</td>\n",
       "    </tr>\n",
       "    <tr>\n",
       "      <th>4</th>\n",
       "      <td>2</td>\n",
       "      <td>33</td>\n",
       "      <td>Male</td>\n",
       "      <td>99.2</td>\n",
       "      <td>No</td>\n",
       "      <td>Yes</td>\n",
       "      <td>No</td>\n",
       "      <td>Yes</td>\n",
       "      <td>No</td>\n",
       "      <td>Yes</td>\n",
       "      <td>No</td>\n",
       "      <td>No</td>\n",
       "      <td>Yes</td>\n",
       "      <td>No</td>\n",
       "      <td>No</td>\n",
       "    </tr>\n",
       "  </tbody>\n",
       "</table>\n",
       "</div>"
      ],
      "text/plain": [
       "   Corona result  age  gender  body temperature Dry_Cough sour_throat  \\\n",
       "0              0   20    Male              98.6        No          No   \n",
       "1              0   19    Male              99.0       Yes          No   \n",
       "2              1   55  Female             102.0       Yes         Yes   \n",
       "3              2   40  Female             100.0        No          No   \n",
       "4              2   33    Male              99.2        No         Yes   \n",
       "\n",
       "  weakness breathing_problem pain in chest in contact to infected people  \\\n",
       "0       No                No            No                            No   \n",
       "1       No                No            No                            No   \n",
       "2      Yes               Yes           Yes                            No   \n",
       "3       No                No           Yes                           Yes   \n",
       "4       No               Yes            No                           Yes   \n",
       "\n",
       "  diabetes heart_disease lung_disease high blood pressue kidney_disease  \n",
       "0       No            No           No                 No             No  \n",
       "1       No            No           No                 No             No  \n",
       "2       No            No           No                 No             No  \n",
       "3      Yes            No           No                Yes             No  \n",
       "4       No            No          Yes                 No             No  "
      ]
     },
     "execution_count": 10,
     "metadata": {},
     "output_type": "execute_result"
    }
   ],
   "source": [
    "df.head()"
   ]
  },
  {
   "cell_type": "code",
   "execution_count": 11,
   "metadata": {},
   "outputs": [
    {
     "data": {
      "text/plain": [
       "(127, 15)"
      ]
     },
     "execution_count": 11,
     "metadata": {},
     "output_type": "execute_result"
    }
   ],
   "source": [
    "df.shape"
   ]
  },
  {
   "cell_type": "markdown",
   "metadata": {},
   "source": [
    "# Data Cleaning"
   ]
  },
  {
   "cell_type": "code",
   "execution_count": 12,
   "metadata": {},
   "outputs": [],
   "source": [
    "# Renaming pain in chest as PIC, in contact to infected people as ICTIP and high blood pressue as HBP\n",
    "df = df.rename(columns={'pain in chest':'PIC', 'in contact to infected people':'ICTIP', 'high blood pressue':'HBP'})"
   ]
  },
  {
   "cell_type": "code",
   "execution_count": 13,
   "metadata": {},
   "outputs": [
    {
     "data": {
      "text/html": [
       "<div>\n",
       "<style scoped>\n",
       "    .dataframe tbody tr th:only-of-type {\n",
       "        vertical-align: middle;\n",
       "    }\n",
       "\n",
       "    .dataframe tbody tr th {\n",
       "        vertical-align: top;\n",
       "    }\n",
       "\n",
       "    .dataframe thead th {\n",
       "        text-align: right;\n",
       "    }\n",
       "</style>\n",
       "<table border=\"1\" class=\"dataframe\">\n",
       "  <thead>\n",
       "    <tr style=\"text-align: right;\">\n",
       "      <th></th>\n",
       "      <th>Corona result</th>\n",
       "      <th>age</th>\n",
       "      <th>gender</th>\n",
       "      <th>body temperature</th>\n",
       "      <th>Dry_Cough</th>\n",
       "      <th>sour_throat</th>\n",
       "      <th>weakness</th>\n",
       "      <th>breathing_problem</th>\n",
       "      <th>PIC</th>\n",
       "      <th>ICTIP</th>\n",
       "      <th>diabetes</th>\n",
       "      <th>heart_disease</th>\n",
       "      <th>lung_disease</th>\n",
       "      <th>HBP</th>\n",
       "      <th>kidney_disease</th>\n",
       "    </tr>\n",
       "  </thead>\n",
       "  <tbody>\n",
       "    <tr>\n",
       "      <th>0</th>\n",
       "      <td>0</td>\n",
       "      <td>20</td>\n",
       "      <td>Male</td>\n",
       "      <td>98.6</td>\n",
       "      <td>No</td>\n",
       "      <td>No</td>\n",
       "      <td>No</td>\n",
       "      <td>No</td>\n",
       "      <td>No</td>\n",
       "      <td>No</td>\n",
       "      <td>No</td>\n",
       "      <td>No</td>\n",
       "      <td>No</td>\n",
       "      <td>No</td>\n",
       "      <td>No</td>\n",
       "    </tr>\n",
       "    <tr>\n",
       "      <th>1</th>\n",
       "      <td>0</td>\n",
       "      <td>19</td>\n",
       "      <td>Male</td>\n",
       "      <td>99.0</td>\n",
       "      <td>Yes</td>\n",
       "      <td>No</td>\n",
       "      <td>No</td>\n",
       "      <td>No</td>\n",
       "      <td>No</td>\n",
       "      <td>No</td>\n",
       "      <td>No</td>\n",
       "      <td>No</td>\n",
       "      <td>No</td>\n",
       "      <td>No</td>\n",
       "      <td>No</td>\n",
       "    </tr>\n",
       "    <tr>\n",
       "      <th>2</th>\n",
       "      <td>1</td>\n",
       "      <td>55</td>\n",
       "      <td>Female</td>\n",
       "      <td>102.0</td>\n",
       "      <td>Yes</td>\n",
       "      <td>Yes</td>\n",
       "      <td>Yes</td>\n",
       "      <td>Yes</td>\n",
       "      <td>Yes</td>\n",
       "      <td>No</td>\n",
       "      <td>No</td>\n",
       "      <td>No</td>\n",
       "      <td>No</td>\n",
       "      <td>No</td>\n",
       "      <td>No</td>\n",
       "    </tr>\n",
       "    <tr>\n",
       "      <th>3</th>\n",
       "      <td>2</td>\n",
       "      <td>40</td>\n",
       "      <td>Female</td>\n",
       "      <td>100.0</td>\n",
       "      <td>No</td>\n",
       "      <td>No</td>\n",
       "      <td>No</td>\n",
       "      <td>No</td>\n",
       "      <td>Yes</td>\n",
       "      <td>Yes</td>\n",
       "      <td>Yes</td>\n",
       "      <td>No</td>\n",
       "      <td>No</td>\n",
       "      <td>Yes</td>\n",
       "      <td>No</td>\n",
       "    </tr>\n",
       "    <tr>\n",
       "      <th>4</th>\n",
       "      <td>2</td>\n",
       "      <td>33</td>\n",
       "      <td>Male</td>\n",
       "      <td>99.2</td>\n",
       "      <td>No</td>\n",
       "      <td>Yes</td>\n",
       "      <td>No</td>\n",
       "      <td>Yes</td>\n",
       "      <td>No</td>\n",
       "      <td>Yes</td>\n",
       "      <td>No</td>\n",
       "      <td>No</td>\n",
       "      <td>Yes</td>\n",
       "      <td>No</td>\n",
       "      <td>No</td>\n",
       "    </tr>\n",
       "  </tbody>\n",
       "</table>\n",
       "</div>"
      ],
      "text/plain": [
       "   Corona result  age  gender  body temperature Dry_Cough sour_throat  \\\n",
       "0              0   20    Male              98.6        No          No   \n",
       "1              0   19    Male              99.0       Yes          No   \n",
       "2              1   55  Female             102.0       Yes         Yes   \n",
       "3              2   40  Female             100.0        No          No   \n",
       "4              2   33    Male              99.2        No         Yes   \n",
       "\n",
       "  weakness breathing_problem  PIC ICTIP diabetes heart_disease lung_disease  \\\n",
       "0       No                No   No    No       No            No           No   \n",
       "1       No                No   No    No       No            No           No   \n",
       "2      Yes               Yes  Yes    No       No            No           No   \n",
       "3       No                No  Yes   Yes      Yes            No           No   \n",
       "4       No               Yes   No   Yes       No            No          Yes   \n",
       "\n",
       "   HBP kidney_disease  \n",
       "0   No             No  \n",
       "1   No             No  \n",
       "2   No             No  \n",
       "3  Yes             No  \n",
       "4   No             No  "
      ]
     },
     "execution_count": 13,
     "metadata": {},
     "output_type": "execute_result"
    }
   ],
   "source": [
    "df.head()"
   ]
  },
  {
   "cell_type": "code",
   "execution_count": 14,
   "metadata": {},
   "outputs": [
    {
     "data": {
      "text/html": [
       "<div>\n",
       "<style scoped>\n",
       "    .dataframe tbody tr th:only-of-type {\n",
       "        vertical-align: middle;\n",
       "    }\n",
       "\n",
       "    .dataframe tbody tr th {\n",
       "        vertical-align: top;\n",
       "    }\n",
       "\n",
       "    .dataframe thead th {\n",
       "        text-align: right;\n",
       "    }\n",
       "</style>\n",
       "<table border=\"1\" class=\"dataframe\">\n",
       "  <thead>\n",
       "    <tr style=\"text-align: right;\">\n",
       "      <th></th>\n",
       "      <th>Corona result</th>\n",
       "      <th>age</th>\n",
       "      <th>body temperature</th>\n",
       "    </tr>\n",
       "  </thead>\n",
       "  <tbody>\n",
       "    <tr>\n",
       "      <th>count</th>\n",
       "      <td>127.000000</td>\n",
       "      <td>127.000000</td>\n",
       "      <td>127.000000</td>\n",
       "    </tr>\n",
       "    <tr>\n",
       "      <th>mean</th>\n",
       "      <td>0.937008</td>\n",
       "      <td>36.456693</td>\n",
       "      <td>100.031496</td>\n",
       "    </tr>\n",
       "    <tr>\n",
       "      <th>std</th>\n",
       "      <td>0.675513</td>\n",
       "      <td>14.052484</td>\n",
       "      <td>1.569536</td>\n",
       "    </tr>\n",
       "    <tr>\n",
       "      <th>min</th>\n",
       "      <td>0.000000</td>\n",
       "      <td>18.000000</td>\n",
       "      <td>96.000000</td>\n",
       "    </tr>\n",
       "    <tr>\n",
       "      <th>25%</th>\n",
       "      <td>0.000000</td>\n",
       "      <td>25.500000</td>\n",
       "      <td>98.900000</td>\n",
       "    </tr>\n",
       "    <tr>\n",
       "      <th>50%</th>\n",
       "      <td>1.000000</td>\n",
       "      <td>33.000000</td>\n",
       "      <td>99.700000</td>\n",
       "    </tr>\n",
       "    <tr>\n",
       "      <th>75%</th>\n",
       "      <td>1.000000</td>\n",
       "      <td>45.000000</td>\n",
       "      <td>101.400000</td>\n",
       "    </tr>\n",
       "    <tr>\n",
       "      <th>max</th>\n",
       "      <td>2.000000</td>\n",
       "      <td>80.000000</td>\n",
       "      <td>103.100000</td>\n",
       "    </tr>\n",
       "  </tbody>\n",
       "</table>\n",
       "</div>"
      ],
      "text/plain": [
       "       Corona result         age  body temperature\n",
       "count     127.000000  127.000000        127.000000\n",
       "mean        0.937008   36.456693        100.031496\n",
       "std         0.675513   14.052484          1.569536\n",
       "min         0.000000   18.000000         96.000000\n",
       "25%         0.000000   25.500000         98.900000\n",
       "50%         1.000000   33.000000         99.700000\n",
       "75%         1.000000   45.000000        101.400000\n",
       "max         2.000000   80.000000        103.100000"
      ]
     },
     "execution_count": 14,
     "metadata": {},
     "output_type": "execute_result"
    }
   ],
   "source": [
    "df.describe()"
   ]
  },
  {
   "cell_type": "code",
   "execution_count": 15,
   "metadata": {},
   "outputs": [],
   "source": [
    "# Importing essential libraries for visualization\n",
    "import seaborn as sns\n",
    "import matplotlib.pyplot as plt\n",
    "%matplotlib inline"
   ]
  },
  {
   "cell_type": "code",
   "execution_count": 16,
   "metadata": {},
   "outputs": [
    {
     "data": {
      "image/png": "[encoded data removed]",
      "text/plain": [
       "<Figure size 720x504 with 1 Axes>"
      ]
     },
     "metadata": {
      "needs_background": "light"
     },
     "output_type": "display_data"
    }
   ],
   "source": [
    "# Plotting the Outcomes based on the number of dataset entries\n",
    "plt.figure(figsize=(10,7))\n",
    "sns.countplot(x='Corona result', data=df)\n",
    "\n",
    "# Removing the unwanted spines\n",
    "plt.gca().spines['top'].set_visible(False)\n",
    "plt.gca().spines['right'].set_visible(False)\n",
    "\n",
    "# Headings\n",
    "plt.xlabel('Has Corona Virus')\n",
    "plt.ylabel('Count')\n",
    "\n",
    "plt.show()"
   ]
  },
  {
   "cell_type": "code",
   "execution_count": 17,
   "metadata": {},
   "outputs": [],
   "source": [
    "# --- Data Preprocessing ---\n",
    "# Converting categorical features using OneHotEncoding method\n",
    "df = pd.get_dummies(df,drop_first=True)"
   ]
  },
  {
   "cell_type": "code",
   "execution_count": 18,
   "metadata": {},
   "outputs": [
    {
     "data": {
      "text/html": [
       "<div>\n",
       "<style scoped>\n",
       "    .dataframe tbody tr th:only-of-type {\n",
       "        vertical-align: middle;\n",
       "    }\n",
       "\n",
       "    .dataframe tbody tr th {\n",
       "        vertical-align: top;\n",
       "    }\n",
       "\n",
       "    .dataframe thead th {\n",
       "        text-align: right;\n",
       "    }\n",
       "</style>\n",
       "<table border=\"1\" class=\"dataframe\">\n",
       "  <thead>\n",
       "    <tr style=\"text-align: right;\">\n",
       "      <th></th>\n",
       "      <th>Corona result</th>\n",
       "      <th>age</th>\n",
       "      <th>body temperature</th>\n",
       "      <th>gender_Male</th>\n",
       "      <th>Dry_Cough_Yes</th>\n",
       "      <th>sour_throat_Yes</th>\n",
       "      <th>weakness_Yes</th>\n",
       "      <th>breathing_problem_Yes</th>\n",
       "      <th>PIC_Yes</th>\n",
       "      <th>ICTIP_Yes</th>\n",
       "      <th>diabetes_Yes</th>\n",
       "      <th>heart_disease_Yes</th>\n",
       "      <th>lung_disease_Yes</th>\n",
       "      <th>HBP_Yes</th>\n",
       "      <th>kidney_disease_Yes</th>\n",
       "    </tr>\n",
       "  </thead>\n",
       "  <tbody>\n",
       "    <tr>\n",
       "      <th>0</th>\n",
       "      <td>0</td>\n",
       "      <td>20</td>\n",
       "      <td>98.6</td>\n",
       "      <td>1</td>\n",
       "      <td>0</td>\n",
       "      <td>0</td>\n",
       "      <td>0</td>\n",
       "      <td>0</td>\n",
       "      <td>0</td>\n",
       "      <td>0</td>\n",
       "      <td>0</td>\n",
       "      <td>0</td>\n",
       "      <td>0</td>\n",
       "      <td>0</td>\n",
       "      <td>0</td>\n",
       "    </tr>\n",
       "    <tr>\n",
       "      <th>1</th>\n",
       "      <td>0</td>\n",
       "      <td>19</td>\n",
       "      <td>99.0</td>\n",
       "      <td>1</td>\n",
       "      <td>1</td>\n",
       "      <td>0</td>\n",
       "      <td>0</td>\n",
       "      <td>0</td>\n",
       "      <td>0</td>\n",
       "      <td>0</td>\n",
       "      <td>0</td>\n",
       "      <td>0</td>\n",
       "      <td>0</td>\n",
       "      <td>0</td>\n",
       "      <td>0</td>\n",
       "    </tr>\n",
       "    <tr>\n",
       "      <th>2</th>\n",
       "      <td>1</td>\n",
       "      <td>55</td>\n",
       "      <td>102.0</td>\n",
       "      <td>0</td>\n",
       "      <td>1</td>\n",
       "      <td>1</td>\n",
       "      <td>1</td>\n",
       "      <td>1</td>\n",
       "      <td>1</td>\n",
       "      <td>0</td>\n",
       "      <td>0</td>\n",
       "      <td>0</td>\n",
       "      <td>0</td>\n",
       "      <td>0</td>\n",
       "      <td>0</td>\n",
       "    </tr>\n",
       "    <tr>\n",
       "      <th>3</th>\n",
       "      <td>2</td>\n",
       "      <td>40</td>\n",
       "      <td>100.0</td>\n",
       "      <td>0</td>\n",
       "      <td>0</td>\n",
       "      <td>0</td>\n",
       "      <td>0</td>\n",
       "      <td>0</td>\n",
       "      <td>1</td>\n",
       "      <td>1</td>\n",
       "      <td>1</td>\n",
       "      <td>0</td>\n",
       "      <td>0</td>\n",
       "      <td>1</td>\n",
       "      <td>0</td>\n",
       "    </tr>\n",
       "    <tr>\n",
       "      <th>4</th>\n",
       "      <td>2</td>\n",
       "      <td>33</td>\n",
       "      <td>99.2</td>\n",
       "      <td>1</td>\n",
       "      <td>0</td>\n",
       "      <td>1</td>\n",
       "      <td>0</td>\n",
       "      <td>1</td>\n",
       "      <td>0</td>\n",
       "      <td>1</td>\n",
       "      <td>0</td>\n",
       "      <td>0</td>\n",
       "      <td>1</td>\n",
       "      <td>0</td>\n",
       "      <td>0</td>\n",
       "    </tr>\n",
       "  </tbody>\n",
       "</table>\n",
       "</div>"
      ],
      "text/plain": [
       "   Corona result  age  body temperature  gender_Male  Dry_Cough_Yes  \\\n",
       "0              0   20              98.6            1              0   \n",
       "1              0   19              99.0            1              1   \n",
       "2              1   55             102.0            0              1   \n",
       "3              2   40             100.0            0              0   \n",
       "4              2   33              99.2            1              0   \n",
       "\n",
       "   sour_throat_Yes  weakness_Yes  breathing_problem_Yes  PIC_Yes  ICTIP_Yes  \\\n",
       "0                0             0                      0        0          0   \n",
       "1                0             0                      0        0          0   \n",
       "2                1             1                      1        1          0   \n",
       "3                0             0                      0        1          1   \n",
       "4                1             0                      1        0          1   \n",
       "\n",
       "   diabetes_Yes  heart_disease_Yes  lung_disease_Yes  HBP_Yes  \\\n",
       "0             0                  0                 0        0   \n",
       "1             0                  0                 0        0   \n",
       "2             0                  0                 0        0   \n",
       "3             1                  0                 0        1   \n",
       "4             0                  0                 1        0   \n",
       "\n",
       "   kidney_disease_Yes  \n",
       "0                   0  \n",
       "1                   0  \n",
       "2                   0  \n",
       "3                   0  \n",
       "4                   0  "
      ]
     },
     "execution_count": 18,
     "metadata": {},
     "output_type": "execute_result"
    }
   ],
   "source": [
    "df.head()"
   ]
  },
  {
   "cell_type": "code",
   "execution_count": 19,
   "metadata": {},
   "outputs": [
    {
     "data": {
      "text/plain": [
       "(127, 15)"
      ]
     },
     "execution_count": 19,
     "metadata": {},
     "output_type": "execute_result"
    }
   ],
   "source": [
    "df.shape"
   ]
  },
  {
   "cell_type": "code",
   "execution_count": 20,
   "metadata": {},
   "outputs": [
    {
     "data": {
      "text/html": [
       "<div>\n",
       "<style scoped>\n",
       "    .dataframe tbody tr th:only-of-type {\n",
       "        vertical-align: middle;\n",
       "    }\n",
       "\n",
       "    .dataframe tbody tr th {\n",
       "        vertical-align: top;\n",
       "    }\n",
       "\n",
       "    .dataframe thead th {\n",
       "        text-align: right;\n",
       "    }\n",
       "</style>\n",
       "<table border=\"1\" class=\"dataframe\">\n",
       "  <thead>\n",
       "    <tr style=\"text-align: right;\">\n",
       "      <th></th>\n",
       "      <th>Corona result</th>\n",
       "      <th>age</th>\n",
       "      <th>body temperature</th>\n",
       "      <th>gender_Male</th>\n",
       "      <th>Dry_Cough_Yes</th>\n",
       "      <th>sour_throat_Yes</th>\n",
       "      <th>weakness_Yes</th>\n",
       "      <th>breathing_problem_Yes</th>\n",
       "      <th>PIC_Yes</th>\n",
       "      <th>ICTIP_Yes</th>\n",
       "      <th>diabetes_Yes</th>\n",
       "      <th>heart_disease_Yes</th>\n",
       "      <th>lung_disease_Yes</th>\n",
       "      <th>HBP_Yes</th>\n",
       "      <th>kidney_disease_Yes</th>\n",
       "    </tr>\n",
       "  </thead>\n",
       "  <tbody>\n",
       "    <tr>\n",
       "      <th>Corona result</th>\n",
       "      <td>1.000000</td>\n",
       "      <td>0.048202</td>\n",
       "      <td>0.150100</td>\n",
       "      <td>0.052049</td>\n",
       "      <td>0.091434</td>\n",
       "      <td>0.221391</td>\n",
       "      <td>0.173149</td>\n",
       "      <td>0.412471</td>\n",
       "      <td>0.411084</td>\n",
       "      <td>0.462629</td>\n",
       "      <td>0.271150</td>\n",
       "      <td>0.070250</td>\n",
       "      <td>0.272917</td>\n",
       "      <td>0.214682</td>\n",
       "      <td>0.174279</td>\n",
       "    </tr>\n",
       "    <tr>\n",
       "      <th>age</th>\n",
       "      <td>0.048202</td>\n",
       "      <td>1.000000</td>\n",
       "      <td>-0.086586</td>\n",
       "      <td>-0.143779</td>\n",
       "      <td>-0.044245</td>\n",
       "      <td>-0.152654</td>\n",
       "      <td>0.110114</td>\n",
       "      <td>-0.023976</td>\n",
       "      <td>0.042568</td>\n",
       "      <td>-0.125138</td>\n",
       "      <td>0.293150</td>\n",
       "      <td>0.177934</td>\n",
       "      <td>0.272229</td>\n",
       "      <td>0.157974</td>\n",
       "      <td>0.329163</td>\n",
       "    </tr>\n",
       "    <tr>\n",
       "      <th>body temperature</th>\n",
       "      <td>0.150100</td>\n",
       "      <td>-0.086586</td>\n",
       "      <td>1.000000</td>\n",
       "      <td>0.043278</td>\n",
       "      <td>0.130458</td>\n",
       "      <td>0.224760</td>\n",
       "      <td>0.137889</td>\n",
       "      <td>0.109451</td>\n",
       "      <td>0.186931</td>\n",
       "      <td>0.079191</td>\n",
       "      <td>-0.101734</td>\n",
       "      <td>-0.140815</td>\n",
       "      <td>-0.180034</td>\n",
       "      <td>-0.078608</td>\n",
       "      <td>-0.129214</td>\n",
       "    </tr>\n",
       "    <tr>\n",
       "      <th>gender_Male</th>\n",
       "      <td>0.052049</td>\n",
       "      <td>-0.143779</td>\n",
       "      <td>0.043278</td>\n",
       "      <td>1.000000</td>\n",
       "      <td>0.135404</td>\n",
       "      <td>0.033958</td>\n",
       "      <td>-0.174262</td>\n",
       "      <td>0.063160</td>\n",
       "      <td>-0.123977</td>\n",
       "      <td>0.122510</td>\n",
       "      <td>-0.196598</td>\n",
       "      <td>0.036088</td>\n",
       "      <td>-0.022433</td>\n",
       "      <td>-0.104713</td>\n",
       "      <td>-0.137502</td>\n",
       "    </tr>\n",
       "    <tr>\n",
       "      <th>Dry_Cough_Yes</th>\n",
       "      <td>0.091434</td>\n",
       "      <td>-0.044245</td>\n",
       "      <td>0.130458</td>\n",
       "      <td>0.135404</td>\n",
       "      <td>1.000000</td>\n",
       "      <td>0.247883</td>\n",
       "      <td>-0.044394</td>\n",
       "      <td>0.163711</td>\n",
       "      <td>-0.030827</td>\n",
       "      <td>0.132554</td>\n",
       "      <td>0.105107</td>\n",
       "      <td>0.007633</td>\n",
       "      <td>0.009602</td>\n",
       "      <td>-0.020091</td>\n",
       "      <td>0.032420</td>\n",
       "    </tr>\n",
       "    <tr>\n",
       "      <th>sour_throat_Yes</th>\n",
       "      <td>0.221391</td>\n",
       "      <td>-0.152654</td>\n",
       "      <td>0.224760</td>\n",
       "      <td>0.033958</td>\n",
       "      <td>0.247883</td>\n",
       "      <td>1.000000</td>\n",
       "      <td>0.171874</td>\n",
       "      <td>0.277486</td>\n",
       "      <td>0.232619</td>\n",
       "      <td>0.046988</td>\n",
       "      <td>-0.187469</td>\n",
       "      <td>-0.087363</td>\n",
       "      <td>0.094356</td>\n",
       "      <td>-0.205232</td>\n",
       "      <td>0.075781</td>\n",
       "    </tr>\n",
       "    <tr>\n",
       "      <th>weakness_Yes</th>\n",
       "      <td>0.173149</td>\n",
       "      <td>0.110114</td>\n",
       "      <td>0.137889</td>\n",
       "      <td>-0.174262</td>\n",
       "      <td>-0.044394</td>\n",
       "      <td>0.171874</td>\n",
       "      <td>1.000000</td>\n",
       "      <td>0.274054</td>\n",
       "      <td>0.157729</td>\n",
       "      <td>-0.069269</td>\n",
       "      <td>-0.025831</td>\n",
       "      <td>-0.159489</td>\n",
       "      <td>0.166655</td>\n",
       "      <td>0.009232</td>\n",
       "      <td>0.095906</td>\n",
       "    </tr>\n",
       "    <tr>\n",
       "      <th>breathing_problem_Yes</th>\n",
       "      <td>0.412471</td>\n",
       "      <td>-0.023976</td>\n",
       "      <td>0.109451</td>\n",
       "      <td>0.063160</td>\n",
       "      <td>0.163711</td>\n",
       "      <td>0.277486</td>\n",
       "      <td>0.274054</td>\n",
       "      <td>1.000000</td>\n",
       "      <td>0.482027</td>\n",
       "      <td>0.078025</td>\n",
       "      <td>0.095254</td>\n",
       "      <td>-0.065021</td>\n",
       "      <td>0.100453</td>\n",
       "      <td>0.225998</td>\n",
       "      <td>0.029766</td>\n",
       "    </tr>\n",
       "    <tr>\n",
       "      <th>PIC_Yes</th>\n",
       "      <td>0.411084</td>\n",
       "      <td>0.042568</td>\n",
       "      <td>0.186931</td>\n",
       "      <td>-0.123977</td>\n",
       "      <td>-0.030827</td>\n",
       "      <td>0.232619</td>\n",
       "      <td>0.157729</td>\n",
       "      <td>0.482027</td>\n",
       "      <td>1.000000</td>\n",
       "      <td>0.103503</td>\n",
       "      <td>0.171893</td>\n",
       "      <td>-0.136091</td>\n",
       "      <td>-0.030927</td>\n",
       "      <td>0.169247</td>\n",
       "      <td>-0.013954</td>\n",
       "    </tr>\n",
       "    <tr>\n",
       "      <th>ICTIP_Yes</th>\n",
       "      <td>0.462629</td>\n",
       "      <td>-0.125138</td>\n",
       "      <td>0.079191</td>\n",
       "      <td>0.122510</td>\n",
       "      <td>0.132554</td>\n",
       "      <td>0.046988</td>\n",
       "      <td>-0.069269</td>\n",
       "      <td>0.078025</td>\n",
       "      <td>0.103503</td>\n",
       "      <td>1.000000</td>\n",
       "      <td>0.058749</td>\n",
       "      <td>-0.192946</td>\n",
       "      <td>0.074137</td>\n",
       "      <td>0.044685</td>\n",
       "      <td>0.004746</td>\n",
       "    </tr>\n",
       "    <tr>\n",
       "      <th>diabetes_Yes</th>\n",
       "      <td>0.271150</td>\n",
       "      <td>0.293150</td>\n",
       "      <td>-0.101734</td>\n",
       "      <td>-0.196598</td>\n",
       "      <td>0.105107</td>\n",
       "      <td>-0.187469</td>\n",
       "      <td>-0.025831</td>\n",
       "      <td>0.095254</td>\n",
       "      <td>0.171893</td>\n",
       "      <td>0.058749</td>\n",
       "      <td>1.000000</td>\n",
       "      <td>0.255114</td>\n",
       "      <td>0.189539</td>\n",
       "      <td>0.618755</td>\n",
       "      <td>0.207287</td>\n",
       "    </tr>\n",
       "    <tr>\n",
       "      <th>heart_disease_Yes</th>\n",
       "      <td>0.070250</td>\n",
       "      <td>0.177934</td>\n",
       "      <td>-0.140815</td>\n",
       "      <td>0.036088</td>\n",
       "      <td>0.007633</td>\n",
       "      <td>-0.087363</td>\n",
       "      <td>-0.159489</td>\n",
       "      <td>-0.065021</td>\n",
       "      <td>-0.136091</td>\n",
       "      <td>-0.192946</td>\n",
       "      <td>0.255114</td>\n",
       "      <td>1.000000</td>\n",
       "      <td>0.100276</td>\n",
       "      <td>0.214934</td>\n",
       "      <td>0.189240</td>\n",
       "    </tr>\n",
       "    <tr>\n",
       "      <th>lung_disease_Yes</th>\n",
       "      <td>0.272917</td>\n",
       "      <td>0.272229</td>\n",
       "      <td>-0.180034</td>\n",
       "      <td>-0.022433</td>\n",
       "      <td>0.009602</td>\n",
       "      <td>0.094356</td>\n",
       "      <td>0.166655</td>\n",
       "      <td>0.100453</td>\n",
       "      <td>-0.030927</td>\n",
       "      <td>0.074137</td>\n",
       "      <td>0.189539</td>\n",
       "      <td>0.100276</td>\n",
       "      <td>1.000000</td>\n",
       "      <td>0.095060</td>\n",
       "      <td>0.238064</td>\n",
       "    </tr>\n",
       "    <tr>\n",
       "      <th>HBP_Yes</th>\n",
       "      <td>0.214682</td>\n",
       "      <td>0.157974</td>\n",
       "      <td>-0.078608</td>\n",
       "      <td>-0.104713</td>\n",
       "      <td>-0.020091</td>\n",
       "      <td>-0.205232</td>\n",
       "      <td>0.009232</td>\n",
       "      <td>0.225998</td>\n",
       "      <td>0.169247</td>\n",
       "      <td>0.044685</td>\n",
       "      <td>0.618755</td>\n",
       "      <td>0.214934</td>\n",
       "      <td>0.095060</td>\n",
       "      <td>1.000000</td>\n",
       "      <td>0.163226</td>\n",
       "    </tr>\n",
       "    <tr>\n",
       "      <th>kidney_disease_Yes</th>\n",
       "      <td>0.174279</td>\n",
       "      <td>0.329163</td>\n",
       "      <td>-0.129214</td>\n",
       "      <td>-0.137502</td>\n",
       "      <td>0.032420</td>\n",
       "      <td>0.075781</td>\n",
       "      <td>0.095906</td>\n",
       "      <td>0.029766</td>\n",
       "      <td>-0.013954</td>\n",
       "      <td>0.004746</td>\n",
       "      <td>0.207287</td>\n",
       "      <td>0.189240</td>\n",
       "      <td>0.238064</td>\n",
       "      <td>0.163226</td>\n",
       "      <td>1.000000</td>\n",
       "    </tr>\n",
       "  </tbody>\n",
       "</table>\n",
       "</div>"
      ],
      "text/plain": [
       "                       Corona result       age  body temperature  gender_Male  \\\n",
       "Corona result               1.000000  0.048202          0.150100     0.052049   \n",
       "age                         0.048202  1.000000         -0.086586    -0.143779   \n",
       "body temperature            0.150100 -0.086586          1.000000     0.043278   \n",
       "gender_Male                 0.052049 -0.143779          0.043278     1.000000   \n",
       "Dry_Cough_Yes               0.091434 -0.044245          0.130458     0.135404   \n",
       "sour_throat_Yes             0.221391 -0.152654          0.224760     0.033958   \n",
       "weakness_Yes                0.173149  0.110114          0.137889    -0.174262   \n",
       "breathing_problem_Yes       0.412471 -0.023976          0.109451     0.063160   \n",
       "PIC_Yes                     0.411084  0.042568          0.186931    -0.123977   \n",
       "ICTIP_Yes                   0.462629 -0.125138          0.079191     0.122510   \n",
       "diabetes_Yes                0.271150  0.293150         -0.101734    -0.196598   \n",
       "heart_disease_Yes           0.070250  0.177934         -0.140815     0.036088   \n",
       "lung_disease_Yes            0.272917  0.272229         -0.180034    -0.022433   \n",
       "HBP_Yes                     0.214682  0.157974         -0.078608    -0.104713   \n",
       "kidney_disease_Yes          0.174279  0.329163         -0.129214    -0.137502   \n",
       "\n",
       "                       Dry_Cough_Yes  sour_throat_Yes  weakness_Yes  \\\n",
       "Corona result               0.091434         0.221391      0.173149   \n",
       "age                        -0.044245        -0.152654      0.110114   \n",
       "body temperature            0.130458         0.224760      0.137889   \n",
       "gender_Male                 0.135404         0.033958     -0.174262   \n",
       "Dry_Cough_Yes               1.000000         0.247883     -0.044394   \n",
       "sour_throat_Yes             0.247883         1.000000      0.171874   \n",
       "weakness_Yes               -0.044394         0.171874      1.000000   \n",
       "breathing_problem_Yes       0.163711         0.277486      0.274054   \n",
       "PIC_Yes                    -0.030827         0.232619      0.157729   \n",
       "ICTIP_Yes                   0.132554         0.046988     -0.069269   \n",
       "diabetes_Yes                0.105107        -0.187469     -0.025831   \n",
       "heart_disease_Yes           0.007633        -0.087363     -0.159489   \n",
       "lung_disease_Yes            0.009602         0.094356      0.166655   \n",
       "HBP_Yes                    -0.020091        -0.205232      0.009232   \n",
       "kidney_disease_Yes          0.032420         0.075781      0.095906   \n",
       "\n",
       "                       breathing_problem_Yes   PIC_Yes  ICTIP_Yes  \\\n",
       "Corona result                       0.412471  0.411084   0.462629   \n",
       "age                                -0.023976  0.042568  -0.125138   \n",
       "body temperature                    0.109451  0.186931   0.079191   \n",
       "gender_Male                         0.063160 -0.123977   0.122510   \n",
       "Dry_Cough_Yes                       0.163711 -0.030827   0.132554   \n",
       "sour_throat_Yes                     0.277486  0.232619   0.046988   \n",
       "weakness_Yes                        0.274054  0.157729  -0.069269   \n",
       "breathing_problem_Yes               1.000000  0.482027   0.078025   \n",
       "PIC_Yes                             0.482027  1.000000   0.103503   \n",
       "ICTIP_Yes                           0.078025  0.103503   1.000000   \n",
       "diabetes_Yes                        0.095254  0.171893   0.058749   \n",
       "heart_disease_Yes                  -0.065021 -0.136091  -0.192946   \n",
       "lung_disease_Yes                    0.100453 -0.030927   0.074137   \n",
       "HBP_Yes                             0.225998  0.169247   0.044685   \n",
       "kidney_disease_Yes                  0.029766 -0.013954   0.004746   \n",
       "\n",
       "                       diabetes_Yes  heart_disease_Yes  lung_disease_Yes  \\\n",
       "Corona result              0.271150           0.070250          0.272917   \n",
       "age                        0.293150           0.177934          0.272229   \n",
       "body temperature          -0.101734          -0.140815         -0.180034   \n",
       "gender_Male               -0.196598           0.036088         -0.022433   \n",
       "Dry_Cough_Yes              0.105107           0.007633          0.009602   \n",
       "sour_throat_Yes           -0.187469          -0.087363          0.094356   \n",
       "weakness_Yes              -0.025831          -0.159489          0.166655   \n",
       "breathing_problem_Yes      0.095254          -0.065021          0.100453   \n",
       "PIC_Yes                    0.171893          -0.136091         -0.030927   \n",
       "ICTIP_Yes                  0.058749          -0.192946          0.074137   \n",
       "diabetes_Yes               1.000000           0.255114          0.189539   \n",
       "heart_disease_Yes          0.255114           1.000000          0.100276   \n",
       "lung_disease_Yes           0.189539           0.100276          1.000000   \n",
       "HBP_Yes                    0.618755           0.214934          0.095060   \n",
       "kidney_disease_Yes         0.207287           0.189240          0.238064   \n",
       "\n",
       "                        HBP_Yes  kidney_disease_Yes  \n",
       "Corona result          0.214682            0.174279  \n",
       "age                    0.157974            0.329163  \n",
       "body temperature      -0.078608           -0.129214  \n",
       "gender_Male           -0.104713           -0.137502  \n",
       "Dry_Cough_Yes         -0.020091            0.032420  \n",
       "sour_throat_Yes       -0.205232            0.075781  \n",
       "weakness_Yes           0.009232            0.095906  \n",
       "breathing_problem_Yes  0.225998            0.029766  \n",
       "PIC_Yes                0.169247           -0.013954  \n",
       "ICTIP_Yes              0.044685            0.004746  \n",
       "diabetes_Yes           0.618755            0.207287  \n",
       "heart_disease_Yes      0.214934            0.189240  \n",
       "lung_disease_Yes       0.095060            0.238064  \n",
       "HBP_Yes                1.000000            0.163226  \n",
       "kidney_disease_Yes     0.163226            1.000000  "
      ]
     },
     "execution_count": 20,
     "metadata": {},
     "output_type": "execute_result"
    }
   ],
   "source": [
    "# Return correlation in between independent and dependent Features\n",
    "df.corr()"
   ]
  },
  {
   "cell_type": "code",
   "execution_count": 21,
   "metadata": {},
   "outputs": [
    {
     "data": {
      "image/png": "[encoded data removed]",
      "text/plain": [
       "<Figure size 1440x1440 with 2 Axes>"
      ]
     },
     "metadata": {
      "needs_background": "light"
     },
     "output_type": "display_data"
    }
   ],
   "source": [
    "# Selecting correlated features using Heatmap\n",
    "# Get correlation of all the features of the dataset\n",
    "corrmat = df.corr()\n",
    "top_corr_features = corrmat.index\n",
    "plt.figure(figsize=(20,20))\n",
    "g=sns.heatmap(df[top_corr_features].corr(),annot=True,cmap=\"RdYlGn\")"
   ]
  },
  {
   "cell_type": "code",
   "execution_count": 22,
   "metadata": {},
   "outputs": [
    {
     "data": {
      "text/html": [
       "<div>\n",
       "<style scoped>\n",
       "    .dataframe tbody tr th:only-of-type {\n",
       "        vertical-align: middle;\n",
       "    }\n",
       "\n",
       "    .dataframe tbody tr th {\n",
       "        vertical-align: top;\n",
       "    }\n",
       "\n",
       "    .dataframe thead th {\n",
       "        text-align: right;\n",
       "    }\n",
       "</style>\n",
       "<table border=\"1\" class=\"dataframe\">\n",
       "  <thead>\n",
       "    <tr style=\"text-align: right;\">\n",
       "      <th></th>\n",
       "      <th>Corona result</th>\n",
       "      <th>age</th>\n",
       "      <th>body temperature</th>\n",
       "      <th>gender_Male</th>\n",
       "      <th>Dry_Cough_Yes</th>\n",
       "      <th>sour_throat_Yes</th>\n",
       "      <th>weakness_Yes</th>\n",
       "      <th>breathing_problem_Yes</th>\n",
       "      <th>PIC_Yes</th>\n",
       "      <th>ICTIP_Yes</th>\n",
       "      <th>diabetes_Yes</th>\n",
       "      <th>heart_disease_Yes</th>\n",
       "      <th>lung_disease_Yes</th>\n",
       "      <th>HBP_Yes</th>\n",
       "      <th>kidney_disease_Yes</th>\n",
       "    </tr>\n",
       "  </thead>\n",
       "  <tbody>\n",
       "    <tr>\n",
       "      <th>0</th>\n",
       "      <td>0</td>\n",
       "      <td>20</td>\n",
       "      <td>98.6</td>\n",
       "      <td>1</td>\n",
       "      <td>0</td>\n",
       "      <td>0</td>\n",
       "      <td>0</td>\n",
       "      <td>0</td>\n",
       "      <td>0</td>\n",
       "      <td>0</td>\n",
       "      <td>0</td>\n",
       "      <td>0</td>\n",
       "      <td>0</td>\n",
       "      <td>0</td>\n",
       "      <td>0</td>\n",
       "    </tr>\n",
       "    <tr>\n",
       "      <th>1</th>\n",
       "      <td>0</td>\n",
       "      <td>19</td>\n",
       "      <td>99.0</td>\n",
       "      <td>1</td>\n",
       "      <td>1</td>\n",
       "      <td>0</td>\n",
       "      <td>0</td>\n",
       "      <td>0</td>\n",
       "      <td>0</td>\n",
       "      <td>0</td>\n",
       "      <td>0</td>\n",
       "      <td>0</td>\n",
       "      <td>0</td>\n",
       "      <td>0</td>\n",
       "      <td>0</td>\n",
       "    </tr>\n",
       "    <tr>\n",
       "      <th>2</th>\n",
       "      <td>1</td>\n",
       "      <td>55</td>\n",
       "      <td>102.0</td>\n",
       "      <td>0</td>\n",
       "      <td>1</td>\n",
       "      <td>1</td>\n",
       "      <td>1</td>\n",
       "      <td>1</td>\n",
       "      <td>1</td>\n",
       "      <td>0</td>\n",
       "      <td>0</td>\n",
       "      <td>0</td>\n",
       "      <td>0</td>\n",
       "      <td>0</td>\n",
       "      <td>0</td>\n",
       "    </tr>\n",
       "    <tr>\n",
       "      <th>3</th>\n",
       "      <td>2</td>\n",
       "      <td>40</td>\n",
       "      <td>100.0</td>\n",
       "      <td>0</td>\n",
       "      <td>0</td>\n",
       "      <td>0</td>\n",
       "      <td>0</td>\n",
       "      <td>0</td>\n",
       "      <td>1</td>\n",
       "      <td>1</td>\n",
       "      <td>1</td>\n",
       "      <td>0</td>\n",
       "      <td>0</td>\n",
       "      <td>1</td>\n",
       "      <td>0</td>\n",
       "    </tr>\n",
       "    <tr>\n",
       "      <th>4</th>\n",
       "      <td>2</td>\n",
       "      <td>33</td>\n",
       "      <td>99.2</td>\n",
       "      <td>1</td>\n",
       "      <td>0</td>\n",
       "      <td>1</td>\n",
       "      <td>0</td>\n",
       "      <td>1</td>\n",
       "      <td>0</td>\n",
       "      <td>1</td>\n",
       "      <td>0</td>\n",
       "      <td>0</td>\n",
       "      <td>1</td>\n",
       "      <td>0</td>\n",
       "      <td>0</td>\n",
       "    </tr>\n",
       "  </tbody>\n",
       "</table>\n",
       "</div>"
      ],
      "text/plain": [
       "   Corona result  age  body temperature  gender_Male  Dry_Cough_Yes  \\\n",
       "0              0   20              98.6            1              0   \n",
       "1              0   19              99.0            1              1   \n",
       "2              1   55             102.0            0              1   \n",
       "3              2   40             100.0            0              0   \n",
       "4              2   33              99.2            1              0   \n",
       "\n",
       "   sour_throat_Yes  weakness_Yes  breathing_problem_Yes  PIC_Yes  ICTIP_Yes  \\\n",
       "0                0             0                      0        0          0   \n",
       "1                0             0                      0        0          0   \n",
       "2                1             1                      1        1          0   \n",
       "3                0             0                      0        1          1   \n",
       "4                1             0                      1        0          1   \n",
       "\n",
       "   diabetes_Yes  heart_disease_Yes  lung_disease_Yes  HBP_Yes  \\\n",
       "0             0                  0                 0        0   \n",
       "1             0                  0                 0        0   \n",
       "2             0                  0                 0        0   \n",
       "3             1                  0                 0        1   \n",
       "4             0                  0                 1        0   \n",
       "\n",
       "   kidney_disease_Yes  \n",
       "0                   0  \n",
       "1                   0  \n",
       "2                   0  \n",
       "3                   0  \n",
       "4                   0  "
      ]
     },
     "execution_count": 22,
     "metadata": {},
     "output_type": "execute_result"
    }
   ],
   "source": [
    "df.head()"
   ]
  },
  {
   "cell_type": "code",
   "execution_count": 23,
   "metadata": {},
   "outputs": [],
   "source": [
    "# Independent and Dependent Features\n",
    "X = df.iloc[:,1:]\n",
    "y = df.iloc[:,0]"
   ]
  },
  {
   "cell_type": "code",
   "execution_count": 24,
   "metadata": {},
   "outputs": [
    {
     "data": {
      "text/html": [
       "<div>\n",
       "<style scoped>\n",
       "    .dataframe tbody tr th:only-of-type {\n",
       "        vertical-align: middle;\n",
       "    }\n",
       "\n",
       "    .dataframe tbody tr th {\n",
       "        vertical-align: top;\n",
       "    }\n",
       "\n",
       "    .dataframe thead th {\n",
       "        text-align: right;\n",
       "    }\n",
       "</style>\n",
       "<table border=\"1\" class=\"dataframe\">\n",
       "  <thead>\n",
       "    <tr style=\"text-align: right;\">\n",
       "      <th></th>\n",
       "      <th>age</th>\n",
       "      <th>body temperature</th>\n",
       "      <th>gender_Male</th>\n",
       "      <th>Dry_Cough_Yes</th>\n",
       "      <th>sour_throat_Yes</th>\n",
       "      <th>weakness_Yes</th>\n",
       "      <th>breathing_problem_Yes</th>\n",
       "      <th>PIC_Yes</th>\n",
       "      <th>ICTIP_Yes</th>\n",
       "      <th>diabetes_Yes</th>\n",
       "      <th>heart_disease_Yes</th>\n",
       "      <th>lung_disease_Yes</th>\n",
       "      <th>HBP_Yes</th>\n",
       "      <th>kidney_disease_Yes</th>\n",
       "    </tr>\n",
       "  </thead>\n",
       "  <tbody>\n",
       "    <tr>\n",
       "      <th>0</th>\n",
       "      <td>20</td>\n",
       "      <td>98.6</td>\n",
       "      <td>1</td>\n",
       "      <td>0</td>\n",
       "      <td>0</td>\n",
       "      <td>0</td>\n",
       "      <td>0</td>\n",
       "      <td>0</td>\n",
       "      <td>0</td>\n",
       "      <td>0</td>\n",
       "      <td>0</td>\n",
       "      <td>0</td>\n",
       "      <td>0</td>\n",
       "      <td>0</td>\n",
       "    </tr>\n",
       "    <tr>\n",
       "      <th>1</th>\n",
       "      <td>19</td>\n",
       "      <td>99.0</td>\n",
       "      <td>1</td>\n",
       "      <td>1</td>\n",
       "      <td>0</td>\n",
       "      <td>0</td>\n",
       "      <td>0</td>\n",
       "      <td>0</td>\n",
       "      <td>0</td>\n",
       "      <td>0</td>\n",
       "      <td>0</td>\n",
       "      <td>0</td>\n",
       "      <td>0</td>\n",
       "      <td>0</td>\n",
       "    </tr>\n",
       "    <tr>\n",
       "      <th>2</th>\n",
       "      <td>55</td>\n",
       "      <td>102.0</td>\n",
       "      <td>0</td>\n",
       "      <td>1</td>\n",
       "      <td>1</td>\n",
       "      <td>1</td>\n",
       "      <td>1</td>\n",
       "      <td>1</td>\n",
       "      <td>0</td>\n",
       "      <td>0</td>\n",
       "      <td>0</td>\n",
       "      <td>0</td>\n",
       "      <td>0</td>\n",
       "      <td>0</td>\n",
       "    </tr>\n",
       "    <tr>\n",
       "      <th>3</th>\n",
       "      <td>40</td>\n",
       "      <td>100.0</td>\n",
       "      <td>0</td>\n",
       "      <td>0</td>\n",
       "      <td>0</td>\n",
       "      <td>0</td>\n",
       "      <td>0</td>\n",
       "      <td>1</td>\n",
       "      <td>1</td>\n",
       "      <td>1</td>\n",
       "      <td>0</td>\n",
       "      <td>0</td>\n",
       "      <td>1</td>\n",
       "      <td>0</td>\n",
       "    </tr>\n",
       "    <tr>\n",
       "      <th>4</th>\n",
       "      <td>33</td>\n",
       "      <td>99.2</td>\n",
       "      <td>1</td>\n",
       "      <td>0</td>\n",
       "      <td>1</td>\n",
       "      <td>0</td>\n",
       "      <td>1</td>\n",
       "      <td>0</td>\n",
       "      <td>1</td>\n",
       "      <td>0</td>\n",
       "      <td>0</td>\n",
       "      <td>1</td>\n",
       "      <td>0</td>\n",
       "      <td>0</td>\n",
       "    </tr>\n",
       "  </tbody>\n",
       "</table>\n",
       "</div>"
      ],
      "text/plain": [
       "   age  body temperature  gender_Male  Dry_Cough_Yes  sour_throat_Yes  \\\n",
       "0   20              98.6            1              0                0   \n",
       "1   19              99.0            1              1                0   \n",
       "2   55             102.0            0              1                1   \n",
       "3   40             100.0            0              0                0   \n",
       "4   33              99.2            1              0                1   \n",
       "\n",
       "   weakness_Yes  breathing_problem_Yes  PIC_Yes  ICTIP_Yes  diabetes_Yes  \\\n",
       "0             0                      0        0          0             0   \n",
       "1             0                      0        0          0             0   \n",
       "2             1                      1        1          0             0   \n",
       "3             0                      0        1          1             1   \n",
       "4             0                      1        0          1             0   \n",
       "\n",
       "   heart_disease_Yes  lung_disease_Yes  HBP_Yes  kidney_disease_Yes  \n",
       "0                  0                 0        0                   0  \n",
       "1                  0                 0        0                   0  \n",
       "2                  0                 0        0                   0  \n",
       "3                  0                 0        1                   0  \n",
       "4                  0                 1        0                   0  "
      ]
     },
     "execution_count": 24,
     "metadata": {},
     "output_type": "execute_result"
    }
   ],
   "source": [
    "X.head()"
   ]
  },
  {
   "cell_type": "code",
   "execution_count": 25,
   "metadata": {},
   "outputs": [
    {
     "data": {
      "text/plain": [
       "(127, 14)"
      ]
     },
     "execution_count": 25,
     "metadata": {},
     "output_type": "execute_result"
    }
   ],
   "source": [
    "X.shape"
   ]
  },
  {
   "cell_type": "code",
   "execution_count": 26,
   "metadata": {},
   "outputs": [
    {
     "data": {
      "text/plain": [
       "0    0\n",
       "1    0\n",
       "2    1\n",
       "3    2\n",
       "4    2\n",
       "Name: Corona result, dtype: int64"
      ]
     },
     "execution_count": 26,
     "metadata": {},
     "output_type": "execute_result"
    }
   ],
   "source": [
    "y.head()"
   ]
  },
  {
   "cell_type": "code",
   "execution_count": 27,
   "metadata": {},
   "outputs": [
    {
     "data": {
      "text/plain": [
       "ExtraTreesRegressor()"
      ]
     },
     "execution_count": 27,
     "metadata": {},
     "output_type": "execute_result"
    }
   ],
   "source": [
    "# features importances\n",
    "\n",
    "from sklearn.ensemble import ExtraTreesRegressor\n",
    "model=ExtraTreesRegressor()\n",
    "model.fit(X,y)"
   ]
  },
  {
   "cell_type": "code",
   "execution_count": 28,
   "metadata": {},
   "outputs": [
    {
     "name": "stdout",
     "output_type": "stream",
     "text": [
      "[0.08997062 0.06219946 0.06683155 0.04375067 0.04454104 0.03687656\n",
      " 0.07952153 0.13911528 0.21975892 0.09238516 0.05657313 0.04127672\n",
      " 0.02038667 0.0068127 ]\n"
     ]
    }
   ],
   "source": [
    "print(model.feature_importances_)"
   ]
  },
  {
   "cell_type": "code",
   "execution_count": 29,
   "metadata": {},
   "outputs": [
    {
     "name": "stdout",
     "output_type": "stream",
     "text": [
      "X_train size: (114, 14), X_test size: (13, 14)\n"
     ]
    }
   ],
   "source": [
    "from sklearn.model_selection import train_test_split\n",
    "X_train, X_test, y_train, y_test = train_test_split(X, y, test_size = 0.1, random_state=0)\n",
    "print('X_train size: {}, X_test size: {}'.format(X_train.shape, X_test.shape))"
   ]
  },
  {
   "cell_type": "code",
   "execution_count": 30,
   "metadata": {},
   "outputs": [
    {
     "data": {
      "text/plain": [
       "(114, 14)"
      ]
     },
     "execution_count": 30,
     "metadata": {},
     "output_type": "execute_result"
    }
   ],
   "source": [
    "X_train.shape"
   ]
  },
  {
   "cell_type": "markdown",
   "metadata": {},
   "source": [
    "# Model Building"
   ]
  },
  {
   "cell_type": "markdown",
   "metadata": {},
   "source": [
    "# 1. Logistic Regression Model"
   ]
  },
  {
   "cell_type": "code",
   "execution_count": 31,
   "metadata": {},
   "outputs": [
    {
     "name": "stderr",
     "output_type": "stream",
     "text": [
      "C:\\Users\\DELL\\anaconda3\\lib\\site-packages\\sklearn\\linear_model\\_logistic.py:762: ConvergenceWarning: lbfgs failed to converge (status=1):\n",
      "STOP: TOTAL NO. of ITERATIONS REACHED LIMIT.\n",
      "\n",
      "Increase the number of iterations (max_iter) or scale the data as shown in:\n",
      "    https://scikit-learn.org/stable/modules/preprocessing.html\n",
      "Please also refer to the documentation for alternative solver options:\n",
      "    https://scikit-learn.org/stable/modules/linear_model.html#logistic-regression\n",
      "  n_iter_i = _check_optimize_result(\n"
     ]
    },
    {
     "data": {
      "text/plain": [
       "LogisticRegression()"
      ]
     },
     "execution_count": 31,
     "metadata": {},
     "output_type": "execute_result"
    }
   ],
   "source": [
    "# --- Model Building ---\n",
    "# LogisticRegression Model\n",
    "\n",
    "from sklearn.linear_model import LogisticRegression\n",
    "lreg = LogisticRegression()\n",
    "lreg.fit(X_train,y_train)"
   ]
  },
  {
   "cell_type": "code",
   "execution_count": 32,
   "metadata": {},
   "outputs": [
    {
     "name": "stdout",
     "output_type": "stream",
     "text": [
      "Accuracy:72.807%\n"
     ]
    }
   ],
   "source": [
    "accuracy = lreg.score(X_train,y_train)\n",
    "print(f'Accuracy:{round(accuracy*100,3)}%')"
   ]
  },
  {
   "cell_type": "markdown",
   "metadata": {},
   "source": [
    "# 2. Decision Tree Classifier Model"
   ]
  },
  {
   "cell_type": "code",
   "execution_count": 33,
   "metadata": {},
   "outputs": [
    {
     "data": {
      "text/plain": [
       "DecisionTreeClassifier(max_depth=4, random_state=0)"
      ]
     },
     "execution_count": 33,
     "metadata": {},
     "output_type": "execute_result"
    }
   ],
   "source": [
    "# --- Model Building ---\n",
    "# Decision Tree Classifier Model\n",
    "\n",
    "from sklearn.tree import DecisionTreeClassifier\n",
    "clf = DecisionTreeClassifier(max_depth=4, random_state=0)\n",
    "clf.fit(X_train,y_train)"
   ]
  },
  {
   "cell_type": "code",
   "execution_count": 34,
   "metadata": {},
   "outputs": [
    {
     "name": "stdout",
     "output_type": "stream",
     "text": [
      "Accuracy:78.07%\n"
     ]
    }
   ],
   "source": [
    "accuracy = clf.score(X_train,y_train)\n",
    "print(f'Accuracy:{round(accuracy*100,3)}%')"
   ]
  },
  {
   "cell_type": "markdown",
   "metadata": {},
   "source": [
    "# 3. RandomForest Classifier Model"
   ]
  },
  {
   "cell_type": "code",
   "execution_count": 35,
   "metadata": {},
   "outputs": [
    {
     "data": {
      "text/plain": [
       "RandomForestClassifier(n_estimators=20)"
      ]
     },
     "execution_count": 35,
     "metadata": {},
     "output_type": "execute_result"
    }
   ],
   "source": [
    "# --- Model Building ---\n",
    "# RandomForest Classifier Model\n",
    "\n",
    "from sklearn.ensemble import RandomForestClassifier\n",
    "classifier = RandomForestClassifier(n_estimators=20)\n",
    "classifier.fit(X_train, y_train)"
   ]
  },
  {
   "cell_type": "code",
   "execution_count": 36,
   "metadata": {},
   "outputs": [
    {
     "name": "stdout",
     "output_type": "stream",
     "text": [
      "Accuracy:97.368%\n"
     ]
    }
   ],
   "source": [
    "accuracy = classifier.score(X_train,y_train)\n",
    "print(f'Accuracy:{round(accuracy*100,3)}%')"
   ]
  },
  {
   "cell_type": "markdown",
   "metadata": {},
   "source": [
    "# Model Evaluation"
   ]
  },
  {
   "cell_type": "code",
   "execution_count": 37,
   "metadata": {},
   "outputs": [
    {
     "data": {
      "text/plain": [
       "array([[4, 1, 0],\n",
       "       [0, 6, 0],\n",
       "       [0, 2, 0]], dtype=int64)"
      ]
     },
     "execution_count": 37,
     "metadata": {},
     "output_type": "execute_result"
    }
   ],
   "source": [
    "# Creating a confusion matrix\n",
    "from sklearn.metrics import confusion_matrix, classification_report, accuracy_score\n",
    "y_pred = classifier.predict(X_test)\n",
    "cm = confusion_matrix(y_test, y_pred)\n",
    "cm"
   ]
  },
  {
   "cell_type": "code",
   "execution_count": 38,
   "metadata": {},
   "outputs": [
    {
     "data": {
      "image/png": "[encoded data removed]",
      "text/plain": [
       "<Figure size 720x504 with 2 Axes>"
      ]
     },
     "metadata": {
      "needs_background": "light"
     },
     "output_type": "display_data"
    }
   ],
   "source": [
    "# Plotting the confusion matrix\n",
    "plt.figure(figsize=(10,7))\n",
    "p = sns.heatmap(cm, annot=True, cmap=\"Blues\", fmt='g')\n",
    "plt.title('Confusion matrix for Random Forest Classifier Model - Test Set')\n",
    "plt.xlabel('Predicted Values')\n",
    "plt.ylabel('Actual Values')\n",
    "plt.show()"
   ]
  },
  {
   "cell_type": "code",
   "execution_count": 39,
   "metadata": {},
   "outputs": [
    {
     "name": "stdout",
     "output_type": "stream",
     "text": [
      "Accuracy on test set: 76.92%\n"
     ]
    }
   ],
   "source": [
    "# Accuracy Score\n",
    "score = round(accuracy_score(y_test, y_pred),4)*100\n",
    "print(\"Accuracy on test set: {}%\".format(score))"
   ]
  },
  {
   "cell_type": "code",
   "execution_count": 40,
   "metadata": {},
   "outputs": [
    {
     "name": "stdout",
     "output_type": "stream",
     "text": [
      "              precision    recall  f1-score   support\n",
      "\n",
      "           0       1.00      0.80      0.89         5\n",
      "           1       0.67      1.00      0.80         6\n",
      "           2       0.00      0.00      0.00         2\n",
      "\n",
      "    accuracy                           0.77        13\n",
      "   macro avg       0.56      0.60      0.56        13\n",
      "weighted avg       0.69      0.77      0.71        13\n",
      "\n"
     ]
    },
    {
     "name": "stderr",
     "output_type": "stream",
     "text": [
      "C:\\Users\\DELL\\anaconda3\\lib\\site-packages\\sklearn\\metrics\\_classification.py:1221: UndefinedMetricWarning: Precision and F-score are ill-defined and being set to 0.0 in labels with no predicted samples. Use `zero_division` parameter to control this behavior.\n",
      "  _warn_prf(average, modifier, msg_start, len(result))\n"
     ]
    }
   ],
   "source": [
    "# Classification Report\n",
    "print(classification_report(y_test, y_pred))"
   ]
  },
  {
   "cell_type": "code",
   "execution_count": 41,
   "metadata": {},
   "outputs": [
    {
     "data": {
      "text/plain": [
       "array([[27,  1,  0],\n",
       "       [ 1, 62,  0],\n",
       "       [ 0,  1, 22]], dtype=int64)"
      ]
     },
     "execution_count": 41,
     "metadata": {},
     "output_type": "execute_result"
    }
   ],
   "source": [
    "# Creating a confusion matrix for training set\n",
    "y_train_pred = classifier.predict(X_train)\n",
    "cm = confusion_matrix(y_train, y_train_pred)\n",
    "cm"
   ]
  },
  {
   "cell_type": "code",
   "execution_count": 42,
   "metadata": {},
   "outputs": [
    {
     "data": {
      "image/png": "[encoded data removed]",
      "text/plain": [
       "<Figure size 720x504 with 2 Axes>"
      ]
     },
     "metadata": {
      "needs_background": "light"
     },
     "output_type": "display_data"
    }
   ],
   "source": [
    "# Plotting the confusion matrix\n",
    "plt.figure(figsize=(10,7))\n",
    "p = sns.heatmap(cm, annot=True, cmap=\"Blues\", fmt='g')\n",
    "plt.title('Confusion matrix for Random Forest Classifier Model - Train Set')\n",
    "plt.xlabel('Predicted Values')\n",
    "plt.ylabel('Actual Values')\n",
    "plt.show()"
   ]
  },
  {
   "cell_type": "code",
   "execution_count": 43,
   "metadata": {},
   "outputs": [
    {
     "name": "stdout",
     "output_type": "stream",
     "text": [
      "Accuracy on trainning set: 97.37%\n"
     ]
    }
   ],
   "source": [
    "# Accuracy Score\n",
    "score = round(accuracy_score(y_train, y_train_pred),4)*100\n",
    "print(\"Accuracy on trainning set: {}%\".format(score))"
   ]
  },
  {
   "cell_type": "code",
   "execution_count": 44,
   "metadata": {},
   "outputs": [
    {
     "name": "stdout",
     "output_type": "stream",
     "text": [
      "              precision    recall  f1-score   support\n",
      "\n",
      "           0       0.96      0.96      0.96        28\n",
      "           1       0.97      0.98      0.98        63\n",
      "           2       1.00      0.96      0.98        23\n",
      "\n",
      "    accuracy                           0.97       114\n",
      "   macro avg       0.98      0.97      0.97       114\n",
      "weighted avg       0.97      0.97      0.97       114\n",
      "\n"
     ]
    }
   ],
   "source": [
    "# Classification Report\n",
    "print(classification_report(y_train, y_train_pred))"
   ]
  },
  {
   "cell_type": "markdown",
   "metadata": {},
   "source": [
    "# Predictions:"
   ]
  },
  {
   "cell_type": "code",
   "execution_count": 45,
   "metadata": {},
   "outputs": [],
   "source": [
    "# RandomForest Classifier Model\n",
    "def predict(age, body_temperature, Gender_Male, Dry_Cough_Yes, sour_throat_Yes, weakness_Yes, breathing_problem_Yes, PIC_Yes, \n",
    "            ICTIP_Yes, diabetes_Yes, heart_disease_Yes, lung_disease_Yes, kidney_disease_Yes, HBP_Yes):\n",
    "\n",
    "       \n",
    "        if(Gender_Male == 'Male'):\n",
    "             Gender_Male = 1\n",
    "        else:\n",
    "             Gender_Male = 0\n",
    "\n",
    "        if(Dry_Cough_Yes == 'Yes'):\n",
    "             Dry_Cough_Yes = 1\n",
    "        else:\n",
    "             Dry_Cough_Yes = 0\n",
    "\n",
    "        if(sour_throat_Yes == 'Yes'):\n",
    "             sour_throat_Yes = 1\n",
    "        else:\n",
    "             sour_throat_Yes = 0\n",
    "\n",
    "        if(weakness_Yes == 'Yes'):\n",
    "             weakness_Yes = 1\n",
    "        else:\n",
    "             weakness_Yes = 0\n",
    "\n",
    "        if(breathing_problem_Yes == 'Yes'):\n",
    "             breathing_problem_Yes = 1\n",
    "        else:\n",
    "             breathing_problem_Yes = 0\n",
    "\n",
    "        if(PIC_Yes == 'Yes'):\n",
    "             PIC_Yes = 1\n",
    "        else:\n",
    "             PIC_Yes = 0\n",
    "\n",
    "        if(ICTIP_Yes == 'Yes'):\n",
    "             ICTIP_Yes = 1\n",
    "        else:\n",
    "             ICTIP_Yes = 0\n",
    "\n",
    "        if(diabetes_Yes == 'Yes'):\n",
    "             diabetes_Yes = 1\n",
    "        else:\n",
    "             diabetes_Yes = 0\n",
    "\n",
    "        if(heart_disease_Yes == 'Yes'):\n",
    "             heart_disease_Yes = 1\n",
    "        else:\n",
    "             heart_disease_Yes = 0\n",
    "\n",
    "        if(lung_disease_Yes == 'Yes'):\n",
    "             lung_disease_Yes = 1\n",
    "        else:\n",
    "             lung_disease_Yes = 0\n",
    "\n",
    "        if(kidney_disease_Yes == 'Yes'):\n",
    "             kidney_disease_Yes = 1\n",
    "        else:\n",
    "             kidney_disease_Yes = 0\n",
    "\n",
    "        if(HBP_Yes == 'Yes'):\n",
    "             HBP_Yes = 1\n",
    "        else:\n",
    "             HBP_Yes = 0\n",
    "\n",
    "        data = np.array([[age, body_temperature, Gender_Male, Dry_Cough_Yes, sour_throat_Yes, weakness_Yes, breathing_problem_Yes, PIC_Yes, ICTIP_Yes, diabetes_Yes, heart_disease_Yes,\n",
    "                          lung_disease_Yes, kidney_disease_Yes, HBP_Yes]])\n",
    "        return (classifier.predict(data)[0])\n",
    "       "
   ]
  },
  {
   "cell_type": "markdown",
   "metadata": {},
   "source": [
    "# Prediction 1"
   ]
  },
  {
   "cell_type": "code",
   "execution_count": 46,
   "metadata": {},
   "outputs": [
    {
     "name": "stdout",
     "output_type": "stream",
     "text": [
      "MY PREDICTION:\n",
      "Don't worry..! You are Safe.\n"
     ]
    }
   ],
   "source": [
    "my_prediction = predict(age=45, body_temperature=99.1, Gender_Male='Male', Dry_Cough_Yes='No', sour_throat_Yes='No', weakness_Yes='No',\n",
    "                breathing_problem_Yes='No', PIC_Yes='No', ICTIP_Yes='No', diabetes_Yes='No', heart_disease_Yes='No', lung_disease_Yes='No',\n",
    "                kidney_disease_Yes='No', HBP_Yes='Yes')\n",
    "print(\"MY PREDICTION:\")\n",
    "if(my_prediction == 0):\n",
    "    \n",
    "         print(\"Don't worry..! You are Safe.\")\n",
    "\n",
    "elif(my_prediction == 1):\n",
    "    \n",
    "         print(\"Oops..! You have Symptoms of the Corona Virus.\")\n",
    "\n",
    "elif(my_prediction == 2): \n",
    "    \n",
    "         print(\"Oops..!! You are Infected with the Corona Virus.\")"
   ]
  },
  {
   "cell_type": "markdown",
   "metadata": {},
   "source": [
    "# Prediction 2"
   ]
  },
  {
   "cell_type": "code",
   "execution_count": 47,
   "metadata": {},
   "outputs": [
    {
     "name": "stdout",
     "output_type": "stream",
     "text": [
      "MY PREDICTION:\n",
      "Oops..! You have Symptoms of the Corona Virus.\n"
     ]
    }
   ],
   "source": [
    "my_prediction = predict(age=45, body_temperature=99.1, Gender_Male='Male', Dry_Cough_Yes='Yes', sour_throat_Yes='Yes', weakness_Yes='No',\n",
    "                breathing_problem_Yes='No', PIC_Yes='Yes', ICTIP_Yes='Yes', diabetes_Yes='No', heart_disease_Yes='No', lung_disease_Yes='No',\n",
    "                kidney_disease_Yes='No', HBP_Yes='Yes')\n",
    "print(\"MY PREDICTION:\")\n",
    "if(my_prediction == 0):\n",
    "    \n",
    "         print(\"Don't worry..! You are Safe.\")\n",
    "\n",
    "elif(my_prediction == 1):\n",
    "    \n",
    "         print(\"Oops..! You have Symptoms of the Corona Virus.\")\n",
    "\n",
    "elif(my_prediction == 2): \n",
    "    \n",
    "         print(\"Oops..!! You are Infected with the Corona Virus.\")"
   ]
  },
  {
   "cell_type": "markdown",
   "metadata": {},
   "source": [
    "# Prediction 3"
   ]
  },
  {
   "cell_type": "code",
   "execution_count": 48,
   "metadata": {},
   "outputs": [
    {
     "name": "stdout",
     "output_type": "stream",
     "text": [
      "MY PREDICTION:\n",
      "Oops..!! You are Infected with the Corona Virus.\n"
     ]
    }
   ],
   "source": [
    "my_prediction = predict(age=45, body_temperature=104, Gender_Male='Male', Dry_Cough_Yes='Yes', sour_throat_Yes='Yes', weakness_Yes='Yes',\n",
    "                breathing_problem_Yes='Yes', PIC_Yes='Yes', ICTIP_Yes='No', diabetes_Yes='No', heart_disease_Yes='No', lung_disease_Yes='No',\n",
    "                kidney_disease_Yes='No', HBP_Yes='Yes')\n",
    "print(\"MY PREDICTION:\")\n",
    "if(my_prediction == 0):\n",
    "    \n",
    "         print(\"Don't worry..! You are Safe.\")\n",
    "\n",
    "elif(my_prediction == 1):\n",
    "    \n",
    "         print(\"Oops..! You have Symptoms of the Corona Virus.\")\n",
    "\n",
    "elif(my_prediction == 2): \n",
    "    \n",
    "         print(\"Oops..!! You are Infected with the Corona Virus.\")"
   ]
  }
 ],
 "metadata": {
  "kernelspec": {
   "display_name": "Python 3",
   "language": "python",
   "name": "python3"
  },
  "language_info": {
   "codemirror_mode": {
    "name": "ipython",
    "version": 3
   },
   "file_extension": ".py",
   "mimetype": "text/x-python",
   "name": "python",
   "nbconvert_exporter": "python",
   "pygments_lexer": "ipython3",
   "version": "3.8.3"
  }
 },
 "nbformat": 4,
 "nbformat_minor": 4
}
