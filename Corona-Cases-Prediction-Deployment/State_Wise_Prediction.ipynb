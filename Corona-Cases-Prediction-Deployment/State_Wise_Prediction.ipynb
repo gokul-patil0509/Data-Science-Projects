{
 "cells": [
  {
   "cell_type": "markdown",
   "metadata": {},
   "source": [
    "# NOVEL CORONA VIRUS PREDICTION FOR STATE"
   ]
  },
  {
   "cell_type": "code",
   "execution_count": 1,
   "metadata": {},
   "outputs": [],
   "source": [
    "import pandas as pd\n",
    "import numpy as np\n",
    "import pickle\n",
    "\n",
    "\n",
    "### Loading the dataset\n",
    "df = pd.read_csv('Dataset\\Statewise_Dataset.csv')"
   ]
  },
  {
   "cell_type": "code",
   "execution_count": 2,
   "metadata": {},
   "outputs": [
    {
     "data": {
      "text/html": [
       "<div>\n",
       "<style scoped>\n",
       "    .dataframe tbody tr th:only-of-type {\n",
       "        vertical-align: middle;\n",
       "    }\n",
       "\n",
       "    .dataframe tbody tr th {\n",
       "        vertical-align: top;\n",
       "    }\n",
       "\n",
       "    .dataframe thead th {\n",
       "        text-align: right;\n",
       "    }\n",
       "</style>\n",
       "<table border=\"1\" class=\"dataframe\">\n",
       "  <thead>\n",
       "    <tr style=\"text-align: right;\">\n",
       "      <th></th>\n",
       "      <th>Day</th>\n",
       "      <th>Month</th>\n",
       "      <th>Year</th>\n",
       "      <th>Detected State</th>\n",
       "      <th>Current Status</th>\n",
       "      <th>Num Cases</th>\n",
       "    </tr>\n",
       "  </thead>\n",
       "  <tbody>\n",
       "    <tr>\n",
       "      <th>0</th>\n",
       "      <td>1</td>\n",
       "      <td>1</td>\n",
       "      <td>2021</td>\n",
       "      <td>Andaman and Nicobar Islands</td>\n",
       "      <td>Active</td>\n",
       "      <td>1</td>\n",
       "    </tr>\n",
       "    <tr>\n",
       "      <th>1</th>\n",
       "      <td>1</td>\n",
       "      <td>1</td>\n",
       "      <td>2021</td>\n",
       "      <td>Andaman and Nicobar Islands</td>\n",
       "      <td>Recovered</td>\n",
       "      <td>4</td>\n",
       "    </tr>\n",
       "    <tr>\n",
       "      <th>2</th>\n",
       "      <td>1</td>\n",
       "      <td>1</td>\n",
       "      <td>2021</td>\n",
       "      <td>Andhra Pradesh</td>\n",
       "      <td>Active</td>\n",
       "      <td>326</td>\n",
       "    </tr>\n",
       "    <tr>\n",
       "      <th>3</th>\n",
       "      <td>1</td>\n",
       "      <td>1</td>\n",
       "      <td>2021</td>\n",
       "      <td>Andhra Pradesh</td>\n",
       "      <td>Recovered</td>\n",
       "      <td>350</td>\n",
       "    </tr>\n",
       "    <tr>\n",
       "      <th>4</th>\n",
       "      <td>1</td>\n",
       "      <td>1</td>\n",
       "      <td>2021</td>\n",
       "      <td>Arunachal Pradesh</td>\n",
       "      <td>Recovered</td>\n",
       "      <td>2</td>\n",
       "    </tr>\n",
       "  </tbody>\n",
       "</table>\n",
       "</div>"
      ],
      "text/plain": [
       "   Day  Month  Year               Detected State Current Status  Num Cases\n",
       "0    1      1  2021  Andaman and Nicobar Islands         Active          1\n",
       "1    1      1  2021  Andaman and Nicobar Islands      Recovered          4\n",
       "2    1      1  2021               Andhra Pradesh         Active        326\n",
       "3    1      1  2021               Andhra Pradesh      Recovered        350\n",
       "4    1      1  2021            Arunachal Pradesh      Recovered          2"
      ]
     },
     "execution_count": 2,
     "metadata": {},
     "output_type": "execute_result"
    }
   ],
   "source": [
    "df.head()"
   ]
  },
  {
   "cell_type": "code",
   "execution_count": 3,
   "metadata": {},
   "outputs": [
    {
     "data": {
      "text/plain": [
       "(32166, 6)"
      ]
     },
     "execution_count": 3,
     "metadata": {},
     "output_type": "execute_result"
    }
   ],
   "source": [
    "# Return size of dataset\n",
    "df.shape"
   ]
  },
  {
   "cell_type": "code",
   "execution_count": 4,
   "metadata": {},
   "outputs": [
    {
     "data": {
      "text/plain": [
       "Day                int64\n",
       "Month              int64\n",
       "Year               int64\n",
       "Detected State    object\n",
       "Current Status    object\n",
       "Num Cases          int64\n",
       "dtype: object"
      ]
     },
     "execution_count": 4,
     "metadata": {},
     "output_type": "execute_result"
    }
   ],
   "source": [
    "# Return different datatypes for each columns(float, int, string, bool, etc.)\n",
    "df.dtypes"
   ]
  },
  {
   "cell_type": "code",
   "execution_count": 5,
   "metadata": {},
   "outputs": [
    {
     "name": "stdout",
     "output_type": "stream",
     "text": [
      "<class 'pandas.core.frame.DataFrame'>\n",
      "RangeIndex: 32166 entries, 0 to 32165\n",
      "Data columns (total 6 columns):\n",
      " #   Column          Non-Null Count  Dtype \n",
      "---  ------          --------------  ----- \n",
      " 0   Day             32166 non-null  int64 \n",
      " 1   Month           32166 non-null  int64 \n",
      " 2   Year            32166 non-null  int64 \n",
      " 3   Detected State  32166 non-null  object\n",
      " 4   Current Status  32166 non-null  object\n",
      " 5   Num Cases       32166 non-null  int64 \n",
      "dtypes: int64(4), object(2)\n",
      "memory usage: 1.5+ MB\n"
     ]
    }
   ],
   "source": [
    "# Return basic information on all columns\n",
    "df.info()"
   ]
  },
  {
   "cell_type": "code",
   "execution_count": 6,
   "metadata": {},
   "outputs": [
    {
     "data": {
      "text/plain": [
       "Day               0\n",
       "Month             0\n",
       "Year              0\n",
       "Detected State    0\n",
       "Current Status    0\n",
       "Num Cases         0\n",
       "dtype: int64"
      ]
     },
     "execution_count": 6,
     "metadata": {},
     "output_type": "execute_result"
    }
   ],
   "source": [
    "df.isnull().sum()"
   ]
  },
  {
   "cell_type": "code",
   "execution_count": 7,
   "metadata": {},
   "outputs": [
    {
     "data": {
      "text/plain": [
       "array(['Andaman and Nicobar Islands', 'Andhra Pradesh',\n",
       "       'Arunachal Pradesh', 'Assam', 'Bihar', 'Chandigarh',\n",
       "       'Chhattisgarh', 'Delhi', 'Goa', 'Gujarat', 'Haryana',\n",
       "       'Himachal Pradesh', 'Jammu and Kashmir', 'Jharkhand', 'Karnataka',\n",
       "       'Kerala', 'Ladakh', 'Madhya Pradesh', 'Maharashtra', 'Manipur',\n",
       "       'Mizoram', 'Nagaland', 'Odisha', 'Puducherry', 'Punjab',\n",
       "       'Rajasthan', 'Sikkim', 'Tamil Nadu', 'Telangana', 'Tripura',\n",
       "       'Uttar Pradesh', 'Uttarakhand', 'West Bengal',\n",
       "       'Dadra and Nagar Haveli and Daman and Diu', 'Lakshadweep',\n",
       "       'Meghalaya', 'State Unassigned'], dtype=object)"
      ]
     },
     "execution_count": 7,
     "metadata": {},
     "output_type": "execute_result"
    }
   ],
   "source": [
    "df['Detected State'].unique()"
   ]
  },
  {
   "cell_type": "code",
   "execution_count": 8,
   "metadata": {},
   "outputs": [
    {
     "data": {
      "text/plain": [
       "array(['Active', 'Recovered', 'Deceased', 'Migrated_Other',\n",
       "       'Migrated_other', 'Migrated'], dtype=object)"
      ]
     },
     "execution_count": 8,
     "metadata": {},
     "output_type": "execute_result"
    }
   ],
   "source": [
    "df['Current Status'].unique()"
   ]
  },
  {
   "cell_type": "code",
   "execution_count": 9,
   "metadata": {},
   "outputs": [],
   "source": [
    "# Keeping only consistent state\n",
    "consistent_state = ['Kerala', 'Delhi', 'Telangana', 'Rajasthan', 'Haryana', 'Uttar Pradesh', 'Ladakh', 'Tamil Nadu', 'Jammu and Kashmir',\n",
    "                    'Karnataka', 'Maharashtra', 'Punjab', 'Andhra Pradesh', 'Uttarakhand', 'Odisha', 'West Bengal', 'Chandigarh',\n",
    "                    'Chhattisgarh', 'Gujarat', 'Madhya Pradesh', 'Bihar', 'Mizoram', 'Goa', 'Andaman and Nicobar Islands', 'Jharkhand']"
   ]
  },
  {
   "cell_type": "code",
   "execution_count": 10,
   "metadata": {},
   "outputs": [],
   "source": [
    "df = df[(df['Detected State'].isin(consistent_state))]"
   ]
  },
  {
   "cell_type": "code",
   "execution_count": 11,
   "metadata": {},
   "outputs": [
    {
     "data": {
      "text/html": [
       "<div>\n",
       "<style scoped>\n",
       "    .dataframe tbody tr th:only-of-type {\n",
       "        vertical-align: middle;\n",
       "    }\n",
       "\n",
       "    .dataframe tbody tr th {\n",
       "        vertical-align: top;\n",
       "    }\n",
       "\n",
       "    .dataframe thead th {\n",
       "        text-align: right;\n",
       "    }\n",
       "</style>\n",
       "<table border=\"1\" class=\"dataframe\">\n",
       "  <thead>\n",
       "    <tr style=\"text-align: right;\">\n",
       "      <th></th>\n",
       "      <th>Day</th>\n",
       "      <th>Month</th>\n",
       "      <th>Year</th>\n",
       "      <th>Detected State</th>\n",
       "      <th>Current Status</th>\n",
       "      <th>Num Cases</th>\n",
       "    </tr>\n",
       "  </thead>\n",
       "  <tbody>\n",
       "    <tr>\n",
       "      <th>0</th>\n",
       "      <td>1</td>\n",
       "      <td>1</td>\n",
       "      <td>2021</td>\n",
       "      <td>Andaman and Nicobar Islands</td>\n",
       "      <td>Active</td>\n",
       "      <td>1</td>\n",
       "    </tr>\n",
       "    <tr>\n",
       "      <th>1</th>\n",
       "      <td>1</td>\n",
       "      <td>1</td>\n",
       "      <td>2021</td>\n",
       "      <td>Andaman and Nicobar Islands</td>\n",
       "      <td>Recovered</td>\n",
       "      <td>4</td>\n",
       "    </tr>\n",
       "    <tr>\n",
       "      <th>2</th>\n",
       "      <td>1</td>\n",
       "      <td>1</td>\n",
       "      <td>2021</td>\n",
       "      <td>Andhra Pradesh</td>\n",
       "      <td>Active</td>\n",
       "      <td>326</td>\n",
       "    </tr>\n",
       "    <tr>\n",
       "      <th>3</th>\n",
       "      <td>1</td>\n",
       "      <td>1</td>\n",
       "      <td>2021</td>\n",
       "      <td>Andhra Pradesh</td>\n",
       "      <td>Recovered</td>\n",
       "      <td>350</td>\n",
       "    </tr>\n",
       "    <tr>\n",
       "      <th>9</th>\n",
       "      <td>1</td>\n",
       "      <td>1</td>\n",
       "      <td>2021</td>\n",
       "      <td>Bihar</td>\n",
       "      <td>Deceased</td>\n",
       "      <td>3</td>\n",
       "    </tr>\n",
       "    <tr>\n",
       "      <th>10</th>\n",
       "      <td>1</td>\n",
       "      <td>1</td>\n",
       "      <td>2021</td>\n",
       "      <td>Bihar</td>\n",
       "      <td>Active</td>\n",
       "      <td>463</td>\n",
       "    </tr>\n",
       "    <tr>\n",
       "      <th>11</th>\n",
       "      <td>1</td>\n",
       "      <td>1</td>\n",
       "      <td>2021</td>\n",
       "      <td>Bihar</td>\n",
       "      <td>Recovered</td>\n",
       "      <td>404</td>\n",
       "    </tr>\n",
       "    <tr>\n",
       "      <th>12</th>\n",
       "      <td>1</td>\n",
       "      <td>1</td>\n",
       "      <td>2021</td>\n",
       "      <td>Chandigarh</td>\n",
       "      <td>Deceased</td>\n",
       "      <td>1</td>\n",
       "    </tr>\n",
       "    <tr>\n",
       "      <th>13</th>\n",
       "      <td>1</td>\n",
       "      <td>1</td>\n",
       "      <td>2021</td>\n",
       "      <td>Chandigarh</td>\n",
       "      <td>Active</td>\n",
       "      <td>51</td>\n",
       "    </tr>\n",
       "    <tr>\n",
       "      <th>14</th>\n",
       "      <td>1</td>\n",
       "      <td>1</td>\n",
       "      <td>2021</td>\n",
       "      <td>Chandigarh</td>\n",
       "      <td>Recovered</td>\n",
       "      <td>64</td>\n",
       "    </tr>\n",
       "    <tr>\n",
       "      <th>15</th>\n",
       "      <td>1</td>\n",
       "      <td>1</td>\n",
       "      <td>2021</td>\n",
       "      <td>Chhattisgarh</td>\n",
       "      <td>Deceased</td>\n",
       "      <td>4</td>\n",
       "    </tr>\n",
       "    <tr>\n",
       "      <th>16</th>\n",
       "      <td>1</td>\n",
       "      <td>1</td>\n",
       "      <td>2021</td>\n",
       "      <td>Chhattisgarh</td>\n",
       "      <td>Active</td>\n",
       "      <td>932</td>\n",
       "    </tr>\n",
       "    <tr>\n",
       "      <th>17</th>\n",
       "      <td>1</td>\n",
       "      <td>1</td>\n",
       "      <td>2021</td>\n",
       "      <td>Chhattisgarh</td>\n",
       "      <td>Recovered</td>\n",
       "      <td>1019</td>\n",
       "    </tr>\n",
       "    <tr>\n",
       "      <th>18</th>\n",
       "      <td>1</td>\n",
       "      <td>1</td>\n",
       "      <td>2021</td>\n",
       "      <td>Delhi</td>\n",
       "      <td>Deceased</td>\n",
       "      <td>21</td>\n",
       "    </tr>\n",
       "    <tr>\n",
       "      <th>19</th>\n",
       "      <td>1</td>\n",
       "      <td>1</td>\n",
       "      <td>2021</td>\n",
       "      <td>Delhi</td>\n",
       "      <td>Active</td>\n",
       "      <td>585</td>\n",
       "    </tr>\n",
       "    <tr>\n",
       "      <th>20</th>\n",
       "      <td>1</td>\n",
       "      <td>1</td>\n",
       "      <td>2021</td>\n",
       "      <td>Delhi</td>\n",
       "      <td>Recovered</td>\n",
       "      <td>717</td>\n",
       "    </tr>\n",
       "    <tr>\n",
       "      <th>21</th>\n",
       "      <td>1</td>\n",
       "      <td>1</td>\n",
       "      <td>2021</td>\n",
       "      <td>Goa</td>\n",
       "      <td>Active</td>\n",
       "      <td>69</td>\n",
       "    </tr>\n",
       "    <tr>\n",
       "      <th>22</th>\n",
       "      <td>1</td>\n",
       "      <td>1</td>\n",
       "      <td>2021</td>\n",
       "      <td>Goa</td>\n",
       "      <td>Recovered</td>\n",
       "      <td>78</td>\n",
       "    </tr>\n",
       "    <tr>\n",
       "      <th>23</th>\n",
       "      <td>1</td>\n",
       "      <td>1</td>\n",
       "      <td>2021</td>\n",
       "      <td>Gujarat</td>\n",
       "      <td>Deceased</td>\n",
       "      <td>3</td>\n",
       "    </tr>\n",
       "    <tr>\n",
       "      <th>24</th>\n",
       "      <td>1</td>\n",
       "      <td>1</td>\n",
       "      <td>2021</td>\n",
       "      <td>Gujarat</td>\n",
       "      <td>Active</td>\n",
       "      <td>734</td>\n",
       "    </tr>\n",
       "    <tr>\n",
       "      <th>25</th>\n",
       "      <td>1</td>\n",
       "      <td>1</td>\n",
       "      <td>2021</td>\n",
       "      <td>Gujarat</td>\n",
       "      <td>Recovered</td>\n",
       "      <td>907</td>\n",
       "    </tr>\n",
       "    <tr>\n",
       "      <th>26</th>\n",
       "      <td>1</td>\n",
       "      <td>1</td>\n",
       "      <td>2021</td>\n",
       "      <td>Haryana</td>\n",
       "      <td>Deceased</td>\n",
       "      <td>6</td>\n",
       "    </tr>\n",
       "    <tr>\n",
       "      <th>27</th>\n",
       "      <td>1</td>\n",
       "      <td>1</td>\n",
       "      <td>2021</td>\n",
       "      <td>Haryana</td>\n",
       "      <td>Active</td>\n",
       "      <td>286</td>\n",
       "    </tr>\n",
       "    <tr>\n",
       "      <th>28</th>\n",
       "      <td>1</td>\n",
       "      <td>1</td>\n",
       "      <td>2021</td>\n",
       "      <td>Haryana</td>\n",
       "      <td>Recovered</td>\n",
       "      <td>533</td>\n",
       "    </tr>\n",
       "    <tr>\n",
       "      <th>32</th>\n",
       "      <td>1</td>\n",
       "      <td>1</td>\n",
       "      <td>2021</td>\n",
       "      <td>Jammu and Kashmir</td>\n",
       "      <td>Deceased</td>\n",
       "      <td>1</td>\n",
       "    </tr>\n",
       "    <tr>\n",
       "      <th>33</th>\n",
       "      <td>1</td>\n",
       "      <td>1</td>\n",
       "      <td>2021</td>\n",
       "      <td>Jammu and Kashmir</td>\n",
       "      <td>Active</td>\n",
       "      <td>256</td>\n",
       "    </tr>\n",
       "    <tr>\n",
       "      <th>34</th>\n",
       "      <td>1</td>\n",
       "      <td>1</td>\n",
       "      <td>2021</td>\n",
       "      <td>Jammu and Kashmir</td>\n",
       "      <td>Recovered</td>\n",
       "      <td>248</td>\n",
       "    </tr>\n",
       "    <tr>\n",
       "      <th>35</th>\n",
       "      <td>1</td>\n",
       "      <td>1</td>\n",
       "      <td>2021</td>\n",
       "      <td>Jharkhand</td>\n",
       "      <td>Active</td>\n",
       "      <td>128</td>\n",
       "    </tr>\n",
       "    <tr>\n",
       "      <th>36</th>\n",
       "      <td>1</td>\n",
       "      <td>1</td>\n",
       "      <td>2021</td>\n",
       "      <td>Jharkhand</td>\n",
       "      <td>Recovered</td>\n",
       "      <td>105</td>\n",
       "    </tr>\n",
       "    <tr>\n",
       "      <th>37</th>\n",
       "      <td>1</td>\n",
       "      <td>1</td>\n",
       "      <td>2021</td>\n",
       "      <td>Karnataka</td>\n",
       "      <td>Deceased</td>\n",
       "      <td>6</td>\n",
       "    </tr>\n",
       "  </tbody>\n",
       "</table>\n",
       "</div>"
      ],
      "text/plain": [
       "    Day  Month  Year               Detected State Current Status  Num Cases\n",
       "0     1      1  2021  Andaman and Nicobar Islands         Active          1\n",
       "1     1      1  2021  Andaman and Nicobar Islands      Recovered          4\n",
       "2     1      1  2021               Andhra Pradesh         Active        326\n",
       "3     1      1  2021               Andhra Pradesh      Recovered        350\n",
       "9     1      1  2021                        Bihar       Deceased          3\n",
       "10    1      1  2021                        Bihar         Active        463\n",
       "11    1      1  2021                        Bihar      Recovered        404\n",
       "12    1      1  2021                   Chandigarh       Deceased          1\n",
       "13    1      1  2021                   Chandigarh         Active         51\n",
       "14    1      1  2021                   Chandigarh      Recovered         64\n",
       "15    1      1  2021                 Chhattisgarh       Deceased          4\n",
       "16    1      1  2021                 Chhattisgarh         Active        932\n",
       "17    1      1  2021                 Chhattisgarh      Recovered       1019\n",
       "18    1      1  2021                        Delhi       Deceased         21\n",
       "19    1      1  2021                        Delhi         Active        585\n",
       "20    1      1  2021                        Delhi      Recovered        717\n",
       "21    1      1  2021                          Goa         Active         69\n",
       "22    1      1  2021                          Goa      Recovered         78\n",
       "23    1      1  2021                      Gujarat       Deceased          3\n",
       "24    1      1  2021                      Gujarat         Active        734\n",
       "25    1      1  2021                      Gujarat      Recovered        907\n",
       "26    1      1  2021                      Haryana       Deceased          6\n",
       "27    1      1  2021                      Haryana         Active        286\n",
       "28    1      1  2021                      Haryana      Recovered        533\n",
       "32    1      1  2021            Jammu and Kashmir       Deceased          1\n",
       "33    1      1  2021            Jammu and Kashmir         Active        256\n",
       "34    1      1  2021            Jammu and Kashmir      Recovered        248\n",
       "35    1      1  2021                    Jharkhand         Active        128\n",
       "36    1      1  2021                    Jharkhand      Recovered        105\n",
       "37    1      1  2021                    Karnataka       Deceased          6"
      ]
     },
     "execution_count": 11,
     "metadata": {},
     "output_type": "execute_result"
    }
   ],
   "source": [
    "df.head(30)"
   ]
  },
  {
   "cell_type": "code",
   "execution_count": 12,
   "metadata": {},
   "outputs": [
    {
     "name": "stdout",
     "output_type": "stream",
     "text": [
      "['Andaman and Nicobar Islands' 'Andhra Pradesh' 'Bihar' 'Chandigarh'\n",
      " 'Chhattisgarh' 'Delhi' 'Goa' 'Gujarat' 'Haryana' 'Jammu and Kashmir'\n",
      " 'Jharkhand' 'Karnataka' 'Kerala' 'Ladakh' 'Madhya Pradesh' 'Maharashtra'\n",
      " 'Mizoram' 'Odisha' 'Punjab' 'Rajasthan' 'Tamil Nadu' 'Telangana'\n",
      " 'Uttar Pradesh' 'Uttarakhand' 'West Bengal']\n"
     ]
    }
   ],
   "source": [
    "print(df['Detected State'].unique())"
   ]
  },
  {
   "cell_type": "code",
   "execution_count": 13,
   "metadata": {},
   "outputs": [
    {
     "data": {
      "image/png": "[encoded data removed]",
      "text/plain": [
       "<Figure size 936x720 with 2 Axes>"
      ]
     },
     "metadata": {
      "needs_background": "light"
     },
     "output_type": "display_data"
    }
   ],
   "source": [
    "# Selecting correlated features using Heatmap\n",
    "import matplotlib.pyplot as plt\n",
    "import seaborn as sns\n",
    "\n",
    "# Get correlation of all the features of the dataset\n",
    "corr_matrix = df.corr()\n",
    "top_corr_features = corr_matrix.index\n",
    "\n",
    "# Plotting the heatmap\n",
    "plt.figure(figsize=(13,10))\n",
    "g = sns.heatmap(data=df[top_corr_features].corr(), annot=True, cmap='RdYlGn')"
   ]
  },
  {
   "cell_type": "code",
   "execution_count": 14,
   "metadata": {},
   "outputs": [],
   "source": [
    "# --- Data Preprocessing ---\n",
    "# Converting categorical features using OneHotEncoding method\n",
    "encoded_df = pd.get_dummies(data=df, columns=['Detected State', 'Current Status'])"
   ]
  },
  {
   "cell_type": "code",
   "execution_count": 15,
   "metadata": {},
   "outputs": [
    {
     "data": {
      "text/html": [
       "<div>\n",
       "<style scoped>\n",
       "    .dataframe tbody tr th:only-of-type {\n",
       "        vertical-align: middle;\n",
       "    }\n",
       "\n",
       "    .dataframe tbody tr th {\n",
       "        vertical-align: top;\n",
       "    }\n",
       "\n",
       "    .dataframe thead th {\n",
       "        text-align: right;\n",
       "    }\n",
       "</style>\n",
       "<table border=\"1\" class=\"dataframe\">\n",
       "  <thead>\n",
       "    <tr style=\"text-align: right;\">\n",
       "      <th></th>\n",
       "      <th>Day</th>\n",
       "      <th>Month</th>\n",
       "      <th>Year</th>\n",
       "      <th>Num Cases</th>\n",
       "      <th>Detected State_Andaman and Nicobar Islands</th>\n",
       "      <th>Detected State_Andhra Pradesh</th>\n",
       "      <th>Detected State_Bihar</th>\n",
       "      <th>Detected State_Chandigarh</th>\n",
       "      <th>Detected State_Chhattisgarh</th>\n",
       "      <th>Detected State_Delhi</th>\n",
       "      <th>...</th>\n",
       "      <th>Detected State_Telangana</th>\n",
       "      <th>Detected State_Uttar Pradesh</th>\n",
       "      <th>Detected State_Uttarakhand</th>\n",
       "      <th>Detected State_West Bengal</th>\n",
       "      <th>Current Status_Active</th>\n",
       "      <th>Current Status_Deceased</th>\n",
       "      <th>Current Status_Migrated</th>\n",
       "      <th>Current Status_Migrated_Other</th>\n",
       "      <th>Current Status_Migrated_other</th>\n",
       "      <th>Current Status_Recovered</th>\n",
       "    </tr>\n",
       "  </thead>\n",
       "  <tbody>\n",
       "    <tr>\n",
       "      <th>0</th>\n",
       "      <td>1</td>\n",
       "      <td>1</td>\n",
       "      <td>2021</td>\n",
       "      <td>1</td>\n",
       "      <td>1</td>\n",
       "      <td>0</td>\n",
       "      <td>0</td>\n",
       "      <td>0</td>\n",
       "      <td>0</td>\n",
       "      <td>0</td>\n",
       "      <td>...</td>\n",
       "      <td>0</td>\n",
       "      <td>0</td>\n",
       "      <td>0</td>\n",
       "      <td>0</td>\n",
       "      <td>1</td>\n",
       "      <td>0</td>\n",
       "      <td>0</td>\n",
       "      <td>0</td>\n",
       "      <td>0</td>\n",
       "      <td>0</td>\n",
       "    </tr>\n",
       "    <tr>\n",
       "      <th>1</th>\n",
       "      <td>1</td>\n",
       "      <td>1</td>\n",
       "      <td>2021</td>\n",
       "      <td>4</td>\n",
       "      <td>1</td>\n",
       "      <td>0</td>\n",
       "      <td>0</td>\n",
       "      <td>0</td>\n",
       "      <td>0</td>\n",
       "      <td>0</td>\n",
       "      <td>...</td>\n",
       "      <td>0</td>\n",
       "      <td>0</td>\n",
       "      <td>0</td>\n",
       "      <td>0</td>\n",
       "      <td>0</td>\n",
       "      <td>0</td>\n",
       "      <td>0</td>\n",
       "      <td>0</td>\n",
       "      <td>0</td>\n",
       "      <td>1</td>\n",
       "    </tr>\n",
       "    <tr>\n",
       "      <th>2</th>\n",
       "      <td>1</td>\n",
       "      <td>1</td>\n",
       "      <td>2021</td>\n",
       "      <td>326</td>\n",
       "      <td>0</td>\n",
       "      <td>1</td>\n",
       "      <td>0</td>\n",
       "      <td>0</td>\n",
       "      <td>0</td>\n",
       "      <td>0</td>\n",
       "      <td>...</td>\n",
       "      <td>0</td>\n",
       "      <td>0</td>\n",
       "      <td>0</td>\n",
       "      <td>0</td>\n",
       "      <td>1</td>\n",
       "      <td>0</td>\n",
       "      <td>0</td>\n",
       "      <td>0</td>\n",
       "      <td>0</td>\n",
       "      <td>0</td>\n",
       "    </tr>\n",
       "    <tr>\n",
       "      <th>3</th>\n",
       "      <td>1</td>\n",
       "      <td>1</td>\n",
       "      <td>2021</td>\n",
       "      <td>350</td>\n",
       "      <td>0</td>\n",
       "      <td>1</td>\n",
       "      <td>0</td>\n",
       "      <td>0</td>\n",
       "      <td>0</td>\n",
       "      <td>0</td>\n",
       "      <td>...</td>\n",
       "      <td>0</td>\n",
       "      <td>0</td>\n",
       "      <td>0</td>\n",
       "      <td>0</td>\n",
       "      <td>0</td>\n",
       "      <td>0</td>\n",
       "      <td>0</td>\n",
       "      <td>0</td>\n",
       "      <td>0</td>\n",
       "      <td>1</td>\n",
       "    </tr>\n",
       "    <tr>\n",
       "      <th>9</th>\n",
       "      <td>1</td>\n",
       "      <td>1</td>\n",
       "      <td>2021</td>\n",
       "      <td>3</td>\n",
       "      <td>0</td>\n",
       "      <td>0</td>\n",
       "      <td>1</td>\n",
       "      <td>0</td>\n",
       "      <td>0</td>\n",
       "      <td>0</td>\n",
       "      <td>...</td>\n",
       "      <td>0</td>\n",
       "      <td>0</td>\n",
       "      <td>0</td>\n",
       "      <td>0</td>\n",
       "      <td>0</td>\n",
       "      <td>1</td>\n",
       "      <td>0</td>\n",
       "      <td>0</td>\n",
       "      <td>0</td>\n",
       "      <td>0</td>\n",
       "    </tr>\n",
       "  </tbody>\n",
       "</table>\n",
       "<p>5 rows × 35 columns</p>\n",
       "</div>"
      ],
      "text/plain": [
       "   Day  Month  Year  Num Cases  Detected State_Andaman and Nicobar Islands  \\\n",
       "0    1      1  2021          1                                           1   \n",
       "1    1      1  2021          4                                           1   \n",
       "2    1      1  2021        326                                           0   \n",
       "3    1      1  2021        350                                           0   \n",
       "9    1      1  2021          3                                           0   \n",
       "\n",
       "   Detected State_Andhra Pradesh  Detected State_Bihar  \\\n",
       "0                              0                     0   \n",
       "1                              0                     0   \n",
       "2                              1                     0   \n",
       "3                              1                     0   \n",
       "9                              0                     1   \n",
       "\n",
       "   Detected State_Chandigarh  Detected State_Chhattisgarh  \\\n",
       "0                          0                            0   \n",
       "1                          0                            0   \n",
       "2                          0                            0   \n",
       "3                          0                            0   \n",
       "9                          0                            0   \n",
       "\n",
       "   Detected State_Delhi  ...  Detected State_Telangana  \\\n",
       "0                     0  ...                         0   \n",
       "1                     0  ...                         0   \n",
       "2                     0  ...                         0   \n",
       "3                     0  ...                         0   \n",
       "9                     0  ...                         0   \n",
       "\n",
       "   Detected State_Uttar Pradesh  Detected State_Uttarakhand  \\\n",
       "0                             0                           0   \n",
       "1                             0                           0   \n",
       "2                             0                           0   \n",
       "3                             0                           0   \n",
       "9                             0                           0   \n",
       "\n",
       "   Detected State_West Bengal  Current Status_Active  Current Status_Deceased  \\\n",
       "0                           0                      1                        0   \n",
       "1                           0                      0                        0   \n",
       "2                           0                      1                        0   \n",
       "3                           0                      0                        0   \n",
       "9                           0                      0                        1   \n",
       "\n",
       "   Current Status_Migrated  Current Status_Migrated_Other  \\\n",
       "0                        0                              0   \n",
       "1                        0                              0   \n",
       "2                        0                              0   \n",
       "3                        0                              0   \n",
       "9                        0                              0   \n",
       "\n",
       "   Current Status_Migrated_other  Current Status_Recovered  \n",
       "0                              0                         0  \n",
       "1                              0                         1  \n",
       "2                              0                         0  \n",
       "3                              0                         1  \n",
       "9                              0                         0  \n",
       "\n",
       "[5 rows x 35 columns]"
      ]
     },
     "execution_count": 15,
     "metadata": {},
     "output_type": "execute_result"
    }
   ],
   "source": [
    "encoded_df.head()"
   ]
  },
  {
   "cell_type": "code",
   "execution_count": 16,
   "metadata": {},
   "outputs": [
    {
     "data": {
      "text/plain": [
       "Index(['Day', 'Month', 'Year', 'Num Cases',\n",
       "       'Detected State_Andaman and Nicobar Islands',\n",
       "       'Detected State_Andhra Pradesh', 'Detected State_Bihar',\n",
       "       'Detected State_Chandigarh', 'Detected State_Chhattisgarh',\n",
       "       'Detected State_Delhi', 'Detected State_Goa', 'Detected State_Gujarat',\n",
       "       'Detected State_Haryana', 'Detected State_Jammu and Kashmir',\n",
       "       'Detected State_Jharkhand', 'Detected State_Karnataka',\n",
       "       'Detected State_Kerala', 'Detected State_Ladakh',\n",
       "       'Detected State_Madhya Pradesh', 'Detected State_Maharashtra',\n",
       "       'Detected State_Mizoram', 'Detected State_Odisha',\n",
       "       'Detected State_Punjab', 'Detected State_Rajasthan',\n",
       "       'Detected State_Tamil Nadu', 'Detected State_Telangana',\n",
       "       'Detected State_Uttar Pradesh', 'Detected State_Uttarakhand',\n",
       "       'Detected State_West Bengal', 'Current Status_Active',\n",
       "       'Current Status_Deceased', 'Current Status_Migrated',\n",
       "       'Current Status_Migrated_Other', 'Current Status_Migrated_other',\n",
       "       'Current Status_Recovered'],\n",
       "      dtype='object')"
      ]
     },
     "execution_count": 16,
     "metadata": {},
     "output_type": "execute_result"
    }
   ],
   "source": [
    "encoded_df.columns"
   ]
  },
  {
   "cell_type": "code",
   "execution_count": 17,
   "metadata": {},
   "outputs": [],
   "source": [
    "# Rearranging the columns\n",
    "encoded_df = encoded_df[['Detected State_Kerala', 'Detected State_Delhi', 'Detected State_Telangana', 'Detected State_Rajasthan', 'Detected State_Haryana', 'Detected State_Uttar Pradesh', 'Detected State_Ladakh', 'Detected State_Tamil Nadu', 'Detected State_Jammu and Kashmir', 'Detected State_Karnataka', 'Detected State_Maharashtra', 'Detected State_Punjab', 'Detected State_Andhra Pradesh',\n",
    "                         'Detected State_Uttarakhand', 'Detected State_Odisha', 'Detected State_West Bengal', 'Detected State_Chandigarh', 'Detected State_Chhattisgarh', 'Detected State_Gujarat', 'Detected State_Madhya Pradesh', 'Detected State_Bihar', 'Detected State_Mizoram', 'Detected State_Goa', 'Detected State_Andaman and Nicobar Islands', 'Detected State_Jharkhand',\n",
    "                         'Current Status_Active', 'Current Status_Deceased', 'Current Status_Recovered', 'Day', 'Month', 'Year', 'Num Cases']]"
   ]
  },
  {
   "cell_type": "code",
   "execution_count": 18,
   "metadata": {},
   "outputs": [
    {
     "data": {
      "text/html": [
       "<div>\n",
       "<style scoped>\n",
       "    .dataframe tbody tr th:only-of-type {\n",
       "        vertical-align: middle;\n",
       "    }\n",
       "\n",
       "    .dataframe tbody tr th {\n",
       "        vertical-align: top;\n",
       "    }\n",
       "\n",
       "    .dataframe thead th {\n",
       "        text-align: right;\n",
       "    }\n",
       "</style>\n",
       "<table border=\"1\" class=\"dataframe\">\n",
       "  <thead>\n",
       "    <tr style=\"text-align: right;\">\n",
       "      <th></th>\n",
       "      <th>Detected State_Kerala</th>\n",
       "      <th>Detected State_Delhi</th>\n",
       "      <th>Detected State_Telangana</th>\n",
       "      <th>Detected State_Rajasthan</th>\n",
       "      <th>Detected State_Haryana</th>\n",
       "      <th>Detected State_Uttar Pradesh</th>\n",
       "      <th>Detected State_Ladakh</th>\n",
       "      <th>Detected State_Tamil Nadu</th>\n",
       "      <th>Detected State_Jammu and Kashmir</th>\n",
       "      <th>Detected State_Karnataka</th>\n",
       "      <th>...</th>\n",
       "      <th>Detected State_Goa</th>\n",
       "      <th>Detected State_Andaman and Nicobar Islands</th>\n",
       "      <th>Detected State_Jharkhand</th>\n",
       "      <th>Current Status_Active</th>\n",
       "      <th>Current Status_Deceased</th>\n",
       "      <th>Current Status_Recovered</th>\n",
       "      <th>Day</th>\n",
       "      <th>Month</th>\n",
       "      <th>Year</th>\n",
       "      <th>Num Cases</th>\n",
       "    </tr>\n",
       "  </thead>\n",
       "  <tbody>\n",
       "    <tr>\n",
       "      <th>0</th>\n",
       "      <td>0</td>\n",
       "      <td>0</td>\n",
       "      <td>0</td>\n",
       "      <td>0</td>\n",
       "      <td>0</td>\n",
       "      <td>0</td>\n",
       "      <td>0</td>\n",
       "      <td>0</td>\n",
       "      <td>0</td>\n",
       "      <td>0</td>\n",
       "      <td>...</td>\n",
       "      <td>0</td>\n",
       "      <td>1</td>\n",
       "      <td>0</td>\n",
       "      <td>1</td>\n",
       "      <td>0</td>\n",
       "      <td>0</td>\n",
       "      <td>1</td>\n",
       "      <td>1</td>\n",
       "      <td>2021</td>\n",
       "      <td>1</td>\n",
       "    </tr>\n",
       "    <tr>\n",
       "      <th>1</th>\n",
       "      <td>0</td>\n",
       "      <td>0</td>\n",
       "      <td>0</td>\n",
       "      <td>0</td>\n",
       "      <td>0</td>\n",
       "      <td>0</td>\n",
       "      <td>0</td>\n",
       "      <td>0</td>\n",
       "      <td>0</td>\n",
       "      <td>0</td>\n",
       "      <td>...</td>\n",
       "      <td>0</td>\n",
       "      <td>1</td>\n",
       "      <td>0</td>\n",
       "      <td>0</td>\n",
       "      <td>0</td>\n",
       "      <td>1</td>\n",
       "      <td>1</td>\n",
       "      <td>1</td>\n",
       "      <td>2021</td>\n",
       "      <td>4</td>\n",
       "    </tr>\n",
       "    <tr>\n",
       "      <th>2</th>\n",
       "      <td>0</td>\n",
       "      <td>0</td>\n",
       "      <td>0</td>\n",
       "      <td>0</td>\n",
       "      <td>0</td>\n",
       "      <td>0</td>\n",
       "      <td>0</td>\n",
       "      <td>0</td>\n",
       "      <td>0</td>\n",
       "      <td>0</td>\n",
       "      <td>...</td>\n",
       "      <td>0</td>\n",
       "      <td>0</td>\n",
       "      <td>0</td>\n",
       "      <td>1</td>\n",
       "      <td>0</td>\n",
       "      <td>0</td>\n",
       "      <td>1</td>\n",
       "      <td>1</td>\n",
       "      <td>2021</td>\n",
       "      <td>326</td>\n",
       "    </tr>\n",
       "    <tr>\n",
       "      <th>3</th>\n",
       "      <td>0</td>\n",
       "      <td>0</td>\n",
       "      <td>0</td>\n",
       "      <td>0</td>\n",
       "      <td>0</td>\n",
       "      <td>0</td>\n",
       "      <td>0</td>\n",
       "      <td>0</td>\n",
       "      <td>0</td>\n",
       "      <td>0</td>\n",
       "      <td>...</td>\n",
       "      <td>0</td>\n",
       "      <td>0</td>\n",
       "      <td>0</td>\n",
       "      <td>0</td>\n",
       "      <td>0</td>\n",
       "      <td>1</td>\n",
       "      <td>1</td>\n",
       "      <td>1</td>\n",
       "      <td>2021</td>\n",
       "      <td>350</td>\n",
       "    </tr>\n",
       "    <tr>\n",
       "      <th>9</th>\n",
       "      <td>0</td>\n",
       "      <td>0</td>\n",
       "      <td>0</td>\n",
       "      <td>0</td>\n",
       "      <td>0</td>\n",
       "      <td>0</td>\n",
       "      <td>0</td>\n",
       "      <td>0</td>\n",
       "      <td>0</td>\n",
       "      <td>0</td>\n",
       "      <td>...</td>\n",
       "      <td>0</td>\n",
       "      <td>0</td>\n",
       "      <td>0</td>\n",
       "      <td>0</td>\n",
       "      <td>1</td>\n",
       "      <td>0</td>\n",
       "      <td>1</td>\n",
       "      <td>1</td>\n",
       "      <td>2021</td>\n",
       "      <td>3</td>\n",
       "    </tr>\n",
       "  </tbody>\n",
       "</table>\n",
       "<p>5 rows × 32 columns</p>\n",
       "</div>"
      ],
      "text/plain": [
       "   Detected State_Kerala  Detected State_Delhi  Detected State_Telangana  \\\n",
       "0                      0                     0                         0   \n",
       "1                      0                     0                         0   \n",
       "2                      0                     0                         0   \n",
       "3                      0                     0                         0   \n",
       "9                      0                     0                         0   \n",
       "\n",
       "   Detected State_Rajasthan  Detected State_Haryana  \\\n",
       "0                         0                       0   \n",
       "1                         0                       0   \n",
       "2                         0                       0   \n",
       "3                         0                       0   \n",
       "9                         0                       0   \n",
       "\n",
       "   Detected State_Uttar Pradesh  Detected State_Ladakh  \\\n",
       "0                             0                      0   \n",
       "1                             0                      0   \n",
       "2                             0                      0   \n",
       "3                             0                      0   \n",
       "9                             0                      0   \n",
       "\n",
       "   Detected State_Tamil Nadu  Detected State_Jammu and Kashmir  \\\n",
       "0                          0                                 0   \n",
       "1                          0                                 0   \n",
       "2                          0                                 0   \n",
       "3                          0                                 0   \n",
       "9                          0                                 0   \n",
       "\n",
       "   Detected State_Karnataka  ...  Detected State_Goa  \\\n",
       "0                         0  ...                   0   \n",
       "1                         0  ...                   0   \n",
       "2                         0  ...                   0   \n",
       "3                         0  ...                   0   \n",
       "9                         0  ...                   0   \n",
       "\n",
       "   Detected State_Andaman and Nicobar Islands  Detected State_Jharkhand  \\\n",
       "0                                           1                         0   \n",
       "1                                           1                         0   \n",
       "2                                           0                         0   \n",
       "3                                           0                         0   \n",
       "9                                           0                         0   \n",
       "\n",
       "   Current Status_Active  Current Status_Deceased  Current Status_Recovered  \\\n",
       "0                      1                        0                         0   \n",
       "1                      0                        0                         1   \n",
       "2                      1                        0                         0   \n",
       "3                      0                        0                         1   \n",
       "9                      0                        1                         0   \n",
       "\n",
       "   Day  Month  Year  Num Cases  \n",
       "0    1      1  2021          1  \n",
       "1    1      1  2021          4  \n",
       "2    1      1  2021        326  \n",
       "3    1      1  2021        350  \n",
       "9    1      1  2021          3  \n",
       "\n",
       "[5 rows x 32 columns]"
      ]
     },
     "execution_count": 18,
     "metadata": {},
     "output_type": "execute_result"
    }
   ],
   "source": [
    "encoded_df.head()"
   ]
  },
  {
   "cell_type": "code",
   "execution_count": 19,
   "metadata": {},
   "outputs": [],
   "source": [
    "# Splitting the data into train and test set\n",
    "X = encoded_df.drop(labels='Num Cases', axis=1)\n",
    "y = encoded_df['Num Cases'].values"
   ]
  },
  {
   "cell_type": "code",
   "execution_count": 20,
   "metadata": {},
   "outputs": [],
   "source": [
    "from sklearn.model_selection import train_test_split\n",
    "X_train, X_test, y_train, y_test = train_test_split(X, y, test_size = 0.2, random_state=0)"
   ]
  },
  {
   "cell_type": "markdown",
   "metadata": {},
   "source": [
    "# Linear Regression Model"
   ]
  },
  {
   "cell_type": "code",
   "execution_count": 21,
   "metadata": {},
   "outputs": [
    {
     "data": {
      "text/plain": [
       "LinearRegression()"
      ]
     },
     "execution_count": 21,
     "metadata": {},
     "output_type": "execute_result"
    }
   ],
   "source": [
    "# --- Model Building ---\n",
    "# Linear Regression Model\n",
    "from sklearn.linear_model import LinearRegression\n",
    "regressor = LinearRegression()\n",
    "regressor.fit(X_train,y_train)"
   ]
  },
  {
   "cell_type": "code",
   "execution_count": 22,
   "metadata": {},
   "outputs": [],
   "source": [
    "# Predicting results\n",
    "y_pred_lr = regressor.predict(X_train)"
   ]
  },
  {
   "cell_type": "code",
   "execution_count": 23,
   "metadata": {},
   "outputs": [
    {
     "name": "stdout",
     "output_type": "stream",
     "text": [
      "---- Linear Regression - Model Evaluation ----\n",
      "R Square : 0.3222804628176169\n",
      "Adjusted R Square: 0.3222461826184675\n"
     ]
    }
   ],
   "source": [
    "# Linear Regression - Model Evaluation\n",
    "import statsmodels.api as sm\n",
    "X1 = sm.add_constant(y_pred_lr)\n",
    "result = sm.OLS(y_train,X1).fit()\n",
    "\n",
    "print(\"---- Linear Regression - Model Evaluation ----\")\n",
    "print(\"R Square :\", result.rsquared)\n",
    "print(\"Adjusted R Square:\", result.rsquared_adj)"
   ]
  },
  {
   "cell_type": "code",
   "execution_count": 24,
   "metadata": {},
   "outputs": [
    {
     "name": "stdout",
     "output_type": "stream",
     "text": [
      "---- Linear Regression - Model Evaluation ----\n",
      "R Squared Error (R2):0.3222804628176169\n",
      "Mean Absolute Error (MAE): 1018.1737677586535\n",
      "Mean Squared Error (MSE): 3664600.848943403\n",
      "Root Mean Squared Error (RMSE): 1914.3147204530928\n"
     ]
    }
   ],
   "source": [
    "# Linear Regression - Model Evaluation\n",
    "from sklearn.metrics import mean_absolute_error as mae, mean_squared_error as mse, r2_score, accuracy_score\n",
    "print(\"---- Linear Regression - Model Evaluation ----\")\n",
    "print(\"R Squared Error (R2):{}\".format(r2_score(y_train, y_pred_lr)))\n",
    "print(\"Mean Absolute Error (MAE): {}\".format(mae(y_train, y_pred_lr)))\n",
    "print(\"Mean Squared Error (MSE): {}\".format(mse(y_train, y_pred_lr)))\n",
    "print(\"Root Mean Squared Error (RMSE): {}\".format(np.sqrt(mse(y_train, y_pred_lr))))"
   ]
  },
  {
   "cell_type": "code",
   "execution_count": 25,
   "metadata": {},
   "outputs": [
    {
     "name": "stdout",
     "output_type": "stream",
     "text": [
      "Accuracy:32.228%\n"
     ]
    }
   ],
   "source": [
    "accuracy = regressor.score(X_train,y_train)\n",
    "print(f'Accuracy:{round(accuracy*100,3)}%')"
   ]
  },
  {
   "cell_type": "markdown",
   "metadata": {},
   "source": [
    "# Random Forest Regression Model"
   ]
  },
  {
   "cell_type": "code",
   "execution_count": 26,
   "metadata": {},
   "outputs": [
    {
     "data": {
      "text/plain": [
       "RandomForestRegressor()"
      ]
     },
     "execution_count": 26,
     "metadata": {},
     "output_type": "execute_result"
    }
   ],
   "source": [
    "# Random Forest Regression Model\n",
    "from sklearn.ensemble import RandomForestRegressor\n",
    "random_regressor = RandomForestRegressor()\n",
    "random_regressor.fit(X_train,y_train)"
   ]
  },
  {
   "cell_type": "code",
   "execution_count": 27,
   "metadata": {},
   "outputs": [],
   "source": [
    "# Predicting results\n",
    "y_pred_rfr = random_regressor.predict(X_train)"
   ]
  },
  {
   "cell_type": "code",
   "execution_count": 28,
   "metadata": {},
   "outputs": [
    {
     "name": "stdout",
     "output_type": "stream",
     "text": [
      "---- Random Forest Regression - Model Evaluation ----\n",
      "R Square : 0.9940728703219966\n",
      "R Square Adjusted : 0.9940725705177641\n"
     ]
    }
   ],
   "source": [
    "# Randon Forest Regression - Model Evaluation\n",
    "import statsmodels.api as sm\n",
    "X1 = sm.add_constant(y_pred_rfr)\n",
    "result = sm.OLS(y_train,X1).fit()\n",
    "\n",
    "print(\"---- Random Forest Regression - Model Evaluation ----\")\n",
    "print(\"R Square :\", result.rsquared)\n",
    "print(\"R Square Adjusted :\", result.rsquared_adj)"
   ]
  },
  {
   "cell_type": "code",
   "execution_count": 29,
   "metadata": {},
   "outputs": [
    {
     "name": "stdout",
     "output_type": "stream",
     "text": [
      "---- Random Forest Regression - Model Evaluation ----\n",
      "R Squared Error (R2):0.9939402166911324\n",
      "Mean Absolute Error (MAE): 49.51084390383708\n",
      "Mean Squared Error (MSE): 32766.78012030405\n",
      "Root Mean Squared Error (RMSE): 181.0159664789381\n"
     ]
    }
   ],
   "source": [
    "# Randon Forest Regression - Model Evaluation\n",
    "from sklearn.metrics import mean_absolute_error as mae, mean_squared_error as mse, r2_score, accuracy_score\n",
    "print(\"---- Random Forest Regression - Model Evaluation ----\")\n",
    "print(\"R Squared Error (R2):{}\".format(r2_score(y_train, y_pred_rfr)))\n",
    "print(\"Mean Absolute Error (MAE): {}\".format(mae(y_train, y_pred_rfr)))\n",
    "print(\"Mean Squared Error (MSE): {}\".format(mse(y_train, y_pred_rfr)))\n",
    "print(\"Root Mean Squared Error (RMSE): {}\".format(np.sqrt(mse(y_train, y_pred_rfr))))"
   ]
  },
  {
   "cell_type": "code",
   "execution_count": 30,
   "metadata": {},
   "outputs": [
    {
     "name": "stdout",
     "output_type": "stream",
     "text": [
      "Accuracy:99.394%\n"
     ]
    }
   ],
   "source": [
    "accuracy = random_regressor.score(X_train,y_train)\n",
    "print(f'Accuracy:{round(accuracy*100,3)}%')"
   ]
  },
  {
   "cell_type": "markdown",
   "metadata": {},
   "source": [
    "# Polynomial Regression Model"
   ]
  },
  {
   "cell_type": "code",
   "execution_count": 31,
   "metadata": {},
   "outputs": [],
   "source": [
    "### Polynomial Regression \n",
    "from sklearn.preprocessing import PolynomialFeatures\n",
    "polyFeat = PolynomialFeatures(degree=2)\n",
    "X_train = polyFeat.fit_transform(X_train)"
   ]
  },
  {
   "cell_type": "code",
   "execution_count": 32,
   "metadata": {},
   "outputs": [
    {
     "data": {
      "text/plain": [
       "LinearRegression()"
      ]
     },
     "execution_count": 32,
     "metadata": {},
     "output_type": "execute_result"
    }
   ],
   "source": [
    "# --- Model Building ---\n",
    "# Linear Regression Model\n",
    "from sklearn import linear_model\n",
    "poly_regressor = linear_model.LinearRegression()\n",
    "poly_regressor.fit(X_train,y_train)"
   ]
  },
  {
   "cell_type": "code",
   "execution_count": 33,
   "metadata": {},
   "outputs": [],
   "source": [
    "# Predicting results\n",
    "y_pred_pnr = poly_regressor.predict(X_train)"
   ]
  },
  {
   "cell_type": "code",
   "execution_count": 34,
   "metadata": {},
   "outputs": [
    {
     "name": "stdout",
     "output_type": "stream",
     "text": [
      "---- Polynomial Regression - Model Evaluation ----\n",
      "R Square : 0.5484503777761627\n",
      "R Square Adjusted : 0.5484275376334098\n"
     ]
    }
   ],
   "source": [
    "# Polynomial Regression - Model Evaluation\n",
    "import statsmodels.api as sm\n",
    "X1 = sm.add_constant(y_pred_pnr)\n",
    "result = sm.OLS(y_train,X1).fit()\n",
    "\n",
    "print(\"---- Polynomial Regression - Model Evaluation ----\")\n",
    "print(\"R Square :\", result.rsquared)\n",
    "print(\"R Square Adjusted :\", result.rsquared_adj)"
   ]
  },
  {
   "cell_type": "code",
   "execution_count": 35,
   "metadata": {},
   "outputs": [
    {
     "name": "stdout",
     "output_type": "stream",
     "text": [
      "---- Polynomial Regression - Model Evaluation ----\n",
      "R Squared Error (R2):0.5484503777761581\n",
      "Mean Absolute Error (MAE): 771.9890707634538\n",
      "Mean Squared Error (MSE): 2441642.9483812405\n",
      "Root Mean Squared Error (RMSE): 1562.575741646222\n"
     ]
    }
   ],
   "source": [
    "# Polynomial Regression - Model Evaluation\n",
    "from sklearn.metrics import mean_absolute_error as mae, mean_squared_error as mse, r2_score, accuracy_score\n",
    "print(\"---- Polynomial Regression - Model Evaluation ----\")\n",
    "print(\"R Squared Error (R2):{}\".format(r2_score(y_train, y_pred_pnr)))\n",
    "print(\"Mean Absolute Error (MAE): {}\".format(mae(y_train, y_pred_pnr)))\n",
    "print(\"Mean Squared Error (MSE): {}\".format(mse(y_train, y_pred_pnr)))\n",
    "print(\"Root Mean Squared Error (RMSE): {}\".format(np.sqrt(mse(y_train, y_pred_pnr))))"
   ]
  },
  {
   "cell_type": "code",
   "execution_count": 36,
   "metadata": {},
   "outputs": [
    {
     "name": "stdout",
     "output_type": "stream",
     "text": [
      "Accuracy:54.845%\n"
     ]
    }
   ],
   "source": [
    "accuracy = poly_regressor.score(X_train,y_train)\n",
    "print(f'Accuracy:{round(accuracy*100,3)}%')"
   ]
  },
  {
   "cell_type": "markdown",
   "metadata": {},
   "source": [
    "# PREDICTION FOR STATE"
   ]
  },
  {
   "cell_type": "code",
   "execution_count": 37,
   "metadata": {},
   "outputs": [],
   "source": [
    "def predict(state_wise = 'Maharashtra', current_status = 'Active', day=1, month=7, year= 2021):\n",
    "        temp_array = list()\n",
    "        \n",
    "        #state_wise\n",
    "        if state_wise == 'Kerala':\n",
    "            temp_array = temp_array + [1,0,0,0,0,0,0,0,0,0,0,0,0,0,0,0,0,0,0,0,0,0,0,0,0]\n",
    "        elif state_wise == 'Delhi':\n",
    "            temp_array = temp_array + [0,1,0,0,0,0,0,0,0,0,0,0,0,0,0,0,0,0,0,0,0,0,0,0,0]\n",
    "        elif state_wise == 'Telangana':\n",
    "            temp_array = temp_array + [0,0,1,0,0,0,0,0,0,0,0,0,0,0,0,0,0,0,0,0,0,0,0,0,0]\n",
    "        elif state_wise == 'Rajasthan':\n",
    "            temp_array = temp_array + [0,0,0,1,0,0,0,0,0,0,0,0,0,0,0,0,0,0,0,0,0,0,0,0,0]\n",
    "        elif state_wise == 'Haryana':\n",
    "            temp_array = temp_array + [0,0,0,0,1,0,0,0,0,0,0,0,0,0,0,0,0,0,0,0,0,0,0,0,0]\n",
    "        elif state_wise == 'Uttar Pradesh':\n",
    "            temp_array = temp_array + [0,0,0,0,0,1,0,0,0,0,0,0,0,0,0,0,0,0,0,0,0,0,0,0,0]\n",
    "        elif state_wise == 'Ladakh':\n",
    "            temp_array = temp_array + [0,0,0,0,0,0,1,0,0,0,0,0,0,0,0,0,0,0,0,0,0,0,0,0,0]\n",
    "        elif state_wise == 'Tamil Nadu':\n",
    "            temp_array = temp_array + [0,0,0,0,0,0,0,1,0,0,0,0,0,0,0,0,0,0,0,0,0,0,0,0,0]\n",
    "        elif state_wise == 'Jammu and Kashmir':\n",
    "            temp_array = temp_array + [0,0,0,0,0,0,0,0,1,0,0,0,0,0,0,0,0,0,0,0,0,0,0,0,0]\n",
    "        elif state_wise == 'Karnataka':\n",
    "            temp_array = temp_array + [0,0,0,0,0,0,0,0,0,1,0,0,0,0,0,0,0,0,0,0,0,0,0,0,0]\n",
    "        elif state_wise == 'Maharashtra':\n",
    "            temp_array = temp_array + [0,0,0,0,0,0,0,0,0,0,1,0,0,0,0,0,0,0,0,0,0,0,0,0,0]\n",
    "        elif state_wise == 'Punjab':\n",
    "            temp_array = temp_array + [0,0,0,0,0,0,0,0,0,0,0,1,0,0,0,0,0,0,0,0,0,0,0,0,0]\n",
    "        elif state_wise == 'Andhra Pradesh':\n",
    "            temp_array = temp_array + [0,0,0,0,0,0,0,0,0,0,0,0,1,0,0,0,0,0,0,0,0,0,0,0,0]\n",
    "        elif state_wise == 'Uttarakhand':\n",
    "            temp_array = temp_array + [0,0,0,0,0,0,0,0,0,0,0,0,0,1,0,0,0,0,0,0,0,0,0,0,0]\n",
    "        elif state_wise == 'Odisha':\n",
    "            temp_array = temp_array + [0,0,0,0,0,0,0,0,0,0,0,0,0,0,1,0,0,0,0,0,0,0,0,0,0]\n",
    "        elif state_wise == 'West Bengal':\n",
    "            temp_array = temp_array + [0,0,0,0,0,0,0,0,0,0,0,0,0,0,0,1,0,0,0,0,0,0,0,0,0]\n",
    "        elif state_wise == 'Chandigarh':\n",
    "            temp_array = temp_array + [0,0,0,0,0,0,0,0,0,0,0,0,0,0,0,0,1,0,0,0,0,0,0,0,0]\n",
    "        elif state_wise == 'Chhattisgarh':\n",
    "            temp_array = temp_array + [0,0,0,0,0,0,0,0,0,0,0,0,0,0,0,0,0,1,0,0,0,0,0,0,0]\n",
    "        elif state_wise == 'Gujarat':\n",
    "            temp_array = temp_array + [0,0,0,0,0,0,0,0,0,0,0,0,0,0,0,0,0,0,1,0,0,0,0,0,0]\n",
    "        elif state_wise == 'Madhya Pradesh':\n",
    "            temp_array = temp_array + [0,0,0,0,0,0,0,0,0,0,0,0,0,0,0,0,0,0,0,1,0,0,0,0,0]\n",
    "        elif state_wise == 'Bihar':\n",
    "            temp_array = temp_array + [0,0,0,0,0,0,0,0,0,0,0,0,0,0,0,0,0,0,0,0,1,0,0,0,0]\n",
    "        elif state_wise == 'Mizoram':\n",
    "            temp_array = temp_array + [0,0,0,0,0,0,0,0,0,0,0,0,0,0,0,0,0,0,0,0,0,1,0,0,0]\n",
    "        elif state_wise == 'Goa':\n",
    "            temp_array = temp_array + [0,0,0,0,0,0,0,0,0,0,0,0,0,0,0,0,0,0,0,0,0,0,1,0,0]\n",
    "        elif state_wise == 'Andaman and Nicobar Islands':\n",
    "            temp_array = temp_array + [0,0,0,0,0,0,0,0,0,0,0,0,0,0,0,0,0,0,0,0,0,0,0,1,0]\n",
    "        elif state_wise == 'Jharkhand':\n",
    "            temp_array = temp_array + [0,0,0,0,0,0,0,0,0,0,0,0,0,0,0,0,0,0,0,0,0,0,0,0,1]\n",
    "          \n",
    "            \n",
    "\n",
    "        #current_status\n",
    "        if current_status == 'Active':\n",
    "            temp_array = temp_array + [1,0,0]\n",
    "        elif current_status == 'Recovered':\n",
    "            temp_array = temp_array + [0,1,0]\n",
    "        elif current_status == 'Deceased':\n",
    "            temp_array = temp_array + [0,0,1]\n",
    "          \n",
    "            \n",
    "        # day, month, year\n",
    "        temp_array = temp_array +[day, month, year]\n",
    "        \n",
    "        # Converting into numpy array\n",
    "        data = np.array([temp_array])\n",
    "        \n",
    "        # Prediction for state\n",
    "        return int(random_regressor.predict(data)[0])"
   ]
  },
  {
   "cell_type": "code",
   "execution_count": 38,
   "metadata": {},
   "outputs": [
    {
     "name": "stdout",
     "output_type": "stream",
     "text": [
      "MY PREDICTION FOR CORONA_VIRUS :-\n",
      "The Final Predicted Upcoming Active CoronaVirus Cases: 40453 \n"
     ]
    }
   ],
   "source": [
    "state_prediction = predict(state_wise = 'Maharashtra', current_status = 'Active', day=1, month=7, year= 2021)\n",
    "print(\"MY PREDICTION FOR CORONA_VIRUS :-\")\n",
    "print(\"The Final Predicted Upcoming Active CoronaVirus Cases: {} \".format(state_prediction))"
   ]
  },
  {
   "cell_type": "code",
   "execution_count": 39,
   "metadata": {},
   "outputs": [
    {
     "name": "stdout",
     "output_type": "stream",
     "text": [
      "MY PREDICTION FOR CORONA_VIRUS :-\n",
      "The Final Predicted Upcoming Recovered CoronaVirus Cases: 180 \n"
     ]
    }
   ],
   "source": [
    "state_prediction = predict(state_wise = 'Maharashtra', current_status = 'Recovered', day=1, month=7, year= 2021)\n",
    "print(\"MY PREDICTION FOR CORONA_VIRUS :-\")\n",
    "print(\"The Final Predicted Upcoming Recovered CoronaVirus Cases: {} \".format(state_prediction))"
   ]
  },
  {
   "cell_type": "code",
   "execution_count": 40,
   "metadata": {},
   "outputs": [
    {
     "name": "stdout",
     "output_type": "stream",
     "text": [
      "MY PREDICTION FOR CORONA_VIRUS :-\n",
      "The Final Predicted Upcoming Deceased CoronaVirus Cases: 29664 \n"
     ]
    }
   ],
   "source": [
    "state_prediction = predict(state_wise = 'Maharashtra', current_status = 'Deceased', day=1, month=7, year= 2021)\n",
    "print(\"MY PREDICTION FOR CORONA_VIRUS :-\")\n",
    "print(\"The Final Predicted Upcoming Deceased CoronaVirus Cases: {} \".format(state_prediction))"
   ]
  },
  {
   "cell_type": "code",
   "execution_count": null,
   "metadata": {},
   "outputs": [],
   "source": []
  }
 ],
 "metadata": {
  "kernelspec": {
   "display_name": "Python 3",
   "language": "python",
   "name": "python3"
  },
  "language_info": {
   "codemirror_mode": {
    "name": "ipython",
    "version": 3
   },
   "file_extension": ".py",
   "mimetype": "text/x-python",
   "name": "python",
   "nbconvert_exporter": "python",
   "pygments_lexer": "ipython3",
   "version": "3.8.3"
  }
 },
 "nbformat": 4,
 "nbformat_minor": 4
}
