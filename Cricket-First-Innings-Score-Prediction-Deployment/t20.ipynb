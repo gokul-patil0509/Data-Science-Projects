{
 "cells": [
  {
   "cell_type": "markdown",
   "metadata": {},
   "source": [
    "# T20 First Innings Score Prediction"
   ]
  },
  {
   "cell_type": "code",
   "execution_count": 1,
   "metadata": {},
   "outputs": [],
   "source": [
    "import pandas as pd\n",
    "import numpy as np\n",
    "import pickle\n",
    "\n",
    "\n",
    "### Loading the dataset\n",
    "df = pd.read_csv('Dataset\\T20.csv')"
   ]
  },
  {
   "cell_type": "code",
   "execution_count": 2,
   "metadata": {},
   "outputs": [
    {
     "data": {
      "text/html": [
       "<div>\n",
       "<style scoped>\n",
       "    .dataframe tbody tr th:only-of-type {\n",
       "        vertical-align: middle;\n",
       "    }\n",
       "\n",
       "    .dataframe tbody tr th {\n",
       "        vertical-align: top;\n",
       "    }\n",
       "\n",
       "    .dataframe thead th {\n",
       "        text-align: right;\n",
       "    }\n",
       "</style>\n",
       "<table border=\"1\" class=\"dataframe\">\n",
       "  <thead>\n",
       "    <tr style=\"text-align: right;\">\n",
       "      <th></th>\n",
       "      <th>mid</th>\n",
       "      <th>date</th>\n",
       "      <th>venue</th>\n",
       "      <th>bat_team</th>\n",
       "      <th>bowl_team</th>\n",
       "      <th>batsman</th>\n",
       "      <th>bowler</th>\n",
       "      <th>runs</th>\n",
       "      <th>wickets</th>\n",
       "      <th>overs</th>\n",
       "      <th>runs_last_5</th>\n",
       "      <th>wickets_last_5</th>\n",
       "      <th>striker</th>\n",
       "      <th>non-striker</th>\n",
       "      <th>total</th>\n",
       "    </tr>\n",
       "  </thead>\n",
       "  <tbody>\n",
       "    <tr>\n",
       "      <th>0</th>\n",
       "      <td>1</td>\n",
       "      <td>2005-06-13</td>\n",
       "      <td>M Chinnaswamy Stadium, Bangalore</td>\n",
       "      <td>England</td>\n",
       "      <td>Australia</td>\n",
       "      <td>ME Trescothick</td>\n",
       "      <td>B Lee</td>\n",
       "      <td>0</td>\n",
       "      <td>0</td>\n",
       "      <td>0.1</td>\n",
       "      <td>0</td>\n",
       "      <td>0</td>\n",
       "      <td>0</td>\n",
       "      <td>0</td>\n",
       "      <td>179</td>\n",
       "    </tr>\n",
       "    <tr>\n",
       "      <th>1</th>\n",
       "      <td>1</td>\n",
       "      <td>2005-06-13</td>\n",
       "      <td>M Chinnaswamy Stadium, Bangalore</td>\n",
       "      <td>England</td>\n",
       "      <td>Australia</td>\n",
       "      <td>ME Trescothick</td>\n",
       "      <td>B Lee</td>\n",
       "      <td>1</td>\n",
       "      <td>0</td>\n",
       "      <td>0.2</td>\n",
       "      <td>1</td>\n",
       "      <td>0</td>\n",
       "      <td>1</td>\n",
       "      <td>0</td>\n",
       "      <td>179</td>\n",
       "    </tr>\n",
       "    <tr>\n",
       "      <th>2</th>\n",
       "      <td>1</td>\n",
       "      <td>2005-06-13</td>\n",
       "      <td>M Chinnaswamy Stadium, Bangalore</td>\n",
       "      <td>England</td>\n",
       "      <td>Australia</td>\n",
       "      <td>GO Jones</td>\n",
       "      <td>B Lee</td>\n",
       "      <td>1</td>\n",
       "      <td>0</td>\n",
       "      <td>0.3</td>\n",
       "      <td>1</td>\n",
       "      <td>0</td>\n",
       "      <td>1</td>\n",
       "      <td>0</td>\n",
       "      <td>179</td>\n",
       "    </tr>\n",
       "    <tr>\n",
       "      <th>3</th>\n",
       "      <td>1</td>\n",
       "      <td>2005-06-13</td>\n",
       "      <td>M Chinnaswamy Stadium, Bangalore</td>\n",
       "      <td>England</td>\n",
       "      <td>Australia</td>\n",
       "      <td>GO Jones</td>\n",
       "      <td>B Lee</td>\n",
       "      <td>1</td>\n",
       "      <td>0</td>\n",
       "      <td>0.4</td>\n",
       "      <td>1</td>\n",
       "      <td>0</td>\n",
       "      <td>1</td>\n",
       "      <td>0</td>\n",
       "      <td>179</td>\n",
       "    </tr>\n",
       "    <tr>\n",
       "      <th>4</th>\n",
       "      <td>1</td>\n",
       "      <td>2005-06-13</td>\n",
       "      <td>M Chinnaswamy Stadium, Bangalore</td>\n",
       "      <td>England</td>\n",
       "      <td>Australia</td>\n",
       "      <td>GO Jones</td>\n",
       "      <td>B Lee</td>\n",
       "      <td>1</td>\n",
       "      <td>0</td>\n",
       "      <td>0.5</td>\n",
       "      <td>1</td>\n",
       "      <td>0</td>\n",
       "      <td>1</td>\n",
       "      <td>0</td>\n",
       "      <td>179</td>\n",
       "    </tr>\n",
       "  </tbody>\n",
       "</table>\n",
       "</div>"
      ],
      "text/plain": [
       "   mid        date                             venue bat_team  bowl_team  \\\n",
       "0    1  2005-06-13  M Chinnaswamy Stadium, Bangalore  England  Australia   \n",
       "1    1  2005-06-13  M Chinnaswamy Stadium, Bangalore  England  Australia   \n",
       "2    1  2005-06-13  M Chinnaswamy Stadium, Bangalore  England  Australia   \n",
       "3    1  2005-06-13  M Chinnaswamy Stadium, Bangalore  England  Australia   \n",
       "4    1  2005-06-13  M Chinnaswamy Stadium, Bangalore  England  Australia   \n",
       "\n",
       "          batsman bowler  runs  wickets  overs  runs_last_5  wickets_last_5  \\\n",
       "0  ME Trescothick  B Lee     0        0    0.1            0               0   \n",
       "1  ME Trescothick  B Lee     1        0    0.2            1               0   \n",
       "2        GO Jones  B Lee     1        0    0.3            1               0   \n",
       "3        GO Jones  B Lee     1        0    0.4            1               0   \n",
       "4        GO Jones  B Lee     1        0    0.5            1               0   \n",
       "\n",
       "   striker  non-striker  total  \n",
       "0        0            0    179  \n",
       "1        1            0    179  \n",
       "2        1            0    179  \n",
       "3        1            0    179  \n",
       "4        1            0    179  "
      ]
     },
     "execution_count": 2,
     "metadata": {},
     "output_type": "execute_result"
    }
   ],
   "source": [
    "df.head()"
   ]
  },
  {
   "cell_type": "code",
   "execution_count": 3,
   "metadata": {},
   "outputs": [
    {
     "data": {
      "text/plain": [
       "(18518, 15)"
      ]
     },
     "execution_count": 3,
     "metadata": {},
     "output_type": "execute_result"
    }
   ],
   "source": [
    "# Return size of dataset\n",
    "df.shape"
   ]
  },
  {
   "cell_type": "code",
   "execution_count": 4,
   "metadata": {},
   "outputs": [
    {
     "data": {
      "text/plain": [
       "mid                 int64\n",
       "date               object\n",
       "venue              object\n",
       "bat_team           object\n",
       "bowl_team          object\n",
       "batsman            object\n",
       "bowler             object\n",
       "runs                int64\n",
       "wickets             int64\n",
       "overs             float64\n",
       "runs_last_5         int64\n",
       "wickets_last_5      int64\n",
       "striker             int64\n",
       "non-striker         int64\n",
       "total               int64\n",
       "dtype: object"
      ]
     },
     "execution_count": 4,
     "metadata": {},
     "output_type": "execute_result"
    }
   ],
   "source": [
    "# Return different datatypes for each columns(float, int, string, bool, etc.)\n",
    "df.dtypes"
   ]
  },
  {
   "cell_type": "code",
   "execution_count": 5,
   "metadata": {},
   "outputs": [
    {
     "name": "stdout",
     "output_type": "stream",
     "text": [
      "<class 'pandas.core.frame.DataFrame'>\n",
      "RangeIndex: 18518 entries, 0 to 18517\n",
      "Data columns (total 15 columns):\n",
      " #   Column          Non-Null Count  Dtype  \n",
      "---  ------          --------------  -----  \n",
      " 0   mid             18518 non-null  int64  \n",
      " 1   date            18518 non-null  object \n",
      " 2   venue           18518 non-null  object \n",
      " 3   bat_team        18518 non-null  object \n",
      " 4   bowl_team       18518 non-null  object \n",
      " 5   batsman         18518 non-null  object \n",
      " 6   bowler          18518 non-null  object \n",
      " 7   runs            18518 non-null  int64  \n",
      " 8   wickets         18518 non-null  int64  \n",
      " 9   overs           18518 non-null  float64\n",
      " 10  runs_last_5     18518 non-null  int64  \n",
      " 11  wickets_last_5  18518 non-null  int64  \n",
      " 12  striker         18518 non-null  int64  \n",
      " 13  non-striker     18518 non-null  int64  \n",
      " 14  total           18518 non-null  int64  \n",
      "dtypes: float64(1), int64(8), object(6)\n",
      "memory usage: 2.1+ MB\n"
     ]
    }
   ],
   "source": [
    "# Return basic information on all columns\n",
    "df.info()"
   ]
  },
  {
   "cell_type": "code",
   "execution_count": 6,
   "metadata": {},
   "outputs": [
    {
     "data": {
      "text/plain": [
       "mid               0\n",
       "date              0\n",
       "venue             0\n",
       "bat_team          0\n",
       "bowl_team         0\n",
       "batsman           0\n",
       "bowler            0\n",
       "runs              0\n",
       "wickets           0\n",
       "overs             0\n",
       "runs_last_5       0\n",
       "wickets_last_5    0\n",
       "striker           0\n",
       "non-striker       0\n",
       "total             0\n",
       "dtype: int64"
      ]
     },
     "execution_count": 6,
     "metadata": {},
     "output_type": "execute_result"
    }
   ],
   "source": [
    "# Return a coloumn having null values\n",
    "df.isnull().sum()"
   ]
  },
  {
   "cell_type": "code",
   "execution_count": 7,
   "metadata": {},
   "outputs": [],
   "source": [
    "# --- Data Cleaning ---\n",
    "# Removing unwanted columns\n",
    "columns_to_remove = ['mid','batsman', 'bowler', 'striker', 'non-striker']\n",
    "df.drop(labels=columns_to_remove, axis=1, inplace=True)"
   ]
  },
  {
   "cell_type": "code",
   "execution_count": 8,
   "metadata": {},
   "outputs": [
    {
     "data": {
      "text/html": [
       "<div>\n",
       "<style scoped>\n",
       "    .dataframe tbody tr th:only-of-type {\n",
       "        vertical-align: middle;\n",
       "    }\n",
       "\n",
       "    .dataframe tbody tr th {\n",
       "        vertical-align: top;\n",
       "    }\n",
       "\n",
       "    .dataframe thead th {\n",
       "        text-align: right;\n",
       "    }\n",
       "</style>\n",
       "<table border=\"1\" class=\"dataframe\">\n",
       "  <thead>\n",
       "    <tr style=\"text-align: right;\">\n",
       "      <th></th>\n",
       "      <th>date</th>\n",
       "      <th>venue</th>\n",
       "      <th>bat_team</th>\n",
       "      <th>bowl_team</th>\n",
       "      <th>runs</th>\n",
       "      <th>wickets</th>\n",
       "      <th>overs</th>\n",
       "      <th>runs_last_5</th>\n",
       "      <th>wickets_last_5</th>\n",
       "      <th>total</th>\n",
       "    </tr>\n",
       "  </thead>\n",
       "  <tbody>\n",
       "    <tr>\n",
       "      <th>0</th>\n",
       "      <td>2005-06-13</td>\n",
       "      <td>M Chinnaswamy Stadium, Bangalore</td>\n",
       "      <td>England</td>\n",
       "      <td>Australia</td>\n",
       "      <td>0</td>\n",
       "      <td>0</td>\n",
       "      <td>0.1</td>\n",
       "      <td>0</td>\n",
       "      <td>0</td>\n",
       "      <td>179</td>\n",
       "    </tr>\n",
       "    <tr>\n",
       "      <th>1</th>\n",
       "      <td>2005-06-13</td>\n",
       "      <td>M Chinnaswamy Stadium, Bangalore</td>\n",
       "      <td>England</td>\n",
       "      <td>Australia</td>\n",
       "      <td>1</td>\n",
       "      <td>0</td>\n",
       "      <td>0.2</td>\n",
       "      <td>1</td>\n",
       "      <td>0</td>\n",
       "      <td>179</td>\n",
       "    </tr>\n",
       "    <tr>\n",
       "      <th>2</th>\n",
       "      <td>2005-06-13</td>\n",
       "      <td>M Chinnaswamy Stadium, Bangalore</td>\n",
       "      <td>England</td>\n",
       "      <td>Australia</td>\n",
       "      <td>1</td>\n",
       "      <td>0</td>\n",
       "      <td>0.3</td>\n",
       "      <td>1</td>\n",
       "      <td>0</td>\n",
       "      <td>179</td>\n",
       "    </tr>\n",
       "    <tr>\n",
       "      <th>3</th>\n",
       "      <td>2005-06-13</td>\n",
       "      <td>M Chinnaswamy Stadium, Bangalore</td>\n",
       "      <td>England</td>\n",
       "      <td>Australia</td>\n",
       "      <td>1</td>\n",
       "      <td>0</td>\n",
       "      <td>0.4</td>\n",
       "      <td>1</td>\n",
       "      <td>0</td>\n",
       "      <td>179</td>\n",
       "    </tr>\n",
       "    <tr>\n",
       "      <th>4</th>\n",
       "      <td>2005-06-13</td>\n",
       "      <td>M Chinnaswamy Stadium, Bangalore</td>\n",
       "      <td>England</td>\n",
       "      <td>Australia</td>\n",
       "      <td>1</td>\n",
       "      <td>0</td>\n",
       "      <td>0.5</td>\n",
       "      <td>1</td>\n",
       "      <td>0</td>\n",
       "      <td>179</td>\n",
       "    </tr>\n",
       "  </tbody>\n",
       "</table>\n",
       "</div>"
      ],
      "text/plain": [
       "         date                             venue bat_team  bowl_team  runs  \\\n",
       "0  2005-06-13  M Chinnaswamy Stadium, Bangalore  England  Australia     0   \n",
       "1  2005-06-13  M Chinnaswamy Stadium, Bangalore  England  Australia     1   \n",
       "2  2005-06-13  M Chinnaswamy Stadium, Bangalore  England  Australia     1   \n",
       "3  2005-06-13  M Chinnaswamy Stadium, Bangalore  England  Australia     1   \n",
       "4  2005-06-13  M Chinnaswamy Stadium, Bangalore  England  Australia     1   \n",
       "\n",
       "   wickets  overs  runs_last_5  wickets_last_5  total  \n",
       "0        0    0.1            0               0    179  \n",
       "1        0    0.2            1               0    179  \n",
       "2        0    0.3            1               0    179  \n",
       "3        0    0.4            1               0    179  \n",
       "4        0    0.5            1               0    179  "
      ]
     },
     "execution_count": 8,
     "metadata": {},
     "output_type": "execute_result"
    }
   ],
   "source": [
    "df.head()"
   ]
  },
  {
   "cell_type": "code",
   "execution_count": 9,
   "metadata": {},
   "outputs": [
    {
     "data": {
      "text/plain": [
       "array(['England', 'Australia', 'South Africa', 'Sri Lanka', 'West Indies',\n",
       "       'Kenya', 'Pakistan', 'India', 'New Zealand', 'Bangladesh',\n",
       "       'Zimbabwe', 'Bermuda', 'Scotland', 'Ireland'], dtype=object)"
      ]
     },
     "execution_count": 9,
     "metadata": {},
     "output_type": "execute_result"
    }
   ],
   "source": [
    "df['bat_team'].unique()"
   ]
  },
  {
   "cell_type": "code",
   "execution_count": 10,
   "metadata": {},
   "outputs": [],
   "source": [
    "# Keeping only consistent teams\n",
    "consistent_teams = ['England', 'Australia', 'South Africa', 'Sri Lanka', 'West Indies',\n",
    "                    'Kenya', 'Pakistan', 'India', 'New Zealand', 'Bangladesh', 'Zimbabwe', 'Ireland']"
   ]
  },
  {
   "cell_type": "code",
   "execution_count": 11,
   "metadata": {},
   "outputs": [],
   "source": [
    "df = df[(df['bat_team'].isin(consistent_teams)) & (df['bowl_team'].isin(consistent_teams))]"
   ]
  },
  {
   "cell_type": "code",
   "execution_count": 12,
   "metadata": {},
   "outputs": [],
   "source": [
    "# Removing the first 5 overs data in every match\n",
    "df = df[df['overs']>=5.0]"
   ]
  },
  {
   "cell_type": "code",
   "execution_count": 13,
   "metadata": {},
   "outputs": [
    {
     "data": {
      "text/html": [
       "<div>\n",
       "<style scoped>\n",
       "    .dataframe tbody tr th:only-of-type {\n",
       "        vertical-align: middle;\n",
       "    }\n",
       "\n",
       "    .dataframe tbody tr th {\n",
       "        vertical-align: top;\n",
       "    }\n",
       "\n",
       "    .dataframe thead th {\n",
       "        text-align: right;\n",
       "    }\n",
       "</style>\n",
       "<table border=\"1\" class=\"dataframe\">\n",
       "  <thead>\n",
       "    <tr style=\"text-align: right;\">\n",
       "      <th></th>\n",
       "      <th>date</th>\n",
       "      <th>venue</th>\n",
       "      <th>bat_team</th>\n",
       "      <th>bowl_team</th>\n",
       "      <th>runs</th>\n",
       "      <th>wickets</th>\n",
       "      <th>overs</th>\n",
       "      <th>runs_last_5</th>\n",
       "      <th>wickets_last_5</th>\n",
       "      <th>total</th>\n",
       "    </tr>\n",
       "  </thead>\n",
       "  <tbody>\n",
       "    <tr>\n",
       "      <th>34</th>\n",
       "      <td>2005-06-13</td>\n",
       "      <td>M Chinnaswamy Stadium, Bangalore</td>\n",
       "      <td>England</td>\n",
       "      <td>Australia</td>\n",
       "      <td>44</td>\n",
       "      <td>1</td>\n",
       "      <td>5.1</td>\n",
       "      <td>43</td>\n",
       "      <td>1</td>\n",
       "      <td>179</td>\n",
       "    </tr>\n",
       "    <tr>\n",
       "      <th>35</th>\n",
       "      <td>2005-06-13</td>\n",
       "      <td>M Chinnaswamy Stadium, Bangalore</td>\n",
       "      <td>England</td>\n",
       "      <td>Australia</td>\n",
       "      <td>44</td>\n",
       "      <td>1</td>\n",
       "      <td>5.2</td>\n",
       "      <td>42</td>\n",
       "      <td>1</td>\n",
       "      <td>179</td>\n",
       "    </tr>\n",
       "    <tr>\n",
       "      <th>36</th>\n",
       "      <td>2005-06-13</td>\n",
       "      <td>M Chinnaswamy Stadium, Bangalore</td>\n",
       "      <td>England</td>\n",
       "      <td>Australia</td>\n",
       "      <td>48</td>\n",
       "      <td>1</td>\n",
       "      <td>5.3</td>\n",
       "      <td>44</td>\n",
       "      <td>1</td>\n",
       "      <td>179</td>\n",
       "    </tr>\n",
       "    <tr>\n",
       "      <th>37</th>\n",
       "      <td>2005-06-13</td>\n",
       "      <td>M Chinnaswamy Stadium, Bangalore</td>\n",
       "      <td>England</td>\n",
       "      <td>Australia</td>\n",
       "      <td>49</td>\n",
       "      <td>1</td>\n",
       "      <td>5.4</td>\n",
       "      <td>45</td>\n",
       "      <td>1</td>\n",
       "      <td>179</td>\n",
       "    </tr>\n",
       "    <tr>\n",
       "      <th>38</th>\n",
       "      <td>2005-06-13</td>\n",
       "      <td>M Chinnaswamy Stadium, Bangalore</td>\n",
       "      <td>England</td>\n",
       "      <td>Australia</td>\n",
       "      <td>49</td>\n",
       "      <td>2</td>\n",
       "      <td>5.5</td>\n",
       "      <td>45</td>\n",
       "      <td>2</td>\n",
       "      <td>179</td>\n",
       "    </tr>\n",
       "  </tbody>\n",
       "</table>\n",
       "</div>"
      ],
      "text/plain": [
       "          date                             venue bat_team  bowl_team  runs  \\\n",
       "34  2005-06-13  M Chinnaswamy Stadium, Bangalore  England  Australia    44   \n",
       "35  2005-06-13  M Chinnaswamy Stadium, Bangalore  England  Australia    44   \n",
       "36  2005-06-13  M Chinnaswamy Stadium, Bangalore  England  Australia    48   \n",
       "37  2005-06-13  M Chinnaswamy Stadium, Bangalore  England  Australia    49   \n",
       "38  2005-06-13  M Chinnaswamy Stadium, Bangalore  England  Australia    49   \n",
       "\n",
       "    wickets  overs  runs_last_5  wickets_last_5  total  \n",
       "34        1    5.1           43               1    179  \n",
       "35        1    5.2           42               1    179  \n",
       "36        1    5.3           44               1    179  \n",
       "37        1    5.4           45               1    179  \n",
       "38        2    5.5           45               2    179  "
      ]
     },
     "execution_count": 13,
     "metadata": {},
     "output_type": "execute_result"
    }
   ],
   "source": [
    "df.head()"
   ]
  },
  {
   "cell_type": "code",
   "execution_count": 14,
   "metadata": {},
   "outputs": [
    {
     "name": "stdout",
     "output_type": "stream",
     "text": [
      "['England' 'Australia' 'South Africa' 'Sri Lanka' 'West Indies' 'Kenya'\n",
      " 'India' 'New Zealand' 'Bangladesh' 'Pakistan' 'Zimbabwe' 'Ireland']\n"
     ]
    }
   ],
   "source": [
    "print(df['bat_team'].unique())"
   ]
  },
  {
   "cell_type": "code",
   "execution_count": 15,
   "metadata": {},
   "outputs": [
    {
     "name": "stdout",
     "output_type": "stream",
     "text": [
      "['Australia' 'New Zealand' 'Pakistan' 'England' 'South Africa' 'India'\n",
      " 'Zimbabwe' 'Bangladesh' 'Kenya' 'Sri Lanka' 'West Indies' 'Ireland']\n"
     ]
    }
   ],
   "source": [
    "print(df['bowl_team'].unique())"
   ]
  },
  {
   "cell_type": "code",
   "execution_count": 16,
   "metadata": {},
   "outputs": [],
   "source": [
    "# Converting the column 'date' from string into datetime object\n",
    "from datetime import datetime\n",
    "df['date'] = df['date'].apply(lambda x: datetime.strptime(x, '%Y-%m-%d'))"
   ]
  },
  {
   "cell_type": "code",
   "execution_count": 17,
   "metadata": {},
   "outputs": [
    {
     "data": {
      "image/png": "[encoded data removed]",
      "text/plain": [
       "<Figure size 936x720 with 2 Axes>"
      ]
     },
     "metadata": {
      "needs_background": "light"
     },
     "output_type": "display_data"
    }
   ],
   "source": [
    "# Selecting correlated features using Heatmap\n",
    "import matplotlib.pyplot as plt\n",
    "import seaborn as sns\n",
    "\n",
    "# Get correlation of all the features of the dataset\n",
    "corr_matrix = df.corr()\n",
    "top_corr_features = corr_matrix.index\n",
    "\n",
    "# Plotting the heatmap\n",
    "plt.figure(figsize=(13,10))\n",
    "g = sns.heatmap(data=df[top_corr_features].corr(), annot=True, cmap='RdYlGn')"
   ]
  },
  {
   "cell_type": "code",
   "execution_count": 18,
   "metadata": {},
   "outputs": [],
   "source": [
    "# --- Data Preprocessing ---\n",
    "# Converting categorical features using OneHotEncoding method\n",
    "encoded_df = pd.get_dummies(data=df, columns=['bat_team', 'bowl_team', 'venue'])"
   ]
  },
  {
   "cell_type": "code",
   "execution_count": 19,
   "metadata": {},
   "outputs": [
    {
     "data": {
      "text/html": [
       "<div>\n",
       "<style scoped>\n",
       "    .dataframe tbody tr th:only-of-type {\n",
       "        vertical-align: middle;\n",
       "    }\n",
       "\n",
       "    .dataframe tbody tr th {\n",
       "        vertical-align: top;\n",
       "    }\n",
       "\n",
       "    .dataframe thead th {\n",
       "        text-align: right;\n",
       "    }\n",
       "</style>\n",
       "<table border=\"1\" class=\"dataframe\">\n",
       "  <thead>\n",
       "    <tr style=\"text-align: right;\">\n",
       "      <th></th>\n",
       "      <th>date</th>\n",
       "      <th>runs</th>\n",
       "      <th>wickets</th>\n",
       "      <th>overs</th>\n",
       "      <th>runs_last_5</th>\n",
       "      <th>wickets_last_5</th>\n",
       "      <th>total</th>\n",
       "      <th>bat_team_Australia</th>\n",
       "      <th>bat_team_Bangladesh</th>\n",
       "      <th>bat_team_England</th>\n",
       "      <th>...</th>\n",
       "      <th>venue_Sardar Patel Stadium, Ahmedabad</th>\n",
       "      <th>venue_Sawai Mansingh Stadium</th>\n",
       "      <th>venue_Sawai Mansingh Stadium, Rajasthan</th>\n",
       "      <th>venue_Shere Bangla National Stadium, Dhaka</th>\n",
       "      <th>venue_Sydney Cricket Ground (SCG)</th>\n",
       "      <th>venue_Trent Bridge</th>\n",
       "      <th>venue_Vidarbha Cricket Association Stadium, Nagpur</th>\n",
       "      <th>venue_Wankhede Stadium</th>\n",
       "      <th>venue_Wankhede Stadium, Mumbai</th>\n",
       "      <th>venue_Zahur Ahmed Chowdhury Stadium, Chattogram</th>\n",
       "    </tr>\n",
       "  </thead>\n",
       "  <tbody>\n",
       "    <tr>\n",
       "      <th>34</th>\n",
       "      <td>2005-06-13</td>\n",
       "      <td>44</td>\n",
       "      <td>1</td>\n",
       "      <td>5.1</td>\n",
       "      <td>43</td>\n",
       "      <td>1</td>\n",
       "      <td>179</td>\n",
       "      <td>0</td>\n",
       "      <td>0</td>\n",
       "      <td>1</td>\n",
       "      <td>...</td>\n",
       "      <td>0</td>\n",
       "      <td>0</td>\n",
       "      <td>0</td>\n",
       "      <td>0</td>\n",
       "      <td>0</td>\n",
       "      <td>0</td>\n",
       "      <td>0</td>\n",
       "      <td>0</td>\n",
       "      <td>0</td>\n",
       "      <td>0</td>\n",
       "    </tr>\n",
       "    <tr>\n",
       "      <th>35</th>\n",
       "      <td>2005-06-13</td>\n",
       "      <td>44</td>\n",
       "      <td>1</td>\n",
       "      <td>5.2</td>\n",
       "      <td>42</td>\n",
       "      <td>1</td>\n",
       "      <td>179</td>\n",
       "      <td>0</td>\n",
       "      <td>0</td>\n",
       "      <td>1</td>\n",
       "      <td>...</td>\n",
       "      <td>0</td>\n",
       "      <td>0</td>\n",
       "      <td>0</td>\n",
       "      <td>0</td>\n",
       "      <td>0</td>\n",
       "      <td>0</td>\n",
       "      <td>0</td>\n",
       "      <td>0</td>\n",
       "      <td>0</td>\n",
       "      <td>0</td>\n",
       "    </tr>\n",
       "    <tr>\n",
       "      <th>36</th>\n",
       "      <td>2005-06-13</td>\n",
       "      <td>48</td>\n",
       "      <td>1</td>\n",
       "      <td>5.3</td>\n",
       "      <td>44</td>\n",
       "      <td>1</td>\n",
       "      <td>179</td>\n",
       "      <td>0</td>\n",
       "      <td>0</td>\n",
       "      <td>1</td>\n",
       "      <td>...</td>\n",
       "      <td>0</td>\n",
       "      <td>0</td>\n",
       "      <td>0</td>\n",
       "      <td>0</td>\n",
       "      <td>0</td>\n",
       "      <td>0</td>\n",
       "      <td>0</td>\n",
       "      <td>0</td>\n",
       "      <td>0</td>\n",
       "      <td>0</td>\n",
       "    </tr>\n",
       "    <tr>\n",
       "      <th>37</th>\n",
       "      <td>2005-06-13</td>\n",
       "      <td>49</td>\n",
       "      <td>1</td>\n",
       "      <td>5.4</td>\n",
       "      <td>45</td>\n",
       "      <td>1</td>\n",
       "      <td>179</td>\n",
       "      <td>0</td>\n",
       "      <td>0</td>\n",
       "      <td>1</td>\n",
       "      <td>...</td>\n",
       "      <td>0</td>\n",
       "      <td>0</td>\n",
       "      <td>0</td>\n",
       "      <td>0</td>\n",
       "      <td>0</td>\n",
       "      <td>0</td>\n",
       "      <td>0</td>\n",
       "      <td>0</td>\n",
       "      <td>0</td>\n",
       "      <td>0</td>\n",
       "    </tr>\n",
       "    <tr>\n",
       "      <th>38</th>\n",
       "      <td>2005-06-13</td>\n",
       "      <td>49</td>\n",
       "      <td>2</td>\n",
       "      <td>5.5</td>\n",
       "      <td>45</td>\n",
       "      <td>2</td>\n",
       "      <td>179</td>\n",
       "      <td>0</td>\n",
       "      <td>0</td>\n",
       "      <td>1</td>\n",
       "      <td>...</td>\n",
       "      <td>0</td>\n",
       "      <td>0</td>\n",
       "      <td>0</td>\n",
       "      <td>0</td>\n",
       "      <td>0</td>\n",
       "      <td>0</td>\n",
       "      <td>0</td>\n",
       "      <td>0</td>\n",
       "      <td>0</td>\n",
       "      <td>0</td>\n",
       "    </tr>\n",
       "  </tbody>\n",
       "</table>\n",
       "<p>5 rows × 59 columns</p>\n",
       "</div>"
      ],
      "text/plain": [
       "         date  runs  wickets  overs  runs_last_5  wickets_last_5  total  \\\n",
       "34 2005-06-13    44        1    5.1           43               1    179   \n",
       "35 2005-06-13    44        1    5.2           42               1    179   \n",
       "36 2005-06-13    48        1    5.3           44               1    179   \n",
       "37 2005-06-13    49        1    5.4           45               1    179   \n",
       "38 2005-06-13    49        2    5.5           45               2    179   \n",
       "\n",
       "    bat_team_Australia  bat_team_Bangladesh  bat_team_England  ...  \\\n",
       "34                   0                    0                 1  ...   \n",
       "35                   0                    0                 1  ...   \n",
       "36                   0                    0                 1  ...   \n",
       "37                   0                    0                 1  ...   \n",
       "38                   0                    0                 1  ...   \n",
       "\n",
       "    venue_Sardar Patel Stadium, Ahmedabad  venue_Sawai Mansingh Stadium  \\\n",
       "34                                      0                             0   \n",
       "35                                      0                             0   \n",
       "36                                      0                             0   \n",
       "37                                      0                             0   \n",
       "38                                      0                             0   \n",
       "\n",
       "    venue_Sawai Mansingh Stadium, Rajasthan  \\\n",
       "34                                        0   \n",
       "35                                        0   \n",
       "36                                        0   \n",
       "37                                        0   \n",
       "38                                        0   \n",
       "\n",
       "    venue_Shere Bangla National Stadium, Dhaka  \\\n",
       "34                                           0   \n",
       "35                                           0   \n",
       "36                                           0   \n",
       "37                                           0   \n",
       "38                                           0   \n",
       "\n",
       "    venue_Sydney Cricket Ground (SCG)  venue_Trent Bridge  \\\n",
       "34                                  0                   0   \n",
       "35                                  0                   0   \n",
       "36                                  0                   0   \n",
       "37                                  0                   0   \n",
       "38                                  0                   0   \n",
       "\n",
       "    venue_Vidarbha Cricket Association Stadium, Nagpur  \\\n",
       "34                                                  0    \n",
       "35                                                  0    \n",
       "36                                                  0    \n",
       "37                                                  0    \n",
       "38                                                  0    \n",
       "\n",
       "    venue_Wankhede Stadium  venue_Wankhede Stadium, Mumbai  \\\n",
       "34                       0                               0   \n",
       "35                       0                               0   \n",
       "36                       0                               0   \n",
       "37                       0                               0   \n",
       "38                       0                               0   \n",
       "\n",
       "    venue_Zahur Ahmed Chowdhury Stadium, Chattogram  \n",
       "34                                                0  \n",
       "35                                                0  \n",
       "36                                                0  \n",
       "37                                                0  \n",
       "38                                                0  \n",
       "\n",
       "[5 rows x 59 columns]"
      ]
     },
     "execution_count": 19,
     "metadata": {},
     "output_type": "execute_result"
    }
   ],
   "source": [
    "encoded_df.head()"
   ]
  },
  {
   "cell_type": "code",
   "execution_count": 20,
   "metadata": {},
   "outputs": [
    {
     "data": {
      "text/plain": [
       "Index(['date', 'runs', 'wickets', 'overs', 'runs_last_5', 'wickets_last_5',\n",
       "       'total', 'bat_team_Australia', 'bat_team_Bangladesh',\n",
       "       'bat_team_England', 'bat_team_India', 'bat_team_Ireland',\n",
       "       'bat_team_Kenya', 'bat_team_New Zealand', 'bat_team_Pakistan',\n",
       "       'bat_team_South Africa', 'bat_team_Sri Lanka', 'bat_team_West Indies',\n",
       "       'bat_team_Zimbabwe', 'bowl_team_Australia', 'bowl_team_Bangladesh',\n",
       "       'bowl_team_England', 'bowl_team_India', 'bowl_team_Ireland',\n",
       "       'bowl_team_Kenya', 'bowl_team_New Zealand', 'bowl_team_Pakistan',\n",
       "       'bowl_team_South Africa', 'bowl_team_Sri Lanka',\n",
       "       'bowl_team_West Indies', 'bowl_team_Zimbabwe',\n",
       "       'venue_Dr. DY Patil Sports Academy, Navi Mumbai', 'venue_Eden Gardens',\n",
       "       'venue_Eden Gardens Stadium, Kolkata', 'venue_Feroz Shah Kotla',\n",
       "       'venue_Feroz Shah Kotla Stadium, Delhi',\n",
       "       'venue_Himachal Pradesh Cricket Association Stadium, Dharamshala',\n",
       "       'venue_M Chinnaswamy Stadium', 'venue_M Chinnaswamy Stadium, Bangalore',\n",
       "       'venue_M.A. Chidambaram Stadium, Chennai',\n",
       "       'venue_MA Chidambaram Stadium, Chepauk',\n",
       "       'venue_Maharashtra Cricket Association Stadium, Pune',\n",
       "       'venue_Mahinda Rajapaka International Stadium, Hambantota',\n",
       "       'venue_Melbourne Cricket Ground, Melbourne',\n",
       "       'venue_Punjab Cricket Association Stadium, Mohali',\n",
       "       'venue_Queen's Park Oval, Port of Spain',\n",
       "       'venue_R. Premadasa Stadium, Colombo',\n",
       "       'venue_Rajiv Gandhi International Stadium, Hyderabad',\n",
       "       'venue_Rajiv Gandhi International Stadium, Uppal',\n",
       "       'venue_Sardar Patel Stadium, Ahmedabad', 'venue_Sawai Mansingh Stadium',\n",
       "       'venue_Sawai Mansingh Stadium, Rajasthan',\n",
       "       'venue_Shere Bangla National Stadium, Dhaka',\n",
       "       'venue_Sydney Cricket Ground (SCG)', 'venue_Trent Bridge',\n",
       "       'venue_Vidarbha Cricket Association Stadium, Nagpur',\n",
       "       'venue_Wankhede Stadium', 'venue_Wankhede Stadium, Mumbai',\n",
       "       'venue_Zahur Ahmed Chowdhury Stadium, Chattogram'],\n",
       "      dtype='object')"
      ]
     },
     "execution_count": 20,
     "metadata": {},
     "output_type": "execute_result"
    }
   ],
   "source": [
    "encoded_df.columns"
   ]
  },
  {
   "cell_type": "code",
   "execution_count": 21,
   "metadata": {},
   "outputs": [],
   "source": [
    "encoded_df = encoded_df[['date', 'bat_team_Australia', 'bat_team_Bangladesh', 'bat_team_England', 'bat_team_India', 'bat_team_Ireland',  'bat_team_Kenya',\n",
    "                         'bat_team_New Zealand', 'bat_team_Pakistan', 'bat_team_South Africa', 'bat_team_Sri Lanka', 'bat_team_West Indies', 'bat_team_Zimbabwe', \n",
    "                         'bowl_team_Australia', 'bowl_team_Bangladesh', 'bowl_team_England', 'bowl_team_India', 'bowl_team_Ireland', 'bowl_team_Kenya',\n",
    "                         'bowl_team_New Zealand', 'bowl_team_Pakistan',  'bowl_team_South Africa', 'bowl_team_Sri Lanka',  'bowl_team_West Indies', 'bowl_team_Zimbabwe',\n",
    "                         'venue_Eden Gardens Stadium, Kolkata', 'venue_Feroz Shah Kotla Stadium, Delhi', 'venue_Himachal Pradesh Cricket Association Stadium, Dharamshala',\n",
    "                         'venue_M Chinnaswamy Stadium, Bangalore', 'venue_M.A. Chidambaram Stadium, Chennai', 'venue_Maharashtra Cricket Association Stadium, Pune',\n",
    "                         'venue_Punjab Cricket Association Stadium, Mohali',  'venue_Rajiv Gandhi International Stadium, Hyderabad',  'venue_Sardar Patel Stadium, Ahmedabad', \n",
    "                         'venue_Sawai Mansingh Stadium, Rajasthan', 'venue_Vidarbha Cricket Association Stadium, Nagpur', 'venue_Wankhede Stadium, Mumbai',\n",
    "                         'venue_Melbourne Cricket Ground, Melbourne',  'venue_Shere Bangla National Stadium, Dhaka',  'venue_R. Premadasa Stadium, Colombo',\n",
    "                         'overs', 'runs', 'wickets', 'runs_last_5', 'wickets_last_5', 'total']]"
   ]
  },
  {
   "cell_type": "code",
   "execution_count": 22,
   "metadata": {},
   "outputs": [],
   "source": [
    "# Splitting the data into train and test set\n",
    "X_train = encoded_df.drop(labels='total', axis=1)[encoded_df['date'].dt.year <= 2008]\n",
    "X_test = encoded_df.drop(labels='total', axis=1)[encoded_df['date'].dt.year >= 2009]"
   ]
  },
  {
   "cell_type": "code",
   "execution_count": 23,
   "metadata": {},
   "outputs": [],
   "source": [
    "y_train = encoded_df[encoded_df['date'].dt.year <= 2008]['total'].values\n",
    "y_test = encoded_df[encoded_df['date'].dt.year >= 2009]['total'].values"
   ]
  },
  {
   "cell_type": "code",
   "execution_count": 24,
   "metadata": {},
   "outputs": [],
   "source": [
    "# Removing the 'date' column\n",
    "X_train.drop(labels='date', axis=True, inplace=True)\n",
    "X_test.drop(labels='date', axis=True, inplace=True)"
   ]
  },
  {
   "cell_type": "markdown",
   "metadata": {},
   "source": [
    "# Linear Regression Model"
   ]
  },
  {
   "cell_type": "code",
   "execution_count": 25,
   "metadata": {},
   "outputs": [
    {
     "data": {
      "text/plain": [
       "LinearRegression()"
      ]
     },
     "execution_count": 25,
     "metadata": {},
     "output_type": "execute_result"
    }
   ],
   "source": [
    "# --- Model Building ---\n",
    "# Linear Regression Model\n",
    "from sklearn.linear_model import LinearRegression\n",
    "t20_regressor = LinearRegression()\n",
    "t20_regressor.fit(X_train,y_train)"
   ]
  },
  {
   "cell_type": "code",
   "execution_count": 26,
   "metadata": {},
   "outputs": [],
   "source": [
    "# Predicting results\n",
    "y_pred_lr = t20_regressor.predict(X_test)"
   ]
  },
  {
   "cell_type": "code",
   "execution_count": 27,
   "metadata": {},
   "outputs": [
    {
     "name": "stdout",
     "output_type": "stream",
     "text": [
      "---- Linear Regression - Model Evaluation ----\n",
      "Mean Absolute Error (MAE): 18.567263423583885\n",
      "Mean Squared Error (MSE): 488.4029321568408\n",
      "Root Mean Squared Error (RMSE): 22.099840093467662\n"
     ]
    }
   ],
   "source": [
    "# Linear Regression - Model Evaluation\n",
    "from sklearn.metrics import mean_absolute_error as mae, mean_squared_error as mse, accuracy_score\n",
    "print(\"---- Linear Regression - Model Evaluation ----\")\n",
    "print(\"Mean Absolute Error (MAE): {}\".format(mae(y_test, y_pred_lr)))\n",
    "print(\"Mean Squared Error (MSE): {}\".format(mse(y_test, y_pred_lr)))\n",
    "print(\"Root Mean Squared Error (RMSE): {}\".format(np.sqrt(mse(y_test, y_pred_lr))))"
   ]
  },
  {
   "cell_type": "code",
   "execution_count": 28,
   "metadata": {},
   "outputs": [
    {
     "data": {
      "text/plain": [
       "80.67921946525883"
      ]
     },
     "execution_count": 28,
     "metadata": {},
     "output_type": "execute_result"
    }
   ],
   "source": [
    "t20_regressor.score(X_train,y_train)*100"
   ]
  },
  {
   "cell_type": "markdown",
   "metadata": {},
   "source": [
    "# Decision Tree Regression Model"
   ]
  },
  {
   "cell_type": "code",
   "execution_count": 29,
   "metadata": {},
   "outputs": [
    {
     "data": {
      "text/plain": [
       "DecisionTreeRegressor()"
      ]
     },
     "execution_count": 29,
     "metadata": {},
     "output_type": "execute_result"
    }
   ],
   "source": [
    "# Decision Tree Regression Model\n",
    "from sklearn.tree import DecisionTreeRegressor\n",
    "decision_regressor = DecisionTreeRegressor()\n",
    "decision_regressor.fit(X_train,y_train)"
   ]
  },
  {
   "cell_type": "code",
   "execution_count": 30,
   "metadata": {},
   "outputs": [],
   "source": [
    "# Predicting results\n",
    "y_pred_dt = decision_regressor.predict(X_test)"
   ]
  },
  {
   "cell_type": "code",
   "execution_count": 31,
   "metadata": {},
   "outputs": [
    {
     "name": "stdout",
     "output_type": "stream",
     "text": [
      "---- Decision Tree Regression - Model Evaluation ----\n",
      "Mean Absolute Error (MAE): 22.538190777895107\n",
      "Mean Squared Error (MSE): 983.6342837029215\n",
      "Root Mean Squared Error (RMSE): 31.36294443611635\n"
     ]
    }
   ],
   "source": [
    "# Decision Tree Regression - Model Evaluation\n",
    "print(\"---- Decision Tree Regression - Model Evaluation ----\")\n",
    "print(\"Mean Absolute Error (MAE): {}\".format(mae(y_test, y_pred_dt)))\n",
    "print(\"Mean Squared Error (MSE): {}\".format(mse(y_test, y_pred_dt)))\n",
    "print(\"Root Mean Squared Error (RMSE): {}\".format(np.sqrt(mse(y_test, y_pred_dt))))"
   ]
  },
  {
   "cell_type": "code",
   "execution_count": 32,
   "metadata": {},
   "outputs": [
    {
     "data": {
      "text/plain": [
       "100.0"
      ]
     },
     "execution_count": 32,
     "metadata": {},
     "output_type": "execute_result"
    }
   ],
   "source": [
    "decision_regressor.score(X_train,y_train)*100"
   ]
  },
  {
   "cell_type": "markdown",
   "metadata": {},
   "source": [
    "# Random Forest Regression Model"
   ]
  },
  {
   "cell_type": "code",
   "execution_count": 33,
   "metadata": {},
   "outputs": [
    {
     "data": {
      "text/plain": [
       "RandomForestRegressor()"
      ]
     },
     "execution_count": 33,
     "metadata": {},
     "output_type": "execute_result"
    }
   ],
   "source": [
    "# Random Forest Regression Model\n",
    "from sklearn.ensemble import RandomForestRegressor\n",
    "random_regressor = RandomForestRegressor()\n",
    "random_regressor.fit(X_train,y_train)"
   ]
  },
  {
   "cell_type": "code",
   "execution_count": 34,
   "metadata": {},
   "outputs": [],
   "source": [
    "# Predicting results\n",
    "y_pred_rf = random_regressor.predict(X_test)"
   ]
  },
  {
   "cell_type": "code",
   "execution_count": 35,
   "metadata": {},
   "outputs": [
    {
     "name": "stdout",
     "output_type": "stream",
     "text": [
      "---- Random Forest Regression - Model Evaluation ----\n",
      "Mean Absolute Error (MAE): 16.062080253431887\n",
      "Mean Squared Error (MSE): 447.5366196761704\n",
      "Root Mean Squared Error (RMSE): 21.155061325275575\n"
     ]
    }
   ],
   "source": [
    "# Random Forest Regression - Model Evaluation\n",
    "print(\"---- Random Forest Regression - Model Evaluation ----\")\n",
    "print(\"Mean Absolute Error (MAE): {}\".format(mae(y_test, y_pred_rf)))\n",
    "print(\"Mean Squared Error (MSE): {}\".format(mse(y_test, y_pred_rf)))\n",
    "print(\"Root Mean Squared Error (RMSE): {}\".format(np.sqrt(mse(y_test, y_pred_rf))))"
   ]
  },
  {
   "cell_type": "code",
   "execution_count": 36,
   "metadata": {},
   "outputs": [
    {
     "data": {
      "text/plain": [
       "99.91944503621049"
      ]
     },
     "execution_count": 36,
     "metadata": {},
     "output_type": "execute_result"
    }
   ],
   "source": [
    "random_regressor.score(X_train,y_train)*100"
   ]
  },
  {
   "cell_type": "markdown",
   "metadata": {},
   "source": [
    "# AdaBoost Model"
   ]
  },
  {
   "cell_type": "code",
   "execution_count": 37,
   "metadata": {},
   "outputs": [
    {
     "data": {
      "text/plain": [
       "AdaBoostRegressor(base_estimator=LinearRegression(), n_estimators=100)"
      ]
     },
     "execution_count": 37,
     "metadata": {},
     "output_type": "execute_result"
    }
   ],
   "source": [
    "# AdaBoost Model using Linear Regression as the base learner\n",
    "from sklearn.ensemble import AdaBoostRegressor\n",
    "adb_regressor = AdaBoostRegressor(base_estimator=t20_regressor, n_estimators=100)\n",
    "adb_regressor.fit(X_train, y_train)"
   ]
  },
  {
   "cell_type": "code",
   "execution_count": 38,
   "metadata": {},
   "outputs": [],
   "source": [
    "# Predicting results\n",
    "y_pred_adb = adb_regressor.predict(X_test)"
   ]
  },
  {
   "cell_type": "code",
   "execution_count": 39,
   "metadata": {},
   "outputs": [
    {
     "name": "stdout",
     "output_type": "stream",
     "text": [
      "---- AdaBoost Regression - Model Evaluation ----\n",
      "Mean Absolute Error (MAE): 19.852475558341546\n",
      "Mean Squared Error (MSE): 578.5333773228899\n",
      "Root Mean Squared Error (RMSE): 24.05272078836176\n"
     ]
    }
   ],
   "source": [
    "# AdaBoost Regression - Model Evaluation\n",
    "print(\"---- AdaBoost Regression - Model Evaluation ----\")\n",
    "print(\"Mean Absolute Error (MAE): {}\".format(mae(y_test, y_pred_adb)))\n",
    "print(\"Mean Squared Error (MSE): {}\".format(mse(y_test, y_pred_adb)))\n",
    "print(\"Root Mean Squared Error (RMSE): {}\".format(np.sqrt(mse(y_test, y_pred_adb))))"
   ]
  },
  {
   "cell_type": "code",
   "execution_count": 40,
   "metadata": {},
   "outputs": [
    {
     "data": {
      "text/plain": [
       "79.8930192343025"
      ]
     },
     "execution_count": 40,
     "metadata": {},
     "output_type": "execute_result"
    }
   ],
   "source": [
    "adb_regressor.score(X_train,y_train)*100"
   ]
  },
  {
   "cell_type": "markdown",
   "metadata": {},
   "source": [
    "# PREDICTION FOR T20 MATCHES"
   ]
  },
  {
   "cell_type": "code",
   "execution_count": 41,
   "metadata": {},
   "outputs": [],
   "source": [
    "def predict_score(batting_team='India', bowling_team='Pakistan', Venue='Wankhede Stadium, Mumbai', overs=6.3, runs=45, wickets=1, \n",
    "                  runs_in_prev_5=52, wickets_in_prev_5=2):\n",
    "        temp_array = list()\n",
    "        \n",
    "        # Batting_team\n",
    "        if batting_team == 'India':\n",
    "            temp_array = temp_array + [1,0,0,0,0,0,0,0,0,0,0,0]\n",
    "        elif batting_team == 'England':\n",
    "            temp_array = temp_array + [0,1,0,0,0,0,0,0,0,0,0,0]\n",
    "        elif batting_team == 'Pakistan':\n",
    "            temp_array = temp_array + [0,0,1,0,0,0,0,0,0,0,0,0]\n",
    "        elif batting_team == 'Sri Lanka':\n",
    "            temp_array = temp_array + [0,0,0,1,0,0,0,0,0,0,0,0]\n",
    "        elif batting_team == 'Australia':\n",
    "            temp_array = temp_array + [0,0,0,0,1,0,0,0,0,0,0,0]\n",
    "        elif batting_team == 'South Africa':\n",
    "            temp_array = temp_array + [0,0,0,0,0,1,0,0,0,0,0,0]\n",
    "        elif batting_team == 'New Zealand':\n",
    "            temp_array = temp_array + [0,0,0,0,0,0,1,0,0,0,0,0]\n",
    "        elif batting_team == 'Bangladesh':\n",
    "            temp_array = temp_array + [0,0,0,0,0,0,0,1,0,0,0,0]\n",
    "        elif batting_team == 'West Indies':\n",
    "            temp_array = temp_array + [0,0,0,0,0,0,0,0,1,0,0,0]\n",
    "        elif batting_team == 'Zimbabwe':\n",
    "            temp_array = temp_array + [0,0,0,0,0,0,0,0,0,1,0,0]\n",
    "        elif batting_team == 'Kenya':\n",
    "            temp_array = temp_array + [0,0,0,0,0,0,0,0,0,0,1,0]    \n",
    "        elif batting_team == 'Ireland':\n",
    "            temp_array = temp_array + [0,0,0,0,0,0,0,0,0,0,0,1]    \n",
    "                    \n",
    "            \n",
    "            \n",
    "        # Bowling_team\n",
    "        if bowling_team == 'India':\n",
    "            temp_array = temp_array + [1,0,0,0,0,0,0,0,0,0,0,0]\n",
    "        elif bowling_team == 'England':\n",
    "            temp_array = temp_array + [0,1,0,0,0,0,0,0,0,0,0,0]\n",
    "        elif bowling_team == 'Pakistan':\n",
    "            temp_array = temp_array + [0,0,1,0,0,0,0,0,0,0,0,0]\n",
    "        elif bowling_team == 'Sri Lanka':\n",
    "            temp_array = temp_array + [0,0,0,1,0,0,0,0,0,0,0,0]\n",
    "        elif bowling_team == 'Australia':\n",
    "            temp_array = temp_array + [0,0,0,0,1,0,0,0,0,0,0,0]\n",
    "        elif bowling_team == 'South Africa':\n",
    "            temp_array = temp_array + [0,0,0,0,0,1,0,0,0,0,0,0]\n",
    "        elif bowling_team == 'New Zealand':\n",
    "            temp_array = temp_array + [0,0,0,0,0,0,1,0,0,0,0,0]\n",
    "        elif bowling_team == 'Bangladesh':\n",
    "            temp_array = temp_array + [0,0,0,0,0,0,0,1,0,0,0,0]\n",
    "        elif bowling_team == 'West Indies':\n",
    "            temp_array = temp_array + [0,0,0,0,0,0,0,0,1,0,0,0]\n",
    "        elif bowling_team == 'Zimbabwe':\n",
    "            temp_array = temp_array + [0,0,0,0,0,0,0,0,0,1,0,0]\n",
    "        elif bowling_team == 'Kenya':\n",
    "            temp_array = temp_array + [0,0,0,0,0,0,0,0,0,0,1,0]\n",
    "        elif bowling_team == 'Ireland':\n",
    "            temp_array = temp_array + [0,0,0,0,0,0,0,0,0,0,0,1]     \n",
    "\n",
    "\n",
    "        # Venue\n",
    "        if Venue == 'M Chinnaswamy Stadium, Bangalore':\n",
    "            temp_array = temp_array + [1,0,0,0,0,0,0,0,0,0,0,0,0,0,0]\n",
    "        elif Venue == 'Punjab Cricket Association Stadium, Mohali':\n",
    "            temp_array = temp_array + [0,1,0,0,0,0,0,0,0,0,0,0,0,0,0]\n",
    "        elif Venue == 'Feroz Shah Kotla Stadium, Delhi':\n",
    "            temp_array = temp_array + [0,0,1,0,0,0,0,0,0,0,0,0,0,0,0]\n",
    "        elif Venue == 'Wankhede Stadium, Mumbai':\n",
    "            temp_array = temp_array + [0,0,0,1,0,0,0,0,0,0,0,0,0,0,0]\n",
    "        elif Venue == 'Eden Gardens Stadium, Kolkata':\n",
    "            temp_array = temp_array + [0,0,0,0,1,0,0,0,0,0,0,0,0,0,0]\n",
    "        elif Venue == 'Maharashtra Cricket Association Stadium, Pune':\n",
    "            temp_array = temp_array + [0,0,0,0,0,1,0,0,0,0,0,0,0,0,0]\n",
    "        elif Venue == 'Vidarbha Cricket Association Stadium, Nagpur':\n",
    "            temp_array = temp_array + [0,0,0,0,0,0,1,0,0,0,0,0,0,0,0]\n",
    "        elif Venue == 'Sawai Mansingh Stadium, Rajasthan':\n",
    "            temp_array = temp_array + [0,0,0,0,0,0,0,1,0,0,0,0,0,0,0]\n",
    "        elif Venue == 'Rajiv Gandhi International Stadium, Hyderabad':\n",
    "            temp_array = temp_array + [0,0,0,0,0,0,0,0,1,0,0,0,0,0,0]\n",
    "        elif Venue == 'M.A. Chidambaram Stadium, Chennai':\n",
    "            temp_array = temp_array + [0,0,0,0,0,0,0,0,0,1,0,0,0,0,0]\n",
    "        elif Venue == 'Himachal Pradesh Cricket Association Stadium, Dharamshala':\n",
    "            temp_array = temp_array + [0,0,0,0,0,0,0,0,0,0,1,0,0,0,0]\n",
    "        elif Venue == 'Sardar Patel Stadium, Ahmedabad':\n",
    "            temp_array = temp_array + [0,0,0,0,0,0,0,0,0,0,0,1,0,0,0]\n",
    "        elif Venue == 'Melbourne Cricket Ground, Melbourne':\n",
    "            temp_array = temp_array + [0,0,0,0,0,0,0,0,0,0,0,0,1,0,0]\n",
    "        elif Venue == 'Shere Bangla National Stadium, Dhaka':\n",
    "            temp_array = temp_array + [0,0,0,0,0,0,0,0,0,0,0,0,0,1,0]\n",
    "        elif Venue == 'R. Premadasa Stadium, Colombo':\n",
    "            temp_array = temp_array + [0,0,0,0,0,0,0,0,0,0,0,0,0,0,1]    \n",
    "            \n",
    "            \n",
    "         # Overs, Runs, Wickets, Runs_in_prev_5, Wickets_in_prev_5  \n",
    "        temp_array = temp_array +[overs, runs, wickets, runs_in_prev_5, wickets_in_prev_5]\n",
    "        \n",
    "        # Converting into numpy array\n",
    "        data = np.array([temp_array])\n",
    "        \n",
    "        # Prediction\n",
    "        return int(t20_regressor.predict(data)[0])\n",
    "        "
   ]
  },
  {
   "cell_type": "markdown",
   "metadata": {},
   "source": [
    "# Prediction 1:"
   ]
  },
  {
   "cell_type": "code",
   "execution_count": 42,
   "metadata": {},
   "outputs": [
    {
     "name": "stdout",
     "output_type": "stream",
     "text": [
      "The final predicted score (range): 132 to 147\n"
     ]
    }
   ],
   "source": [
    "final_score = predict_score(batting_team='India', bowling_team='Australia', Venue='Feroz Shah Kotla Stadium, Delhi', \n",
    "                            overs=7.3, runs=79, wickets=2, runs_in_prev_5=35, wickets_in_prev_5=1)\n",
    "print(\"The final predicted score (range): {} to {}\".format(final_score-10, final_score+5))"
   ]
  },
  {
   "cell_type": "markdown",
   "metadata": {},
   "source": [
    "# Prediction 2:"
   ]
  },
  {
   "cell_type": "code",
   "execution_count": 43,
   "metadata": {},
   "outputs": [
    {
     "name": "stdout",
     "output_type": "stream",
     "text": [
      "The final predicted score (range): 177 to 192\n"
     ]
    }
   ],
   "source": [
    "final_score = predict_score(batting_team='Sri Lanka', bowling_team='Bangladesh', Venue='Shere Bangla National Stadium, Dhaka', \n",
    "                            overs=5.3, runs=39, wickets=2, runs_in_prev_5=35, wickets_in_prev_5=3)\n",
    "print(\"The final predicted score (range): {} to {}\".format(final_score-10, final_score+5))"
   ]
  },
  {
   "cell_type": "markdown",
   "metadata": {},
   "source": [
    "# Prediction 3:"
   ]
  },
  {
   "cell_type": "code",
   "execution_count": 44,
   "metadata": {},
   "outputs": [
    {
     "name": "stdout",
     "output_type": "stream",
     "text": [
      "The final predicted score (range): 188 to 203\n"
     ]
    }
   ],
   "source": [
    "final_score = predict_score(batting_team='England', bowling_team='Pakistan', Venue='Maharashtra Cricket Association Stadium, Pune', \n",
    "                            overs=10.3, runs=104, wickets=2, runs_in_prev_5=65, wickets_in_prev_5=0)\n",
    "print(\"The final predicted score (range): {} to {}\".format(final_score-10, final_score+5))"
   ]
  },
  {
   "cell_type": "markdown",
   "metadata": {},
   "source": [
    "# Prediction 4:"
   ]
  },
  {
   "cell_type": "code",
   "execution_count": 45,
   "metadata": {},
   "outputs": [
    {
     "name": "stdout",
     "output_type": "stream",
     "text": [
      "The final predicted score (range): 136 to 151\n"
     ]
    }
   ],
   "source": [
    "final_score = predict_score(batting_team='Kenya', bowling_team='Ireland', Venue='Sardar Patel Stadium, Ahmedabad', \n",
    "                            overs=6.3, runs=34, wickets=2, runs_in_prev_5=40, wickets_in_prev_5=0)\n",
    "print(\"The final predicted score (range): {} to {}\".format(final_score-10, final_score+5))"
   ]
  },
  {
   "cell_type": "markdown",
   "metadata": {},
   "source": [
    "# Prediction 5:"
   ]
  },
  {
   "cell_type": "code",
   "execution_count": 46,
   "metadata": {},
   "outputs": [
    {
     "name": "stdout",
     "output_type": "stream",
     "text": [
      "The final predicted score (range): 127 to 142\n"
     ]
    }
   ],
   "source": [
    "final_score = predict_score(batting_team='Australia', bowling_team='India', Venue='Melbourne Cricket Ground, Melbourne', \n",
    "                            overs=6.3, runs=62, wickets=0, runs_in_prev_5=43, wickets_in_prev_5=1)\n",
    "print(\"The final predicted score (range): {} to {}\".format(final_score-10, final_score+5))"
   ]
  }
 ],
 "metadata": {
  "kernelspec": {
   "display_name": "Python 3",
   "language": "python",
   "name": "python3"
  },
  "language_info": {
   "codemirror_mode": {
    "name": "ipython",
    "version": 3
   },
   "file_extension": ".py",
   "mimetype": "text/x-python",
   "name": "python",
   "nbconvert_exporter": "python",
   "pygments_lexer": "ipython3",
   "version": "3.8.3"
  }
 },
 "nbformat": 4,
 "nbformat_minor": 4
}
