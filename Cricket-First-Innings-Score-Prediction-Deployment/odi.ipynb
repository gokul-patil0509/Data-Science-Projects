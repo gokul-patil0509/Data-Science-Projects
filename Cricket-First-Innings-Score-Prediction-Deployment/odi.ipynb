{
 "cells": [
  {
   "cell_type": "markdown",
   "metadata": {},
   "source": [
    "# ODI First Innings Score Prediction"
   ]
  },
  {
   "cell_type": "code",
   "execution_count": 1,
   "metadata": {},
   "outputs": [],
   "source": [
    "import pandas as pd\n",
    "import numpy as np\n",
    "import pickle\n",
    "\n",
    "### Loading the dataset\n",
    "df = pd.read_csv('Dataset\\odi.csv')"
   ]
  },
  {
   "cell_type": "code",
   "execution_count": 2,
   "metadata": {},
   "outputs": [
    {
     "data": {
      "text/html": [
       "<div>\n",
       "<style scoped>\n",
       "    .dataframe tbody tr th:only-of-type {\n",
       "        vertical-align: middle;\n",
       "    }\n",
       "\n",
       "    .dataframe tbody tr th {\n",
       "        vertical-align: top;\n",
       "    }\n",
       "\n",
       "    .dataframe thead th {\n",
       "        text-align: right;\n",
       "    }\n",
       "</style>\n",
       "<table border=\"1\" class=\"dataframe\">\n",
       "  <thead>\n",
       "    <tr style=\"text-align: right;\">\n",
       "      <th></th>\n",
       "      <th>mid</th>\n",
       "      <th>date</th>\n",
       "      <th>venue</th>\n",
       "      <th>bat_team</th>\n",
       "      <th>bowl_team</th>\n",
       "      <th>batsman</th>\n",
       "      <th>bowler</th>\n",
       "      <th>runs</th>\n",
       "      <th>wickets</th>\n",
       "      <th>overs</th>\n",
       "      <th>runs_last_10</th>\n",
       "      <th>wickets_last_10</th>\n",
       "      <th>striker</th>\n",
       "      <th>non-striker</th>\n",
       "      <th>total</th>\n",
       "    </tr>\n",
       "  </thead>\n",
       "  <tbody>\n",
       "    <tr>\n",
       "      <th>0</th>\n",
       "      <td>1</td>\n",
       "      <td>2006-06-13</td>\n",
       "      <td>M.A. Chidambaram Stadium, Chennai</td>\n",
       "      <td>England</td>\n",
       "      <td>Ireland</td>\n",
       "      <td>ME Trescothick</td>\n",
       "      <td>DT Johnston</td>\n",
       "      <td>0</td>\n",
       "      <td>0</td>\n",
       "      <td>0.1</td>\n",
       "      <td>0</td>\n",
       "      <td>0</td>\n",
       "      <td>0</td>\n",
       "      <td>0</td>\n",
       "      <td>301</td>\n",
       "    </tr>\n",
       "    <tr>\n",
       "      <th>1</th>\n",
       "      <td>1</td>\n",
       "      <td>2006-06-13</td>\n",
       "      <td>M.A. Chidambaram Stadium, Chennai</td>\n",
       "      <td>England</td>\n",
       "      <td>Ireland</td>\n",
       "      <td>ME Trescothick</td>\n",
       "      <td>DT Johnston</td>\n",
       "      <td>0</td>\n",
       "      <td>0</td>\n",
       "      <td>0.2</td>\n",
       "      <td>0</td>\n",
       "      <td>0</td>\n",
       "      <td>0</td>\n",
       "      <td>0</td>\n",
       "      <td>301</td>\n",
       "    </tr>\n",
       "    <tr>\n",
       "      <th>2</th>\n",
       "      <td>1</td>\n",
       "      <td>2006-06-13</td>\n",
       "      <td>M.A. Chidambaram Stadium, Chennai</td>\n",
       "      <td>England</td>\n",
       "      <td>Ireland</td>\n",
       "      <td>ME Trescothick</td>\n",
       "      <td>DT Johnston</td>\n",
       "      <td>4</td>\n",
       "      <td>0</td>\n",
       "      <td>0.3</td>\n",
       "      <td>4</td>\n",
       "      <td>0</td>\n",
       "      <td>0</td>\n",
       "      <td>0</td>\n",
       "      <td>301</td>\n",
       "    </tr>\n",
       "    <tr>\n",
       "      <th>3</th>\n",
       "      <td>1</td>\n",
       "      <td>2006-06-13</td>\n",
       "      <td>M.A. Chidambaram Stadium, Chennai</td>\n",
       "      <td>England</td>\n",
       "      <td>Ireland</td>\n",
       "      <td>ME Trescothick</td>\n",
       "      <td>DT Johnston</td>\n",
       "      <td>6</td>\n",
       "      <td>0</td>\n",
       "      <td>0.4</td>\n",
       "      <td>6</td>\n",
       "      <td>0</td>\n",
       "      <td>0</td>\n",
       "      <td>0</td>\n",
       "      <td>301</td>\n",
       "    </tr>\n",
       "    <tr>\n",
       "      <th>4</th>\n",
       "      <td>1</td>\n",
       "      <td>2006-06-13</td>\n",
       "      <td>M.A. Chidambaram Stadium, Chennai</td>\n",
       "      <td>England</td>\n",
       "      <td>Ireland</td>\n",
       "      <td>ME Trescothick</td>\n",
       "      <td>DT Johnston</td>\n",
       "      <td>6</td>\n",
       "      <td>0</td>\n",
       "      <td>0.5</td>\n",
       "      <td>6</td>\n",
       "      <td>0</td>\n",
       "      <td>0</td>\n",
       "      <td>0</td>\n",
       "      <td>301</td>\n",
       "    </tr>\n",
       "  </tbody>\n",
       "</table>\n",
       "</div>"
      ],
      "text/plain": [
       "   mid        date                              venue bat_team bowl_team  \\\n",
       "0    1  2006-06-13  M.A. Chidambaram Stadium, Chennai  England   Ireland   \n",
       "1    1  2006-06-13  M.A. Chidambaram Stadium, Chennai  England   Ireland   \n",
       "2    1  2006-06-13  M.A. Chidambaram Stadium, Chennai  England   Ireland   \n",
       "3    1  2006-06-13  M.A. Chidambaram Stadium, Chennai  England   Ireland   \n",
       "4    1  2006-06-13  M.A. Chidambaram Stadium, Chennai  England   Ireland   \n",
       "\n",
       "          batsman       bowler  runs  wickets  overs  runs_last_10  \\\n",
       "0  ME Trescothick  DT Johnston     0        0    0.1             0   \n",
       "1  ME Trescothick  DT Johnston     0        0    0.2             0   \n",
       "2  ME Trescothick  DT Johnston     4        0    0.3             4   \n",
       "3  ME Trescothick  DT Johnston     6        0    0.4             6   \n",
       "4  ME Trescothick  DT Johnston     6        0    0.5             6   \n",
       "\n",
       "   wickets_last_10  striker  non-striker  total  \n",
       "0                0        0            0    301  \n",
       "1                0        0            0    301  \n",
       "2                0        0            0    301  \n",
       "3                0        0            0    301  \n",
       "4                0        0            0    301  "
      ]
     },
     "execution_count": 2,
     "metadata": {},
     "output_type": "execute_result"
    }
   ],
   "source": [
    "df.head()"
   ]
  },
  {
   "cell_type": "code",
   "execution_count": 3,
   "metadata": {},
   "outputs": [
    {
     "data": {
      "text/plain": [
       "(22656, 15)"
      ]
     },
     "execution_count": 3,
     "metadata": {},
     "output_type": "execute_result"
    }
   ],
   "source": [
    "# Return size of dataset\n",
    "df.shape"
   ]
  },
  {
   "cell_type": "code",
   "execution_count": 4,
   "metadata": {},
   "outputs": [
    {
     "data": {
      "text/plain": [
       "mid                  int64\n",
       "date                object\n",
       "venue               object\n",
       "bat_team            object\n",
       "bowl_team           object\n",
       "batsman             object\n",
       "bowler              object\n",
       "runs                 int64\n",
       "wickets              int64\n",
       "overs              float64\n",
       "runs_last_10         int64\n",
       "wickets_last_10      int64\n",
       "striker              int64\n",
       "non-striker          int64\n",
       "total                int64\n",
       "dtype: object"
      ]
     },
     "execution_count": 4,
     "metadata": {},
     "output_type": "execute_result"
    }
   ],
   "source": [
    "# Return different datatypes for each columns(float, int, string, bool, etc.)\n",
    "df.dtypes"
   ]
  },
  {
   "cell_type": "code",
   "execution_count": 5,
   "metadata": {},
   "outputs": [
    {
     "name": "stdout",
     "output_type": "stream",
     "text": [
      "<class 'pandas.core.frame.DataFrame'>\n",
      "RangeIndex: 22656 entries, 0 to 22655\n",
      "Data columns (total 15 columns):\n",
      " #   Column           Non-Null Count  Dtype  \n",
      "---  ------           --------------  -----  \n",
      " 0   mid              22656 non-null  int64  \n",
      " 1   date             22656 non-null  object \n",
      " 2   venue            22656 non-null  object \n",
      " 3   bat_team         22656 non-null  object \n",
      " 4   bowl_team        22656 non-null  object \n",
      " 5   batsman          22656 non-null  object \n",
      " 6   bowler           22656 non-null  object \n",
      " 7   runs             22656 non-null  int64  \n",
      " 8   wickets          22656 non-null  int64  \n",
      " 9   overs            22656 non-null  float64\n",
      " 10  runs_last_10     22656 non-null  int64  \n",
      " 11  wickets_last_10  22656 non-null  int64  \n",
      " 12  striker          22656 non-null  int64  \n",
      " 13  non-striker      22656 non-null  int64  \n",
      " 14  total            22656 non-null  int64  \n",
      "dtypes: float64(1), int64(8), object(6)\n",
      "memory usage: 2.6+ MB\n"
     ]
    }
   ],
   "source": [
    "# Return basic information on all columns\n",
    "df.info()"
   ]
  },
  {
   "cell_type": "code",
   "execution_count": 6,
   "metadata": {},
   "outputs": [
    {
     "data": {
      "text/plain": [
       "mid                0\n",
       "date               0\n",
       "venue              0\n",
       "bat_team           0\n",
       "bowl_team          0\n",
       "batsman            0\n",
       "bowler             0\n",
       "runs               0\n",
       "wickets            0\n",
       "overs              0\n",
       "runs_last_10       0\n",
       "wickets_last_10    0\n",
       "striker            0\n",
       "non-striker        0\n",
       "total              0\n",
       "dtype: int64"
      ]
     },
     "execution_count": 6,
     "metadata": {},
     "output_type": "execute_result"
    }
   ],
   "source": [
    "# Return a coloumn having null values\n",
    "df.isnull().sum()"
   ]
  },
  {
   "cell_type": "code",
   "execution_count": 7,
   "metadata": {},
   "outputs": [],
   "source": [
    "# --- Data Cleaning ---\n",
    "# Removing unwanted columns\n",
    "columns_to_remove = ['mid','batsman', 'bowler', 'striker', 'non-striker']\n",
    "df.drop(labels=columns_to_remove, axis=1, inplace=True)"
   ]
  },
  {
   "cell_type": "code",
   "execution_count": 8,
   "metadata": {},
   "outputs": [
    {
     "data": {
      "text/html": [
       "<div>\n",
       "<style scoped>\n",
       "    .dataframe tbody tr th:only-of-type {\n",
       "        vertical-align: middle;\n",
       "    }\n",
       "\n",
       "    .dataframe tbody tr th {\n",
       "        vertical-align: top;\n",
       "    }\n",
       "\n",
       "    .dataframe thead th {\n",
       "        text-align: right;\n",
       "    }\n",
       "</style>\n",
       "<table border=\"1\" class=\"dataframe\">\n",
       "  <thead>\n",
       "    <tr style=\"text-align: right;\">\n",
       "      <th></th>\n",
       "      <th>date</th>\n",
       "      <th>venue</th>\n",
       "      <th>bat_team</th>\n",
       "      <th>bowl_team</th>\n",
       "      <th>runs</th>\n",
       "      <th>wickets</th>\n",
       "      <th>overs</th>\n",
       "      <th>runs_last_10</th>\n",
       "      <th>wickets_last_10</th>\n",
       "      <th>total</th>\n",
       "    </tr>\n",
       "  </thead>\n",
       "  <tbody>\n",
       "    <tr>\n",
       "      <th>0</th>\n",
       "      <td>2006-06-13</td>\n",
       "      <td>M.A. Chidambaram Stadium, Chennai</td>\n",
       "      <td>England</td>\n",
       "      <td>Ireland</td>\n",
       "      <td>0</td>\n",
       "      <td>0</td>\n",
       "      <td>0.1</td>\n",
       "      <td>0</td>\n",
       "      <td>0</td>\n",
       "      <td>301</td>\n",
       "    </tr>\n",
       "    <tr>\n",
       "      <th>1</th>\n",
       "      <td>2006-06-13</td>\n",
       "      <td>M.A. Chidambaram Stadium, Chennai</td>\n",
       "      <td>England</td>\n",
       "      <td>Ireland</td>\n",
       "      <td>0</td>\n",
       "      <td>0</td>\n",
       "      <td>0.2</td>\n",
       "      <td>0</td>\n",
       "      <td>0</td>\n",
       "      <td>301</td>\n",
       "    </tr>\n",
       "    <tr>\n",
       "      <th>2</th>\n",
       "      <td>2006-06-13</td>\n",
       "      <td>M.A. Chidambaram Stadium, Chennai</td>\n",
       "      <td>England</td>\n",
       "      <td>Ireland</td>\n",
       "      <td>4</td>\n",
       "      <td>0</td>\n",
       "      <td>0.3</td>\n",
       "      <td>4</td>\n",
       "      <td>0</td>\n",
       "      <td>301</td>\n",
       "    </tr>\n",
       "    <tr>\n",
       "      <th>3</th>\n",
       "      <td>2006-06-13</td>\n",
       "      <td>M.A. Chidambaram Stadium, Chennai</td>\n",
       "      <td>England</td>\n",
       "      <td>Ireland</td>\n",
       "      <td>6</td>\n",
       "      <td>0</td>\n",
       "      <td>0.4</td>\n",
       "      <td>6</td>\n",
       "      <td>0</td>\n",
       "      <td>301</td>\n",
       "    </tr>\n",
       "    <tr>\n",
       "      <th>4</th>\n",
       "      <td>2006-06-13</td>\n",
       "      <td>M.A. Chidambaram Stadium, Chennai</td>\n",
       "      <td>England</td>\n",
       "      <td>Ireland</td>\n",
       "      <td>6</td>\n",
       "      <td>0</td>\n",
       "      <td>0.5</td>\n",
       "      <td>6</td>\n",
       "      <td>0</td>\n",
       "      <td>301</td>\n",
       "    </tr>\n",
       "  </tbody>\n",
       "</table>\n",
       "</div>"
      ],
      "text/plain": [
       "         date                              venue bat_team bowl_team  runs  \\\n",
       "0  2006-06-13  M.A. Chidambaram Stadium, Chennai  England   Ireland     0   \n",
       "1  2006-06-13  M.A. Chidambaram Stadium, Chennai  England   Ireland     0   \n",
       "2  2006-06-13  M.A. Chidambaram Stadium, Chennai  England   Ireland     4   \n",
       "3  2006-06-13  M.A. Chidambaram Stadium, Chennai  England   Ireland     6   \n",
       "4  2006-06-13  M.A. Chidambaram Stadium, Chennai  England   Ireland     6   \n",
       "\n",
       "   wickets  overs  runs_last_10  wickets_last_10  total  \n",
       "0        0    0.1             0                0    301  \n",
       "1        0    0.2             0                0    301  \n",
       "2        0    0.3             4                0    301  \n",
       "3        0    0.4             6                0    301  \n",
       "4        0    0.5             6                0    301  "
      ]
     },
     "execution_count": 8,
     "metadata": {},
     "output_type": "execute_result"
    }
   ],
   "source": [
    "df.head()"
   ]
  },
  {
   "cell_type": "code",
   "execution_count": 9,
   "metadata": {},
   "outputs": [
    {
     "data": {
      "text/plain": [
       "array(['England', 'Pakistan', 'Sri Lanka', 'Australia', 'South Africa',\n",
       "       'New Zealand', 'Bangladesh', 'West Indies', 'India', 'Zimbabwe',\n",
       "       'Ireland', 'Scotland'], dtype=object)"
      ]
     },
     "execution_count": 9,
     "metadata": {},
     "output_type": "execute_result"
    }
   ],
   "source": [
    "df['bat_team'].unique()"
   ]
  },
  {
   "cell_type": "code",
   "execution_count": 10,
   "metadata": {},
   "outputs": [],
   "source": [
    "# Keeping only consistent teams\n",
    "consistent_teams = ['India', 'England', 'Pakistan', 'Sri Lanka', 'Australia', 'South Africa',\n",
    "                     'New Zealand', 'Bangladesh', 'West Indies', 'Zimbabwe',]"
   ]
  },
  {
   "cell_type": "code",
   "execution_count": 11,
   "metadata": {},
   "outputs": [],
   "source": [
    "df = df[(df['bat_team'].isin(consistent_teams)) & (df['bowl_team'].isin(consistent_teams))]"
   ]
  },
  {
   "cell_type": "code",
   "execution_count": 12,
   "metadata": {},
   "outputs": [],
   "source": [
    "# Removing the first 10 overs data in every match\n",
    "df = df[df['overs']>=10.0]"
   ]
  },
  {
   "cell_type": "code",
   "execution_count": 13,
   "metadata": {},
   "outputs": [
    {
     "data": {
      "text/html": [
       "<div>\n",
       "<style scoped>\n",
       "    .dataframe tbody tr th:only-of-type {\n",
       "        vertical-align: middle;\n",
       "    }\n",
       "\n",
       "    .dataframe tbody tr th {\n",
       "        vertical-align: top;\n",
       "    }\n",
       "\n",
       "    .dataframe thead th {\n",
       "        text-align: right;\n",
       "    }\n",
       "</style>\n",
       "<table border=\"1\" class=\"dataframe\">\n",
       "  <thead>\n",
       "    <tr style=\"text-align: right;\">\n",
       "      <th></th>\n",
       "      <th>date</th>\n",
       "      <th>venue</th>\n",
       "      <th>bat_team</th>\n",
       "      <th>bowl_team</th>\n",
       "      <th>runs</th>\n",
       "      <th>wickets</th>\n",
       "      <th>overs</th>\n",
       "      <th>runs_last_10</th>\n",
       "      <th>wickets_last_10</th>\n",
       "      <th>total</th>\n",
       "    </tr>\n",
       "  </thead>\n",
       "  <tbody>\n",
       "    <tr>\n",
       "      <th>377</th>\n",
       "      <td>2006-09-05</td>\n",
       "      <td>Sardar Patel Stadium, Ahmedabad</td>\n",
       "      <td>England</td>\n",
       "      <td>Pakistan</td>\n",
       "      <td>54</td>\n",
       "      <td>1</td>\n",
       "      <td>10.1</td>\n",
       "      <td>25</td>\n",
       "      <td>0</td>\n",
       "      <td>271</td>\n",
       "    </tr>\n",
       "    <tr>\n",
       "      <th>378</th>\n",
       "      <td>2006-09-05</td>\n",
       "      <td>Sardar Patel Stadium, Ahmedabad</td>\n",
       "      <td>England</td>\n",
       "      <td>Pakistan</td>\n",
       "      <td>57</td>\n",
       "      <td>1</td>\n",
       "      <td>10.2</td>\n",
       "      <td>27</td>\n",
       "      <td>0</td>\n",
       "      <td>271</td>\n",
       "    </tr>\n",
       "    <tr>\n",
       "      <th>379</th>\n",
       "      <td>2006-09-05</td>\n",
       "      <td>Sardar Patel Stadium, Ahmedabad</td>\n",
       "      <td>England</td>\n",
       "      <td>Pakistan</td>\n",
       "      <td>61</td>\n",
       "      <td>1</td>\n",
       "      <td>10.3</td>\n",
       "      <td>31</td>\n",
       "      <td>0</td>\n",
       "      <td>271</td>\n",
       "    </tr>\n",
       "    <tr>\n",
       "      <th>380</th>\n",
       "      <td>2006-09-05</td>\n",
       "      <td>Sardar Patel Stadium, Ahmedabad</td>\n",
       "      <td>England</td>\n",
       "      <td>Pakistan</td>\n",
       "      <td>61</td>\n",
       "      <td>1</td>\n",
       "      <td>10.4</td>\n",
       "      <td>27</td>\n",
       "      <td>0</td>\n",
       "      <td>271</td>\n",
       "    </tr>\n",
       "    <tr>\n",
       "      <th>381</th>\n",
       "      <td>2006-09-05</td>\n",
       "      <td>Sardar Patel Stadium, Ahmedabad</td>\n",
       "      <td>England</td>\n",
       "      <td>Pakistan</td>\n",
       "      <td>61</td>\n",
       "      <td>1</td>\n",
       "      <td>10.5</td>\n",
       "      <td>26</td>\n",
       "      <td>0</td>\n",
       "      <td>271</td>\n",
       "    </tr>\n",
       "  </tbody>\n",
       "</table>\n",
       "</div>"
      ],
      "text/plain": [
       "           date                            venue bat_team bowl_team  runs  \\\n",
       "377  2006-09-05  Sardar Patel Stadium, Ahmedabad  England  Pakistan    54   \n",
       "378  2006-09-05  Sardar Patel Stadium, Ahmedabad  England  Pakistan    57   \n",
       "379  2006-09-05  Sardar Patel Stadium, Ahmedabad  England  Pakistan    61   \n",
       "380  2006-09-05  Sardar Patel Stadium, Ahmedabad  England  Pakistan    61   \n",
       "381  2006-09-05  Sardar Patel Stadium, Ahmedabad  England  Pakistan    61   \n",
       "\n",
       "     wickets  overs  runs_last_10  wickets_last_10  total  \n",
       "377        1   10.1            25                0    271  \n",
       "378        1   10.2            27                0    271  \n",
       "379        1   10.3            31                0    271  \n",
       "380        1   10.4            27                0    271  \n",
       "381        1   10.5            26                0    271  "
      ]
     },
     "execution_count": 13,
     "metadata": {},
     "output_type": "execute_result"
    }
   ],
   "source": [
    "df.head()"
   ]
  },
  {
   "cell_type": "code",
   "execution_count": 14,
   "metadata": {},
   "outputs": [
    {
     "name": "stdout",
     "output_type": "stream",
     "text": [
      "['England' 'Pakistan' 'Sri Lanka' 'Australia' 'South Africa' 'New Zealand'\n",
      " 'Bangladesh' 'West Indies' 'India' 'Zimbabwe']\n"
     ]
    }
   ],
   "source": [
    "print(df['bat_team'].unique())"
   ]
  },
  {
   "cell_type": "code",
   "execution_count": 15,
   "metadata": {},
   "outputs": [
    {
     "name": "stdout",
     "output_type": "stream",
     "text": [
      "['Pakistan' 'England' 'Sri Lanka' 'South Africa' 'Australia' 'New Zealand'\n",
      " 'India' 'West Indies' 'Bangladesh' 'Zimbabwe']\n"
     ]
    }
   ],
   "source": [
    "print(df['bowl_team'].unique())"
   ]
  },
  {
   "cell_type": "code",
   "execution_count": 16,
   "metadata": {},
   "outputs": [],
   "source": [
    "# Converting the column 'date' from string into datetime object\n",
    "from datetime import datetime\n",
    "df['date'] = df['date'].apply(lambda x: datetime.strptime(x, '%Y-%m-%d'))"
   ]
  },
  {
   "cell_type": "code",
   "execution_count": 17,
   "metadata": {},
   "outputs": [
    {
     "data": {
      "image/png": "[encoded data removed]",
      "text/plain": [
       "<Figure size 936x720 with 2 Axes>"
      ]
     },
     "metadata": {
      "needs_background": "light"
     },
     "output_type": "display_data"
    }
   ],
   "source": [
    "# Selecting correlated features using Heatmap\n",
    "import matplotlib.pyplot as plt\n",
    "import seaborn as sns\n",
    "\n",
    "# Get correlation of all the features of the dataset\n",
    "corr_matrix = df.corr()\n",
    "top_corr_features = corr_matrix.index\n",
    "\n",
    "# Plotting the heatmap\n",
    "plt.figure(figsize=(13,10))\n",
    "g = sns.heatmap(data=df[top_corr_features].corr(), annot=True, cmap='RdYlGn')"
   ]
  },
  {
   "cell_type": "code",
   "execution_count": 18,
   "metadata": {},
   "outputs": [],
   "source": [
    "# --- Data Preprocessing ---\n",
    "# Converting categorical features using OneHotEncoding method\n",
    "encoded_df = pd.get_dummies(data=df, columns=['bat_team', 'bowl_team', 'venue'])"
   ]
  },
  {
   "cell_type": "code",
   "execution_count": 19,
   "metadata": {},
   "outputs": [
    {
     "data": {
      "text/html": [
       "<div>\n",
       "<style scoped>\n",
       "    .dataframe tbody tr th:only-of-type {\n",
       "        vertical-align: middle;\n",
       "    }\n",
       "\n",
       "    .dataframe tbody tr th {\n",
       "        vertical-align: top;\n",
       "    }\n",
       "\n",
       "    .dataframe thead th {\n",
       "        text-align: right;\n",
       "    }\n",
       "</style>\n",
       "<table border=\"1\" class=\"dataframe\">\n",
       "  <thead>\n",
       "    <tr style=\"text-align: right;\">\n",
       "      <th></th>\n",
       "      <th>date</th>\n",
       "      <th>runs</th>\n",
       "      <th>wickets</th>\n",
       "      <th>overs</th>\n",
       "      <th>runs_last_10</th>\n",
       "      <th>wickets_last_10</th>\n",
       "      <th>total</th>\n",
       "      <th>bat_team_Australia</th>\n",
       "      <th>bat_team_Bangladesh</th>\n",
       "      <th>bat_team_England</th>\n",
       "      <th>...</th>\n",
       "      <th>venue_Mahinda Rajapaka International Stadium, Hambantota</th>\n",
       "      <th>venue_Punjab Cricket Association Stadium, Mohali</th>\n",
       "      <th>venue_R. Premadasa Stadium, Colombo</th>\n",
       "      <th>venue_Rajiv Gandhi International Stadium, Hyderabad</th>\n",
       "      <th>venue_Sardar Patel Stadium, Ahmedabad</th>\n",
       "      <th>venue_Sawai Mansingh Stadium, Rajasthan</th>\n",
       "      <th>venue_Shere Bangla National Stadium, Dhaka</th>\n",
       "      <th>venue_Vidarbha Cricket Association Stadium, Nagpur</th>\n",
       "      <th>venue_Wankhede Stadium, Mumbai</th>\n",
       "      <th>venue_Zahur Ahmed Chowdhury Stadium, Chattogram</th>\n",
       "    </tr>\n",
       "  </thead>\n",
       "  <tbody>\n",
       "    <tr>\n",
       "      <th>377</th>\n",
       "      <td>2006-09-05</td>\n",
       "      <td>54</td>\n",
       "      <td>1</td>\n",
       "      <td>10.1</td>\n",
       "      <td>25</td>\n",
       "      <td>0</td>\n",
       "      <td>271</td>\n",
       "      <td>0</td>\n",
       "      <td>0</td>\n",
       "      <td>1</td>\n",
       "      <td>...</td>\n",
       "      <td>0</td>\n",
       "      <td>0</td>\n",
       "      <td>0</td>\n",
       "      <td>0</td>\n",
       "      <td>1</td>\n",
       "      <td>0</td>\n",
       "      <td>0</td>\n",
       "      <td>0</td>\n",
       "      <td>0</td>\n",
       "      <td>0</td>\n",
       "    </tr>\n",
       "    <tr>\n",
       "      <th>378</th>\n",
       "      <td>2006-09-05</td>\n",
       "      <td>57</td>\n",
       "      <td>1</td>\n",
       "      <td>10.2</td>\n",
       "      <td>27</td>\n",
       "      <td>0</td>\n",
       "      <td>271</td>\n",
       "      <td>0</td>\n",
       "      <td>0</td>\n",
       "      <td>1</td>\n",
       "      <td>...</td>\n",
       "      <td>0</td>\n",
       "      <td>0</td>\n",
       "      <td>0</td>\n",
       "      <td>0</td>\n",
       "      <td>1</td>\n",
       "      <td>0</td>\n",
       "      <td>0</td>\n",
       "      <td>0</td>\n",
       "      <td>0</td>\n",
       "      <td>0</td>\n",
       "    </tr>\n",
       "    <tr>\n",
       "      <th>379</th>\n",
       "      <td>2006-09-05</td>\n",
       "      <td>61</td>\n",
       "      <td>1</td>\n",
       "      <td>10.3</td>\n",
       "      <td>31</td>\n",
       "      <td>0</td>\n",
       "      <td>271</td>\n",
       "      <td>0</td>\n",
       "      <td>0</td>\n",
       "      <td>1</td>\n",
       "      <td>...</td>\n",
       "      <td>0</td>\n",
       "      <td>0</td>\n",
       "      <td>0</td>\n",
       "      <td>0</td>\n",
       "      <td>1</td>\n",
       "      <td>0</td>\n",
       "      <td>0</td>\n",
       "      <td>0</td>\n",
       "      <td>0</td>\n",
       "      <td>0</td>\n",
       "    </tr>\n",
       "    <tr>\n",
       "      <th>380</th>\n",
       "      <td>2006-09-05</td>\n",
       "      <td>61</td>\n",
       "      <td>1</td>\n",
       "      <td>10.4</td>\n",
       "      <td>27</td>\n",
       "      <td>0</td>\n",
       "      <td>271</td>\n",
       "      <td>0</td>\n",
       "      <td>0</td>\n",
       "      <td>1</td>\n",
       "      <td>...</td>\n",
       "      <td>0</td>\n",
       "      <td>0</td>\n",
       "      <td>0</td>\n",
       "      <td>0</td>\n",
       "      <td>1</td>\n",
       "      <td>0</td>\n",
       "      <td>0</td>\n",
       "      <td>0</td>\n",
       "      <td>0</td>\n",
       "      <td>0</td>\n",
       "    </tr>\n",
       "    <tr>\n",
       "      <th>381</th>\n",
       "      <td>2006-09-05</td>\n",
       "      <td>61</td>\n",
       "      <td>1</td>\n",
       "      <td>10.5</td>\n",
       "      <td>26</td>\n",
       "      <td>0</td>\n",
       "      <td>271</td>\n",
       "      <td>0</td>\n",
       "      <td>0</td>\n",
       "      <td>1</td>\n",
       "      <td>...</td>\n",
       "      <td>0</td>\n",
       "      <td>0</td>\n",
       "      <td>0</td>\n",
       "      <td>0</td>\n",
       "      <td>1</td>\n",
       "      <td>0</td>\n",
       "      <td>0</td>\n",
       "      <td>0</td>\n",
       "      <td>0</td>\n",
       "      <td>0</td>\n",
       "    </tr>\n",
       "  </tbody>\n",
       "</table>\n",
       "<p>5 rows × 43 columns</p>\n",
       "</div>"
      ],
      "text/plain": [
       "          date  runs  wickets  overs  runs_last_10  wickets_last_10  total  \\\n",
       "377 2006-09-05    54        1   10.1            25                0    271   \n",
       "378 2006-09-05    57        1   10.2            27                0    271   \n",
       "379 2006-09-05    61        1   10.3            31                0    271   \n",
       "380 2006-09-05    61        1   10.4            27                0    271   \n",
       "381 2006-09-05    61        1   10.5            26                0    271   \n",
       "\n",
       "     bat_team_Australia  bat_team_Bangladesh  bat_team_England  ...  \\\n",
       "377                   0                    0                 1  ...   \n",
       "378                   0                    0                 1  ...   \n",
       "379                   0                    0                 1  ...   \n",
       "380                   0                    0                 1  ...   \n",
       "381                   0                    0                 1  ...   \n",
       "\n",
       "     venue_Mahinda Rajapaka International Stadium, Hambantota  \\\n",
       "377                                                  0          \n",
       "378                                                  0          \n",
       "379                                                  0          \n",
       "380                                                  0          \n",
       "381                                                  0          \n",
       "\n",
       "     venue_Punjab Cricket Association Stadium, Mohali  \\\n",
       "377                                                 0   \n",
       "378                                                 0   \n",
       "379                                                 0   \n",
       "380                                                 0   \n",
       "381                                                 0   \n",
       "\n",
       "     venue_R. Premadasa Stadium, Colombo  \\\n",
       "377                                    0   \n",
       "378                                    0   \n",
       "379                                    0   \n",
       "380                                    0   \n",
       "381                                    0   \n",
       "\n",
       "     venue_Rajiv Gandhi International Stadium, Hyderabad  \\\n",
       "377                                                  0     \n",
       "378                                                  0     \n",
       "379                                                  0     \n",
       "380                                                  0     \n",
       "381                                                  0     \n",
       "\n",
       "     venue_Sardar Patel Stadium, Ahmedabad  \\\n",
       "377                                      1   \n",
       "378                                      1   \n",
       "379                                      1   \n",
       "380                                      1   \n",
       "381                                      1   \n",
       "\n",
       "     venue_Sawai Mansingh Stadium, Rajasthan  \\\n",
       "377                                        0   \n",
       "378                                        0   \n",
       "379                                        0   \n",
       "380                                        0   \n",
       "381                                        0   \n",
       "\n",
       "     venue_Shere Bangla National Stadium, Dhaka  \\\n",
       "377                                           0   \n",
       "378                                           0   \n",
       "379                                           0   \n",
       "380                                           0   \n",
       "381                                           0   \n",
       "\n",
       "     venue_Vidarbha Cricket Association Stadium, Nagpur  \\\n",
       "377                                                  0    \n",
       "378                                                  0    \n",
       "379                                                  0    \n",
       "380                                                  0    \n",
       "381                                                  0    \n",
       "\n",
       "     venue_Wankhede Stadium, Mumbai  \\\n",
       "377                               0   \n",
       "378                               0   \n",
       "379                               0   \n",
       "380                               0   \n",
       "381                               0   \n",
       "\n",
       "     venue_Zahur Ahmed Chowdhury Stadium, Chattogram  \n",
       "377                                                0  \n",
       "378                                                0  \n",
       "379                                                0  \n",
       "380                                                0  \n",
       "381                                                0  \n",
       "\n",
       "[5 rows x 43 columns]"
      ]
     },
     "execution_count": 19,
     "metadata": {},
     "output_type": "execute_result"
    }
   ],
   "source": [
    "encoded_df.head()"
   ]
  },
  {
   "cell_type": "code",
   "execution_count": 20,
   "metadata": {},
   "outputs": [
    {
     "data": {
      "text/plain": [
       "Index(['date', 'runs', 'wickets', 'overs', 'runs_last_10', 'wickets_last_10',\n",
       "       'total', 'bat_team_Australia', 'bat_team_Bangladesh',\n",
       "       'bat_team_England', 'bat_team_India', 'bat_team_New Zealand',\n",
       "       'bat_team_Pakistan', 'bat_team_South Africa', 'bat_team_Sri Lanka',\n",
       "       'bat_team_West Indies', 'bat_team_Zimbabwe', 'bowl_team_Australia',\n",
       "       'bowl_team_Bangladesh', 'bowl_team_England', 'bowl_team_India',\n",
       "       'bowl_team_New Zealand', 'bowl_team_Pakistan', 'bowl_team_South Africa',\n",
       "       'bowl_team_Sri Lanka', 'bowl_team_West Indies', 'bowl_team_Zimbabwe',\n",
       "       'venue_Eden Gardens Stadium, Kolkata',\n",
       "       'venue_Feroz Shah Kotla Stadium, Delhi',\n",
       "       'venue_H. P. C. A. Stadium, Dharamshala',\n",
       "       'venue_M Chinnaswamy Stadium, Bangalore',\n",
       "       'venue_M.A. Chidambaram Stadium, Chennai',\n",
       "       'venue_Maharashtra Cricket Association Stadium, Pune',\n",
       "       'venue_Mahinda Rajapaka International Stadium, Hambantota',\n",
       "       'venue_Punjab Cricket Association Stadium, Mohali',\n",
       "       'venue_R. Premadasa Stadium, Colombo',\n",
       "       'venue_Rajiv Gandhi International Stadium, Hyderabad',\n",
       "       'venue_Sardar Patel Stadium, Ahmedabad',\n",
       "       'venue_Sawai Mansingh Stadium, Rajasthan',\n",
       "       'venue_Shere Bangla National Stadium, Dhaka',\n",
       "       'venue_Vidarbha Cricket Association Stadium, Nagpur',\n",
       "       'venue_Wankhede Stadium, Mumbai',\n",
       "       'venue_Zahur Ahmed Chowdhury Stadium, Chattogram'],\n",
       "      dtype='object')"
      ]
     },
     "execution_count": 20,
     "metadata": {},
     "output_type": "execute_result"
    }
   ],
   "source": [
    "encoded_df.columns"
   ]
  },
  {
   "cell_type": "code",
   "execution_count": 21,
   "metadata": {},
   "outputs": [],
   "source": [
    "# Rearranging the columns\n",
    "encoded_df = encoded_df[['date', 'bat_team_Australia', 'bat_team_Bangladesh',  'bat_team_England', 'bat_team_India', 'bat_team_New Zealand',\n",
    "                         'bat_team_Pakistan', 'bat_team_South Africa', 'bat_team_Sri Lanka',  'bat_team_West Indies', 'bat_team_Zimbabwe', \n",
    "                         'bowl_team_Australia','bowl_team_Bangladesh', 'bowl_team_England', 'bowl_team_India', 'bowl_team_New Zealand',\n",
    "                         'bowl_team_Pakistan', 'bowl_team_South Africa', 'bowl_team_Sri Lanka', 'bowl_team_West Indies', 'bowl_team_Zimbabwe',\n",
    "                         'venue_M Chinnaswamy Stadium, Bangalore',  'venue_Punjab Cricket Association Stadium, Mohali',  'venue_Feroz Shah Kotla Stadium, Delhi', 'venue_Wankhede Stadium, Mumbai', 'venue_Eden Gardens Stadium, Kolkata',\n",
    "                         'venue_Sawai Mansingh Stadium, Rajasthan', 'venue_Rajiv Gandhi International Stadium, Hyderabad',  'venue_M.A. Chidambaram Stadium, Chennai',  'venue_H. P. C. A. Stadium, Dharamshala',\n",
    "                         'venue_Maharashtra Cricket Association Stadium, Pune', 'venue_Vidarbha Cricket Association Stadium, Nagpur',  'venue_Sardar Patel Stadium, Ahmedabad',         \n",
    "                         'overs', 'runs', 'wickets', 'runs_last_10', 'wickets_last_10', 'total']]"
   ]
  },
  {
   "cell_type": "code",
   "execution_count": 22,
   "metadata": {},
   "outputs": [],
   "source": [
    "# Splitting the data into train and test set\n",
    "X_train = encoded_df.drop(labels='total', axis=1)[encoded_df['date'].dt.year <= 2006]\n",
    "X_test = encoded_df.drop(labels='total', axis=1)[encoded_df['date'].dt.year >= 2007]"
   ]
  },
  {
   "cell_type": "code",
   "execution_count": 23,
   "metadata": {},
   "outputs": [],
   "source": [
    "y_train = encoded_df[encoded_df['date'].dt.year <= 2006]['total'].values\n",
    "y_test = encoded_df[encoded_df['date'].dt.year >= 2007]['total'].values"
   ]
  },
  {
   "cell_type": "code",
   "execution_count": 24,
   "metadata": {},
   "outputs": [],
   "source": [
    "# Removing the 'date' column\n",
    "X_train.drop(labels='date', axis=True, inplace=True)\n",
    "X_test.drop(labels='date', axis=True, inplace=True)"
   ]
  },
  {
   "cell_type": "markdown",
   "metadata": {},
   "source": [
    "# Linear Regression Model"
   ]
  },
  {
   "cell_type": "code",
   "execution_count": 25,
   "metadata": {},
   "outputs": [
    {
     "data": {
      "text/plain": [
       "LinearRegression()"
      ]
     },
     "execution_count": 25,
     "metadata": {},
     "output_type": "execute_result"
    }
   ],
   "source": [
    "# --- Model Building ---\n",
    "# Linear Regression Model\n",
    "from sklearn.linear_model import LinearRegression\n",
    "odi_regressor = LinearRegression()\n",
    "odi_regressor.fit(X_train,y_train)"
   ]
  },
  {
   "cell_type": "code",
   "execution_count": 26,
   "metadata": {},
   "outputs": [],
   "source": [
    "# Predicting results\n",
    "y_pred_lr = odi_regressor.predict(X_test)"
   ]
  },
  {
   "cell_type": "code",
   "execution_count": 27,
   "metadata": {},
   "outputs": [
    {
     "name": "stdout",
     "output_type": "stream",
     "text": [
      "---- Linear Regression - Model Evaluation ----\n",
      "Mean Absolute Error (MAE): 27.249411302604653\n",
      "Mean Squared Error (MSE): 1017.3892062466269\n",
      "Root Mean Squared Error (RMSE): 31.8965390951217\n"
     ]
    }
   ],
   "source": [
    "# Linear Regression - Model Evaluation\n",
    "from sklearn.metrics import mean_absolute_error as mae, mean_squared_error as mse, accuracy_score\n",
    "print(\"---- Linear Regression - Model Evaluation ----\")\n",
    "print(\"Mean Absolute Error (MAE): {}\".format(mae(y_test, y_pred_lr)))\n",
    "print(\"Mean Squared Error (MSE): {}\".format(mse(y_test, y_pred_lr)))\n",
    "print(\"Root Mean Squared Error (RMSE): {}\".format(np.sqrt(mse(y_test, y_pred_lr))))"
   ]
  },
  {
   "cell_type": "code",
   "execution_count": 28,
   "metadata": {},
   "outputs": [
    {
     "data": {
      "text/plain": [
       "82.0745679471138"
      ]
     },
     "execution_count": 28,
     "metadata": {},
     "output_type": "execute_result"
    }
   ],
   "source": [
    "odi_regressor.score(X_train,y_train)*100"
   ]
  },
  {
   "cell_type": "markdown",
   "metadata": {},
   "source": [
    "# Decision Tree Regression Model"
   ]
  },
  {
   "cell_type": "code",
   "execution_count": 29,
   "metadata": {},
   "outputs": [
    {
     "data": {
      "text/plain": [
       "DecisionTreeRegressor()"
      ]
     },
     "execution_count": 29,
     "metadata": {},
     "output_type": "execute_result"
    }
   ],
   "source": [
    "# Decision Tree Regression Model\n",
    "from sklearn.tree import DecisionTreeRegressor\n",
    "decision_regressor = DecisionTreeRegressor()\n",
    "decision_regressor.fit(X_train,y_train)"
   ]
  },
  {
   "cell_type": "code",
   "execution_count": 30,
   "metadata": {},
   "outputs": [],
   "source": [
    "# Predicting results\n",
    "y_pred_dt = decision_regressor.predict(X_test)"
   ]
  },
  {
   "cell_type": "code",
   "execution_count": 31,
   "metadata": {},
   "outputs": [
    {
     "name": "stdout",
     "output_type": "stream",
     "text": [
      "---- Decision Tree Regression - Model Evaluation ----\n",
      "Mean Absolute Error (MAE): 40.88036809815951\n",
      "Mean Squared Error (MSE): 2621.696319018405\n",
      "Root Mean Squared Error (RMSE): 51.20250305422973\n"
     ]
    }
   ],
   "source": [
    "# Decision Tree Regression - Model Evaluation\n",
    "print(\"---- Decision Tree Regression - Model Evaluation ----\")\n",
    "print(\"Mean Absolute Error (MAE): {}\".format(mae(y_test, y_pred_dt)))\n",
    "print(\"Mean Squared Error (MSE): {}\".format(mse(y_test, y_pred_dt)))\n",
    "print(\"Root Mean Squared Error (RMSE): {}\".format(np.sqrt(mse(y_test, y_pred_dt))))"
   ]
  },
  {
   "cell_type": "code",
   "execution_count": 32,
   "metadata": {},
   "outputs": [
    {
     "data": {
      "text/plain": [
       "100.0"
      ]
     },
     "execution_count": 32,
     "metadata": {},
     "output_type": "execute_result"
    }
   ],
   "source": [
    "decision_regressor.score(X_train,y_train)*100"
   ]
  },
  {
   "cell_type": "markdown",
   "metadata": {},
   "source": [
    "# Random Forest Regression Model"
   ]
  },
  {
   "cell_type": "code",
   "execution_count": 33,
   "metadata": {},
   "outputs": [
    {
     "data": {
      "text/plain": [
       "RandomForestRegressor()"
      ]
     },
     "execution_count": 33,
     "metadata": {},
     "output_type": "execute_result"
    }
   ],
   "source": [
    "# Random Forest Regression Model\n",
    "from sklearn.ensemble import RandomForestRegressor\n",
    "random_regressor = RandomForestRegressor()\n",
    "random_regressor.fit(X_train,y_train)"
   ]
  },
  {
   "cell_type": "code",
   "execution_count": 34,
   "metadata": {},
   "outputs": [],
   "source": [
    "# Predicting results\n",
    "y_pred_rf = random_regressor.predict(X_test)"
   ]
  },
  {
   "cell_type": "code",
   "execution_count": 35,
   "metadata": {},
   "outputs": [
    {
     "name": "stdout",
     "output_type": "stream",
     "text": [
      "---- Random Forest Regression - Model Evaluation ----\n",
      "Mean Absolute Error (MAE): 31.42527607361963\n",
      "Mean Squared Error (MSE): 1692.1832044989774\n",
      "Root Mean Squared Error (RMSE): 41.13615446901883\n"
     ]
    }
   ],
   "source": [
    "# Random Forest Regression - Model Evaluation\n",
    "print(\"---- Random Forest Regression - Model Evaluation ----\")\n",
    "print(\"Mean Absolute Error (MAE): {}\".format(mae(y_test, y_pred_rf)))\n",
    "print(\"Mean Squared Error (MSE): {}\".format(mse(y_test, y_pred_rf)))\n",
    "print(\"Root Mean Squared Error (RMSE): {}\".format(np.sqrt(mse(y_test, y_pred_rf))))"
   ]
  },
  {
   "cell_type": "code",
   "execution_count": 36,
   "metadata": {},
   "outputs": [
    {
     "data": {
      "text/plain": [
       "99.98126032302866"
      ]
     },
     "execution_count": 36,
     "metadata": {},
     "output_type": "execute_result"
    }
   ],
   "source": [
    "random_regressor.score(X_train,y_train)*100"
   ]
  },
  {
   "cell_type": "markdown",
   "metadata": {},
   "source": [
    "# AdaBoost Model"
   ]
  },
  {
   "cell_type": "code",
   "execution_count": 37,
   "metadata": {},
   "outputs": [
    {
     "data": {
      "text/plain": [
       "AdaBoostRegressor(base_estimator=LinearRegression(), n_estimators=100)"
      ]
     },
     "execution_count": 37,
     "metadata": {},
     "output_type": "execute_result"
    }
   ],
   "source": [
    "# AdaBoost Model using Linear Regression as the base learner\n",
    "from sklearn.ensemble import AdaBoostRegressor\n",
    "adb_regressor = AdaBoostRegressor(base_estimator=odi_regressor, n_estimators=100)\n",
    "adb_regressor.fit(X_train, y_train)"
   ]
  },
  {
   "cell_type": "code",
   "execution_count": 38,
   "metadata": {},
   "outputs": [],
   "source": [
    "# Predicting results\n",
    "y_pred_adb = adb_regressor.predict(X_test)"
   ]
  },
  {
   "cell_type": "code",
   "execution_count": 39,
   "metadata": {},
   "outputs": [
    {
     "name": "stdout",
     "output_type": "stream",
     "text": [
      "---- AdaBoost Regression - Model Evaluation ----\n",
      "Mean Absolute Error (MAE): 27.004606574315662\n",
      "Mean Squared Error (MSE): 1048.1057506850132\n",
      "Root Mean Squared Error (RMSE): 32.374461396060525\n"
     ]
    }
   ],
   "source": [
    "# AdaBoost Regression - Model Evaluation\n",
    "print(\"---- AdaBoost Regression - Model Evaluation ----\")\n",
    "print(\"Mean Absolute Error (MAE): {}\".format(mae(y_test, y_pred_adb)))\n",
    "print(\"Mean Squared Error (MSE): {}\".format(mse(y_test, y_pred_adb)))\n",
    "print(\"Root Mean Squared Error (RMSE): {}\".format(np.sqrt(mse(y_test, y_pred_adb))))"
   ]
  },
  {
   "cell_type": "code",
   "execution_count": 40,
   "metadata": {},
   "outputs": [
    {
     "data": {
      "text/plain": [
       "81.45871524998573"
      ]
     },
     "execution_count": 40,
     "metadata": {},
     "output_type": "execute_result"
    }
   ],
   "source": [
    "adb_regressor.score(X_train,y_train)*100"
   ]
  },
  {
   "cell_type": "markdown",
   "metadata": {},
   "source": [
    "# PREDICTION FOR ODI MATCHES"
   ]
  },
  {
   "cell_type": "code",
   "execution_count": 41,
   "metadata": {},
   "outputs": [],
   "source": [
    "def predict_score(batting_team='India', bowling_team='Pakistan', Venue='Wankhede Stadium, Mumbai', overs=12.3, runs=86, wickets=1, \n",
    "                  runs_in_prev_10=52, wickets_in_prev_10=2):\n",
    "        temp_array = list()\n",
    "        \n",
    "        # batting_team\n",
    "        if batting_team == 'India':\n",
    "            temp_array = temp_array + [1,0,0,0,0,0,0,0,0,0]\n",
    "        elif batting_team == 'England':\n",
    "            temp_array = temp_array + [0,1,0,0,0,0,0,0,0,0]\n",
    "        elif batting_team == 'Pakistan':\n",
    "            temp_array = temp_array + [0,0,1,0,0,0,0,0,0,0]\n",
    "        elif batting_team == 'Sri Lanka':\n",
    "            temp_array = temp_array + [0,0,0,1,0,0,0,0,0,0]\n",
    "        elif batting_team == 'Australia':\n",
    "            temp_array = temp_array + [0,0,0,0,1,0,0,0,0,0]\n",
    "        elif batting_team == 'South Africa':\n",
    "            temp_array = temp_array + [0,0,0,0,0,1,0,0,0,0]\n",
    "        elif batting_team == 'New Zealand':\n",
    "            temp_array = temp_array + [0,0,0,0,0,0,1,0,0,0]\n",
    "        elif batting_team == 'Bangladesh':\n",
    "            temp_array = temp_array + [0,0,0,0,0,0,0,1,0,0]\n",
    "        elif batting_team == 'West Indies':\n",
    "            temp_array = temp_array + [0,0,0,0,0,0,0,0,1,0]\n",
    "        elif batting_team == 'Zimbabwe':\n",
    "            temp_array = temp_array + [0,0,0,0,0,0,0,0,0,1]    \n",
    "            \n",
    "            \n",
    "        # bowling_team\n",
    "        if bowling_team == 'India':\n",
    "            temp_array = temp_array + [1,0,0,0,0,0,0,0,0,0]\n",
    "        elif bowling_team == 'England':\n",
    "            temp_array = temp_array + [0,1,0,0,0,0,0,0,0,0]\n",
    "        elif bowling_team == 'Pakistan':\n",
    "            temp_array = temp_array + [0,0,1,0,0,0,0,0,0,0]\n",
    "        elif bowling_team == 'Sri Lanka':\n",
    "            temp_array = temp_array + [0,0,0,1,0,0,0,0,0,0]\n",
    "        elif bowling_team == 'Australia':\n",
    "            temp_array = temp_array + [0,0,0,0,1,0,0,0,0,0]\n",
    "        elif bowling_team == 'South Africa':\n",
    "            temp_array = temp_array + [0,0,0,0,0,1,0,0,0,0]\n",
    "        elif bowling_team == 'New Zealand':\n",
    "            temp_array = temp_array + [0,0,0,0,0,0,1,0,0,0]\n",
    "        elif bowling_team == 'Bangladesh':\n",
    "            temp_array = temp_array + [0,0,0,0,0,0,0,1,0,0]\n",
    "        elif bowling_team == 'West Indies':\n",
    "            temp_array = temp_array + [0,0,0,0,0,0,0,0,1,0]\n",
    "        elif bowling_team == 'Zimbabwe':\n",
    "            temp_array = temp_array + [0,0,0,0,0,0,0,0,0,1]    \n",
    "\n",
    "\n",
    "        # Venue\n",
    "        if Venue == 'M Chinnaswamy Stadium, Bangalore':\n",
    "            temp_array = temp_array + [1,0,0,0,0,0,0,0,0,0,0,0]\n",
    "        elif Venue == 'Punjab Cricket Association Stadium, Mohali':\n",
    "            temp_array = temp_array + [0,1,0,0,0,0,0,0,0,0,0,0]\n",
    "        elif Venue == 'Feroz Shah Kotla Stadium, Delhi':\n",
    "            temp_array = temp_array + [0,0,1,0,0,0,0,0,0,0,0,0]\n",
    "        elif Venue == 'Wankhede Stadium, Mumbai':\n",
    "            temp_array = temp_array + [0,0,0,1,0,0,0,0,0,0,0,0]\n",
    "        elif Venue == 'Eden Gardens Stadium, Kolkata':\n",
    "            temp_array = temp_array + [0,0,0,0,1,0,0,0,0,0,0,0]\n",
    "        elif Venue == 'Maharashtra Cricket Association Stadium, Pune':\n",
    "            temp_array = temp_array + [0,0,0,0,0,1,0,0,0,0,0,0]\n",
    "        elif Venue == 'Vidarbha Cricket Association Stadium, Nagpur':\n",
    "            temp_array = temp_array + [0,0,0,0,0,0,1,0,0,0,0,0]\n",
    "        elif Venue == 'Sawai Mansingh Stadium, Rajasthan':\n",
    "            temp_array = temp_array + [0,0,0,0,0,0,0,1,0,0,0,0]\n",
    "        elif Venue == 'Rajiv Gandhi International Stadium, Hyderabad':\n",
    "            temp_array = temp_array + [0,0,0,0,0,0,0,0,1,0,0,0]\n",
    "        elif Venue == 'M.A. Chidambaram Stadium, Chennai':\n",
    "            temp_array = temp_array + [0,0,0,0,0,0,0,0,0,1,0,0]\n",
    "        elif Venue == 'H. P. C. A. Stadium, Dharamshala':\n",
    "            temp_array = temp_array + [0,0,0,0,0,0,0,0,0,0,1,0]\n",
    "        elif Venue == 'Sardar Patel Stadium, Ahmedabad':\n",
    "            temp_array = temp_array + [0,0,0,0,0,0,0,0,0,0,0,1]    \n",
    "            \n",
    "        # Overs, Runs, Wickets, Runs_in_prev_10, Wickets_in_prev_10      \n",
    "        temp_array = temp_array +[overs, runs, wickets, runs_in_prev_10, wickets_in_prev_10]\n",
    "        \n",
    "         # Converting into numpy array\n",
    "        data = np.array([temp_array])\n",
    "        \n",
    "        # Prediction\n",
    "        return int(odi_regressor.predict(data)[0])"
   ]
  },
  {
   "cell_type": "markdown",
   "metadata": {},
   "source": [
    "# Prediction 1:"
   ]
  },
  {
   "cell_type": "code",
   "execution_count": 42,
   "metadata": {},
   "outputs": [
    {
     "name": "stdout",
     "output_type": "stream",
     "text": [
      "The final predicted score (range): 297 to 312\n"
     ]
    }
   ],
   "source": [
    "final_score = predict_score(batting_team='India', bowling_team='Australia', Venue='Feroz Shah Kotla Stadium, Delhi', \n",
    "                            overs=10.3, runs=79, wickets=2, runs_in_prev_10=80, wickets_in_prev_10=1)\n",
    "print(\"The final predicted score (range): {} to {}\".format(final_score-10, final_score+5))"
   ]
  },
  {
   "cell_type": "markdown",
   "metadata": {},
   "source": [
    "# Prediction 2:"
   ]
  },
  {
   "cell_type": "code",
   "execution_count": 43,
   "metadata": {},
   "outputs": [
    {
     "name": "stdout",
     "output_type": "stream",
     "text": [
      "The final predicted score (range): 194 to 209\n"
     ]
    }
   ],
   "source": [
    "final_score = predict_score(batting_team='England', bowling_team='New Zealand', Venue='M Chinnaswamy Stadium, Bangalore', \n",
    "                            overs=10.5, runs=86, wickets=3, runs_in_prev_10=55, wickets_in_prev_10=1)\n",
    "print(\"The final predicted score (range): {} to {}\".format(final_score-10, final_score+5))"
   ]
  },
  {
   "cell_type": "markdown",
   "metadata": {},
   "source": [
    "# Prediction 3:"
   ]
  },
  {
   "cell_type": "code",
   "execution_count": 44,
   "metadata": {},
   "outputs": [
    {
     "name": "stdout",
     "output_type": "stream",
     "text": [
      "The final predicted score (range): 317 to 332\n"
     ]
    }
   ],
   "source": [
    "final_score = predict_score(batting_team='Pakistan', bowling_team='South Africa', Venue='Sawai Mansingh Stadium, Rajasthan', \n",
    "                            overs=15.2, runs=102, wickets=3, runs_in_prev_10=89, wickets_in_prev_10=3)\n",
    "print(\"The final predicted score (range): {} to {}\".format(final_score-10, final_score+5))"
   ]
  },
  {
   "cell_type": "markdown",
   "metadata": {},
   "source": [
    "# Prediction 4:"
   ]
  },
  {
   "cell_type": "code",
   "execution_count": 45,
   "metadata": {},
   "outputs": [
    {
     "name": "stdout",
     "output_type": "stream",
     "text": [
      "The final predicted score (range): 313 to 328\n"
     ]
    }
   ],
   "source": [
    "final_score = predict_score(batting_team='India', bowling_team='New Zealand', Venue='Maharashtra Cricket Association Stadium, Pune', \n",
    "                            overs=13.2, runs=102, wickets=1, runs_in_prev_10=89, wickets_in_prev_10=0)\n",
    "print(\"The final predicted score (range): {} to {}\".format(final_score-10, final_score+5))"
   ]
  },
  {
   "cell_type": "markdown",
   "metadata": {},
   "source": [
    "# Prediction 5:"
   ]
  },
  {
   "cell_type": "code",
   "execution_count": 46,
   "metadata": {},
   "outputs": [
    {
     "name": "stdout",
     "output_type": "stream",
     "text": [
      "The final predicted score (range): 223 to 238\n"
     ]
    }
   ],
   "source": [
    "final_score = predict_score(batting_team='Sri Lanka', bowling_team='West Indies', Venue='Sardar Patel Stadium, Ahmedabad', \n",
    "                            overs=11.5, runs=102, wickets=0, runs_in_prev_10=89, wickets_in_prev_10=2)\n",
    "print(\"The final predicted score (range): {} to {}\".format(final_score-10, final_score+5))"
   ]
  }
 ],
 "metadata": {
  "kernelspec": {
   "display_name": "Python 3",
   "language": "python",
   "name": "python3"
  },
  "language_info": {
   "codemirror_mode": {
    "name": "ipython",
    "version": 3
   },
   "file_extension": ".py",
   "mimetype": "text/x-python",
   "name": "python",
   "nbconvert_exporter": "python",
   "pygments_lexer": "ipython3",
   "version": "3.8.3"
  }
 },
 "nbformat": 4,
 "nbformat_minor": 4
}
